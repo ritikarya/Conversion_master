{
 "cells": [
  {
   "cell_type": "markdown",
   "metadata": {},
   "source": [
    "# Importing the libraries"
   ]
  },
  {
   "cell_type": "code",
   "execution_count": 1,
   "metadata": {
    "execution": {
     "iopub.execute_input": "2023-01-21T15:14:51.228252Z",
     "iopub.status.busy": "2023-01-21T15:14:51.227908Z",
     "iopub.status.idle": "2023-01-21T15:14:51.241609Z",
     "shell.execute_reply": "2023-01-21T15:14:51.240032Z",
     "shell.execute_reply.started": "2023-01-21T15:14:51.228224Z"
    }
   },
   "outputs": [],
   "source": [
    "# Importing the main libraries\n",
    "import numpy as np\n",
    "import pandas as pd\n",
    "import matplotlib.pyplot as plt\n",
    "import seaborn as sns\n",
    "%matplotlib inline\n",
    "\n",
    "import warnings\n",
    "warnings.filterwarnings('ignore')"
   ]
  },
  {
   "cell_type": "markdown",
   "metadata": {},
   "source": [
    "# Importing the Dataset"
   ]
  },
  {
   "cell_type": "code",
   "execution_count": 3,
   "metadata": {
    "execution": {
     "iopub.execute_input": "2023-01-21T15:14:51.264071Z",
     "iopub.status.busy": "2023-01-21T15:14:51.263137Z",
     "iopub.status.idle": "2023-01-21T15:14:51.329190Z",
     "shell.execute_reply": "2023-01-21T15:14:51.327689Z",
     "shell.execute_reply.started": "2023-01-21T15:14:51.264031Z"
    }
   },
   "outputs": [
    {
     "data": {
      "text/html": [
       "<div>\n",
       "<style scoped>\n",
       "    .dataframe tbody tr th:only-of-type {\n",
       "        vertical-align: middle;\n",
       "    }\n",
       "\n",
       "    .dataframe tbody tr th {\n",
       "        vertical-align: top;\n",
       "    }\n",
       "\n",
       "    .dataframe thead th {\n",
       "        text-align: right;\n",
       "    }\n",
       "</style>\n",
       "<table border=\"1\" class=\"dataframe\">\n",
       "  <thead>\n",
       "    <tr style=\"text-align: right;\">\n",
       "      <th></th>\n",
       "      <th>Prospect ID</th>\n",
       "      <th>Lead Number</th>\n",
       "      <th>Lead Origin</th>\n",
       "      <th>Lead Source</th>\n",
       "      <th>Do Not Email</th>\n",
       "      <th>Do Not Call</th>\n",
       "      <th>Converted</th>\n",
       "      <th>TotalVisits</th>\n",
       "      <th>Total Time Spent on Website</th>\n",
       "      <th>Page Views Per Visit</th>\n",
       "      <th>...</th>\n",
       "      <th>Get updates on DM Content</th>\n",
       "      <th>Lead Profile</th>\n",
       "      <th>City</th>\n",
       "      <th>Asymmetrique Activity Index</th>\n",
       "      <th>Asymmetrique Profile Index</th>\n",
       "      <th>Asymmetrique Activity Score</th>\n",
       "      <th>Asymmetrique Profile Score</th>\n",
       "      <th>I agree to pay the amount through cheque</th>\n",
       "      <th>A free copy of Mastering The Interview</th>\n",
       "      <th>Last Notable Activity</th>\n",
       "    </tr>\n",
       "  </thead>\n",
       "  <tbody>\n",
       "    <tr>\n",
       "      <th>0</th>\n",
       "      <td>7927b2df-8bba-4d29-b9a2-b6e0beafe620</td>\n",
       "      <td>660737</td>\n",
       "      <td>API</td>\n",
       "      <td>Olark Chat</td>\n",
       "      <td>No</td>\n",
       "      <td>No</td>\n",
       "      <td>0</td>\n",
       "      <td>0.0</td>\n",
       "      <td>0</td>\n",
       "      <td>0.0</td>\n",
       "      <td>...</td>\n",
       "      <td>No</td>\n",
       "      <td>Select</td>\n",
       "      <td>Select</td>\n",
       "      <td>02.Medium</td>\n",
       "      <td>02.Medium</td>\n",
       "      <td>15.0</td>\n",
       "      <td>15.0</td>\n",
       "      <td>No</td>\n",
       "      <td>No</td>\n",
       "      <td>Modified</td>\n",
       "    </tr>\n",
       "    <tr>\n",
       "      <th>1</th>\n",
       "      <td>2a272436-5132-4136-86fa-dcc88c88f482</td>\n",
       "      <td>660728</td>\n",
       "      <td>API</td>\n",
       "      <td>Organic Search</td>\n",
       "      <td>No</td>\n",
       "      <td>No</td>\n",
       "      <td>0</td>\n",
       "      <td>5.0</td>\n",
       "      <td>674</td>\n",
       "      <td>2.5</td>\n",
       "      <td>...</td>\n",
       "      <td>No</td>\n",
       "      <td>Select</td>\n",
       "      <td>Select</td>\n",
       "      <td>02.Medium</td>\n",
       "      <td>02.Medium</td>\n",
       "      <td>15.0</td>\n",
       "      <td>15.0</td>\n",
       "      <td>No</td>\n",
       "      <td>No</td>\n",
       "      <td>Email Opened</td>\n",
       "    </tr>\n",
       "    <tr>\n",
       "      <th>2</th>\n",
       "      <td>8cc8c611-a219-4f35-ad23-fdfd2656bd8a</td>\n",
       "      <td>660727</td>\n",
       "      <td>Landing Page Submission</td>\n",
       "      <td>Direct Traffic</td>\n",
       "      <td>No</td>\n",
       "      <td>No</td>\n",
       "      <td>1</td>\n",
       "      <td>2.0</td>\n",
       "      <td>1532</td>\n",
       "      <td>2.0</td>\n",
       "      <td>...</td>\n",
       "      <td>No</td>\n",
       "      <td>Potential Lead</td>\n",
       "      <td>Mumbai</td>\n",
       "      <td>02.Medium</td>\n",
       "      <td>01.High</td>\n",
       "      <td>14.0</td>\n",
       "      <td>20.0</td>\n",
       "      <td>No</td>\n",
       "      <td>Yes</td>\n",
       "      <td>Email Opened</td>\n",
       "    </tr>\n",
       "    <tr>\n",
       "      <th>3</th>\n",
       "      <td>0cc2df48-7cf4-4e39-9de9-19797f9b38cc</td>\n",
       "      <td>660719</td>\n",
       "      <td>Landing Page Submission</td>\n",
       "      <td>Direct Traffic</td>\n",
       "      <td>No</td>\n",
       "      <td>No</td>\n",
       "      <td>0</td>\n",
       "      <td>1.0</td>\n",
       "      <td>305</td>\n",
       "      <td>1.0</td>\n",
       "      <td>...</td>\n",
       "      <td>No</td>\n",
       "      <td>Select</td>\n",
       "      <td>Mumbai</td>\n",
       "      <td>02.Medium</td>\n",
       "      <td>01.High</td>\n",
       "      <td>13.0</td>\n",
       "      <td>17.0</td>\n",
       "      <td>No</td>\n",
       "      <td>No</td>\n",
       "      <td>Modified</td>\n",
       "    </tr>\n",
       "    <tr>\n",
       "      <th>4</th>\n",
       "      <td>3256f628-e534-4826-9d63-4a8b88782852</td>\n",
       "      <td>660681</td>\n",
       "      <td>Landing Page Submission</td>\n",
       "      <td>Google</td>\n",
       "      <td>No</td>\n",
       "      <td>No</td>\n",
       "      <td>1</td>\n",
       "      <td>2.0</td>\n",
       "      <td>1428</td>\n",
       "      <td>1.0</td>\n",
       "      <td>...</td>\n",
       "      <td>No</td>\n",
       "      <td>Select</td>\n",
       "      <td>Mumbai</td>\n",
       "      <td>02.Medium</td>\n",
       "      <td>01.High</td>\n",
       "      <td>15.0</td>\n",
       "      <td>18.0</td>\n",
       "      <td>No</td>\n",
       "      <td>No</td>\n",
       "      <td>Modified</td>\n",
       "    </tr>\n",
       "  </tbody>\n",
       "</table>\n",
       "<p>5 rows × 37 columns</p>\n",
       "</div>"
      ],
      "text/plain": [
       "                            Prospect ID  Lead Number              Lead Origin  \\\n",
       "0  7927b2df-8bba-4d29-b9a2-b6e0beafe620       660737                      API   \n",
       "1  2a272436-5132-4136-86fa-dcc88c88f482       660728                      API   \n",
       "2  8cc8c611-a219-4f35-ad23-fdfd2656bd8a       660727  Landing Page Submission   \n",
       "3  0cc2df48-7cf4-4e39-9de9-19797f9b38cc       660719  Landing Page Submission   \n",
       "4  3256f628-e534-4826-9d63-4a8b88782852       660681  Landing Page Submission   \n",
       "\n",
       "      Lead Source Do Not Email Do Not Call  Converted  TotalVisits  \\\n",
       "0      Olark Chat           No          No          0          0.0   \n",
       "1  Organic Search           No          No          0          5.0   \n",
       "2  Direct Traffic           No          No          1          2.0   \n",
       "3  Direct Traffic           No          No          0          1.0   \n",
       "4          Google           No          No          1          2.0   \n",
       "\n",
       "   Total Time Spent on Website  Page Views Per Visit  ...  \\\n",
       "0                            0                   0.0  ...   \n",
       "1                          674                   2.5  ...   \n",
       "2                         1532                   2.0  ...   \n",
       "3                          305                   1.0  ...   \n",
       "4                         1428                   1.0  ...   \n",
       "\n",
       "  Get updates on DM Content    Lead Profile    City  \\\n",
       "0                        No          Select  Select   \n",
       "1                        No          Select  Select   \n",
       "2                        No  Potential Lead  Mumbai   \n",
       "3                        No          Select  Mumbai   \n",
       "4                        No          Select  Mumbai   \n",
       "\n",
       "  Asymmetrique Activity Index Asymmetrique Profile Index  \\\n",
       "0                   02.Medium                  02.Medium   \n",
       "1                   02.Medium                  02.Medium   \n",
       "2                   02.Medium                    01.High   \n",
       "3                   02.Medium                    01.High   \n",
       "4                   02.Medium                    01.High   \n",
       "\n",
       "  Asymmetrique Activity Score Asymmetrique Profile Score  \\\n",
       "0                        15.0                       15.0   \n",
       "1                        15.0                       15.0   \n",
       "2                        14.0                       20.0   \n",
       "3                        13.0                       17.0   \n",
       "4                        15.0                       18.0   \n",
       "\n",
       "  I agree to pay the amount through cheque  \\\n",
       "0                                       No   \n",
       "1                                       No   \n",
       "2                                       No   \n",
       "3                                       No   \n",
       "4                                       No   \n",
       "\n",
       "  A free copy of Mastering The Interview Last Notable Activity  \n",
       "0                                     No              Modified  \n",
       "1                                     No          Email Opened  \n",
       "2                                    Yes          Email Opened  \n",
       "3                                     No              Modified  \n",
       "4                                     No              Modified  \n",
       "\n",
       "[5 rows x 37 columns]"
      ]
     },
     "execution_count": 3,
     "metadata": {},
     "output_type": "execute_result"
    }
   ],
   "source": [
    "# loading the csv file\n",
    "leeds=pd.read_csv('leads.csv')\n",
    "leeds.head()"
   ]
  },
  {
   "cell_type": "code",
   "execution_count": 780,
   "metadata": {
    "execution": {
     "iopub.execute_input": "2023-01-21T15:14:51.332421Z",
     "iopub.status.busy": "2023-01-21T15:14:51.332054Z",
     "iopub.status.idle": "2023-01-21T15:14:51.359277Z",
     "shell.execute_reply": "2023-01-21T15:14:51.357686Z",
     "shell.execute_reply.started": "2023-01-21T15:14:51.332392Z"
    }
   },
   "outputs": [
    {
     "name": "stdout",
     "output_type": "stream",
     "text": [
      "<class 'pandas.core.frame.DataFrame'>\n",
      "RangeIndex: 9240 entries, 0 to 9239\n",
      "Data columns (total 37 columns):\n",
      " #   Column                                         Non-Null Count  Dtype  \n",
      "---  ------                                         --------------  -----  \n",
      " 0   Prospect ID                                    9240 non-null   object \n",
      " 1   Lead Number                                    9240 non-null   int64  \n",
      " 2   Lead Origin                                    9240 non-null   object \n",
      " 3   Lead Source                                    9204 non-null   object \n",
      " 4   Do Not Email                                   9240 non-null   object \n",
      " 5   Do Not Call                                    9240 non-null   object \n",
      " 6   Converted                                      9240 non-null   int64  \n",
      " 7   TotalVisits                                    9103 non-null   float64\n",
      " 8   Total Time Spent on Website                    9240 non-null   int64  \n",
      " 9   Page Views Per Visit                           9103 non-null   float64\n",
      " 10  Last Activity                                  9137 non-null   object \n",
      " 11  Country                                        6779 non-null   object \n",
      " 12  Specialization                                 7802 non-null   object \n",
      " 13  How did you hear about X Education             7033 non-null   object \n",
      " 14  What is your current occupation                6550 non-null   object \n",
      " 15  What matters most to you in choosing a course  6531 non-null   object \n",
      " 16  Search                                         9240 non-null   object \n",
      " 17  Magazine                                       9240 non-null   object \n",
      " 18  Newspaper Article                              9240 non-null   object \n",
      " 19  X Education Forums                             9240 non-null   object \n",
      " 20  Newspaper                                      9240 non-null   object \n",
      " 21  Digital Advertisement                          9240 non-null   object \n",
      " 22  Through Recommendations                        9240 non-null   object \n",
      " 23  Receive More Updates About Our Courses         9240 non-null   object \n",
      " 24  Tags                                           5887 non-null   object \n",
      " 25  Lead Quality                                   4473 non-null   object \n",
      " 26  Update me on Supply Chain Content              9240 non-null   object \n",
      " 27  Get updates on DM Content                      9240 non-null   object \n",
      " 28  Lead Profile                                   6531 non-null   object \n",
      " 29  City                                           7820 non-null   object \n",
      " 30  Asymmetrique Activity Index                    5022 non-null   object \n",
      " 31  Asymmetrique Profile Index                     5022 non-null   object \n",
      " 32  Asymmetrique Activity Score                    5022 non-null   float64\n",
      " 33  Asymmetrique Profile Score                     5022 non-null   float64\n",
      " 34  I agree to pay the amount through cheque       9240 non-null   object \n",
      " 35  A free copy of Mastering The Interview         9240 non-null   object \n",
      " 36  Last Notable Activity                          9240 non-null   object \n",
      "dtypes: float64(4), int64(3), object(30)\n",
      "memory usage: 2.6+ MB\n"
     ]
    }
   ],
   "source": [
    "#checking the info of all the columns\n",
    "leeds.info()"
   ]
  },
  {
   "cell_type": "code",
   "execution_count": 781,
   "metadata": {
    "execution": {
     "iopub.execute_input": "2023-01-21T15:14:51.361312Z",
     "iopub.status.busy": "2023-01-21T15:14:51.360898Z",
     "iopub.status.idle": "2023-01-21T15:14:51.369298Z",
     "shell.execute_reply": "2023-01-21T15:14:51.367889Z",
     "shell.execute_reply.started": "2023-01-21T15:14:51.361272Z"
    }
   },
   "outputs": [
    {
     "data": {
      "text/plain": [
       "(9240, 37)"
      ]
     },
     "execution_count": 781,
     "metadata": {},
     "output_type": "execute_result"
    }
   ],
   "source": [
    "# checking the shape of data set\n",
    "leeds.shape"
   ]
  },
  {
   "cell_type": "code",
   "execution_count": 782,
   "metadata": {
    "execution": {
     "iopub.execute_input": "2023-01-21T15:14:51.373301Z",
     "iopub.status.busy": "2023-01-21T15:14:51.372903Z",
     "iopub.status.idle": "2023-01-21T15:14:51.383424Z",
     "shell.execute_reply": "2023-01-21T15:14:51.382364Z",
     "shell.execute_reply.started": "2023-01-21T15:14:51.373263Z"
    }
   },
   "outputs": [
    {
     "data": {
      "text/plain": [
       "Select                   5043\n",
       "Online Search             808\n",
       "Word Of Mouth             348\n",
       "Student of SomeSchool     310\n",
       "Other                     186\n",
       "Multiple Sources          152\n",
       "Advertisements             70\n",
       "Social Media               67\n",
       "Email                      26\n",
       "SMS                        23\n",
       "Name: How did you hear about X Education, dtype: int64"
      ]
     },
     "execution_count": 782,
     "metadata": {},
     "output_type": "execute_result"
    }
   ],
   "source": [
    "# checking for errors in data type\n",
    "leeds['How did you hear about X Education'].value_counts()"
   ]
  },
  {
   "cell_type": "code",
   "execution_count": 783,
   "metadata": {
    "execution": {
     "iopub.execute_input": "2023-01-21T15:14:51.384964Z",
     "iopub.status.busy": "2023-01-21T15:14:51.384694Z",
     "iopub.status.idle": "2023-01-21T15:14:51.532555Z",
     "shell.execute_reply": "2023-01-21T15:14:51.531828Z",
     "shell.execute_reply.started": "2023-01-21T15:14:51.384939Z"
    }
   },
   "outputs": [],
   "source": [
    "# Converting all the values to lower case\n",
    "leeds= leeds.applymap(lambda s:s.lower() if type(s) == str else s)"
   ]
  },
  {
   "cell_type": "code",
   "execution_count": 784,
   "metadata": {
    "execution": {
     "iopub.execute_input": "2023-01-21T15:14:51.535058Z",
     "iopub.status.busy": "2023-01-21T15:14:51.533813Z",
     "iopub.status.idle": "2023-01-21T15:14:51.552356Z",
     "shell.execute_reply": "2023-01-21T15:14:51.551059Z",
     "shell.execute_reply.started": "2023-01-21T15:14:51.535024Z"
    }
   },
   "outputs": [],
   "source": [
    "# Replacing 'Select' with NaN (Since it means no option is selected)\n",
    "leeds = leeds.replace('select',np.nan)"
   ]
  },
  {
   "cell_type": "code",
   "execution_count": 785,
   "metadata": {
    "execution": {
     "iopub.execute_input": "2023-01-21T15:14:51.555510Z",
     "iopub.status.busy": "2023-01-21T15:14:51.554545Z",
     "iopub.status.idle": "2023-01-21T15:14:51.580898Z",
     "shell.execute_reply": "2023-01-21T15:14:51.579859Z",
     "shell.execute_reply.started": "2023-01-21T15:14:51.555479Z"
    }
   },
   "outputs": [
    {
     "data": {
      "text/plain": [
       "Prospect ID                                         0\n",
       "Lead Number                                         0\n",
       "Lead Origin                                         0\n",
       "Lead Source                                        36\n",
       "Do Not Email                                        0\n",
       "Do Not Call                                         0\n",
       "Converted                                           0\n",
       "TotalVisits                                       137\n",
       "Total Time Spent on Website                         0\n",
       "Page Views Per Visit                              137\n",
       "Last Activity                                     103\n",
       "Country                                          2461\n",
       "Specialization                                   3380\n",
       "How did you hear about X Education               7250\n",
       "What is your current occupation                  2690\n",
       "What matters most to you in choosing a course    2709\n",
       "Search                                              0\n",
       "Magazine                                            0\n",
       "Newspaper Article                                   0\n",
       "X Education Forums                                  0\n",
       "Newspaper                                           0\n",
       "Digital Advertisement                               0\n",
       "Through Recommendations                             0\n",
       "Receive More Updates About Our Courses              0\n",
       "Tags                                             3353\n",
       "Lead Quality                                     4767\n",
       "Update me on Supply Chain Content                   0\n",
       "Get updates on DM Content                           0\n",
       "Lead Profile                                     6855\n",
       "City                                             3669\n",
       "Asymmetrique Activity Index                      4218\n",
       "Asymmetrique Profile Index                       4218\n",
       "Asymmetrique Activity Score                      4218\n",
       "Asymmetrique Profile Score                       4218\n",
       "I agree to pay the amount through cheque            0\n",
       "A free copy of Mastering The Interview              0\n",
       "Last Notable Activity                               0\n",
       "dtype: int64"
      ]
     },
     "execution_count": 785,
     "metadata": {},
     "output_type": "execute_result"
    }
   ],
   "source": [
    "#checking the null values\n",
    "leeds.isnull().sum()"
   ]
  },
  {
   "cell_type": "code",
   "execution_count": 786,
   "metadata": {
    "execution": {
     "iopub.execute_input": "2023-01-21T15:14:51.582667Z",
     "iopub.status.busy": "2023-01-21T15:14:51.582347Z",
     "iopub.status.idle": "2023-01-21T15:14:51.613923Z",
     "shell.execute_reply": "2023-01-21T15:14:51.612403Z",
     "shell.execute_reply.started": "2023-01-21T15:14:51.582641Z"
    }
   },
   "outputs": [
    {
     "data": {
      "text/plain": [
       "Prospect ID                                       0.0\n",
       "Lead Number                                       0.0\n",
       "Lead Origin                                       0.0\n",
       "Lead Source                                       0.4\n",
       "Do Not Email                                      0.0\n",
       "Do Not Call                                       0.0\n",
       "Converted                                         0.0\n",
       "TotalVisits                                       1.5\n",
       "Total Time Spent on Website                       0.0\n",
       "Page Views Per Visit                              1.5\n",
       "Last Activity                                     1.1\n",
       "Country                                          26.6\n",
       "Specialization                                   36.6\n",
       "How did you hear about X Education               78.5\n",
       "What is your current occupation                  29.1\n",
       "What matters most to you in choosing a course    29.3\n",
       "Search                                            0.0\n",
       "Magazine                                          0.0\n",
       "Newspaper Article                                 0.0\n",
       "X Education Forums                                0.0\n",
       "Newspaper                                         0.0\n",
       "Digital Advertisement                             0.0\n",
       "Through Recommendations                           0.0\n",
       "Receive More Updates About Our Courses            0.0\n",
       "Tags                                             36.3\n",
       "Lead Quality                                     51.6\n",
       "Update me on Supply Chain Content                 0.0\n",
       "Get updates on DM Content                         0.0\n",
       "Lead Profile                                     74.2\n",
       "City                                             39.7\n",
       "Asymmetrique Activity Index                      45.6\n",
       "Asymmetrique Profile Index                       45.6\n",
       "Asymmetrique Activity Score                      45.6\n",
       "Asymmetrique Profile Score                       45.6\n",
       "I agree to pay the amount through cheque          0.0\n",
       "A free copy of Mastering The Interview            0.0\n",
       "Last Notable Activity                             0.0\n",
       "dtype: float64"
      ]
     },
     "execution_count": 786,
     "metadata": {},
     "output_type": "execute_result"
    }
   ],
   "source": [
    "# checking the percentage of null values in each column.\n",
    "round(leeds.isnull().sum()/len(leeds)*100,1)"
   ]
  },
  {
   "cell_type": "markdown",
   "metadata": {},
   "source": [
    "# Data Cleaning"
   ]
  },
  {
   "cell_type": "markdown",
   "metadata": {},
   "source": [
    "**First of all lets remove the columns with more than 30 percent of null values**"
   ]
  },
  {
   "cell_type": "code",
   "execution_count": 787,
   "metadata": {
    "execution": {
     "iopub.execute_input": "2023-01-21T15:14:51.615865Z",
     "iopub.status.busy": "2023-01-21T15:14:51.615524Z",
     "iopub.status.idle": "2023-01-21T15:14:51.642999Z",
     "shell.execute_reply": "2023-01-21T15:14:51.641645Z",
     "shell.execute_reply.started": "2023-01-21T15:14:51.615837Z"
    }
   },
   "outputs": [
    {
     "data": {
      "text/plain": [
       "Specialization                        36.580087\n",
       "How did you hear about X Education    78.463203\n",
       "Tags                                  36.287879\n",
       "Lead Quality                          51.590909\n",
       "Lead Profile                          74.188312\n",
       "City                                  39.707792\n",
       "Asymmetrique Activity Index           45.649351\n",
       "Asymmetrique Profile Index            45.649351\n",
       "Asymmetrique Activity Score           45.649351\n",
       "Asymmetrique Profile Score            45.649351\n",
       "dtype: float64"
      ]
     },
     "execution_count": 787,
     "metadata": {},
     "output_type": "execute_result"
    }
   ],
   "source": [
    "# Seperating the columns with more than 30 % null values\n",
    "empty=leeds.isnull().sum()/len(leeds)*100\n",
    "empty=empty[empty>=30]\n",
    "empty"
   ]
  },
  {
   "cell_type": "code",
   "execution_count": 788,
   "metadata": {
    "execution": {
     "iopub.execute_input": "2023-01-21T15:14:51.644525Z",
     "iopub.status.busy": "2023-01-21T15:14:51.644224Z",
     "iopub.status.idle": "2023-01-21T15:14:51.664749Z",
     "shell.execute_reply": "2023-01-21T15:14:51.663166Z",
     "shell.execute_reply.started": "2023-01-21T15:14:51.644493Z"
    }
   },
   "outputs": [],
   "source": [
    "# drop the columns\n",
    "empty = list(empty[empty.values>=30].index)\n",
    "leeds.drop(labels=empty,axis=1,inplace=True)"
   ]
  },
  {
   "cell_type": "code",
   "execution_count": 789,
   "metadata": {
    "execution": {
     "iopub.execute_input": "2023-01-21T15:14:51.667106Z",
     "iopub.status.busy": "2023-01-21T15:14:51.666623Z",
     "iopub.status.idle": "2023-01-21T15:14:51.675807Z",
     "shell.execute_reply": "2023-01-21T15:14:51.674163Z",
     "shell.execute_reply.started": "2023-01-21T15:14:51.667067Z"
    }
   },
   "outputs": [
    {
     "data": {
      "text/plain": [
       "(9240, 27)"
      ]
     },
     "execution_count": 789,
     "metadata": {},
     "output_type": "execute_result"
    }
   ],
   "source": [
    "leeds.shape"
   ]
  },
  {
   "cell_type": "code",
   "execution_count": 790,
   "metadata": {
    "execution": {
     "iopub.execute_input": "2023-01-21T15:14:51.677482Z",
     "iopub.status.busy": "2023-01-21T15:14:51.677131Z",
     "iopub.status.idle": "2023-01-21T15:14:51.697641Z",
     "shell.execute_reply": "2023-01-21T15:14:51.696480Z",
     "shell.execute_reply.started": "2023-01-21T15:14:51.677452Z"
    }
   },
   "outputs": [
    {
     "data": {
      "text/plain": [
       "Prospect ID                                       0.00\n",
       "Lead Number                                       0.00\n",
       "Lead Origin                                       0.00\n",
       "Lead Source                                       0.39\n",
       "Do Not Email                                      0.00\n",
       "Do Not Call                                       0.00\n",
       "Converted                                         0.00\n",
       "TotalVisits                                       1.48\n",
       "Total Time Spent on Website                       0.00\n",
       "Page Views Per Visit                              1.48\n",
       "Last Activity                                     1.11\n",
       "Country                                          26.63\n",
       "What is your current occupation                  29.11\n",
       "What matters most to you in choosing a course    29.32\n",
       "Search                                            0.00\n",
       "Magazine                                          0.00\n",
       "Newspaper Article                                 0.00\n",
       "X Education Forums                                0.00\n",
       "Newspaper                                         0.00\n",
       "Digital Advertisement                             0.00\n",
       "Through Recommendations                           0.00\n",
       "Receive More Updates About Our Courses            0.00\n",
       "Update me on Supply Chain Content                 0.00\n",
       "Get updates on DM Content                         0.00\n",
       "I agree to pay the amount through cheque          0.00\n",
       "A free copy of Mastering The Interview            0.00\n",
       "Last Notable Activity                             0.00\n",
       "dtype: float64"
      ]
     },
     "execution_count": 790,
     "metadata": {},
     "output_type": "execute_result"
    }
   ],
   "source": [
    "round(leeds.isnull().sum()/len(leeds)*100,2)"
   ]
  },
  {
   "cell_type": "code",
   "execution_count": 791,
   "metadata": {
    "execution": {
     "iopub.execute_input": "2023-01-21T15:14:51.699946Z",
     "iopub.status.busy": "2023-01-21T15:14:51.699554Z",
     "iopub.status.idle": "2023-01-21T15:14:51.726715Z",
     "shell.execute_reply": "2023-01-21T15:14:51.725637Z",
     "shell.execute_reply.started": "2023-01-21T15:14:51.699912Z"
    }
   },
   "outputs": [
    {
     "data": {
      "text/plain": [
       "Prospect ID                                      9240\n",
       "Lead Number                                      9240\n",
       "Lead Origin                                         5\n",
       "Lead Source                                        20\n",
       "Do Not Email                                        2\n",
       "Do Not Call                                         2\n",
       "Converted                                           2\n",
       "TotalVisits                                        41\n",
       "Total Time Spent on Website                      1731\n",
       "Page Views Per Visit                              114\n",
       "Last Activity                                      17\n",
       "Country                                            38\n",
       "What is your current occupation                     6\n",
       "What matters most to you in choosing a course       3\n",
       "Search                                              2\n",
       "Magazine                                            1\n",
       "Newspaper Article                                   2\n",
       "X Education Forums                                  2\n",
       "Newspaper                                           2\n",
       "Digital Advertisement                               2\n",
       "Through Recommendations                             2\n",
       "Receive More Updates About Our Courses              1\n",
       "Update me on Supply Chain Content                   1\n",
       "Get updates on DM Content                           1\n",
       "I agree to pay the amount through cheque            1\n",
       "A free copy of Mastering The Interview              2\n",
       "Last Notable Activity                              16\n",
       "dtype: int64"
      ]
     },
     "execution_count": 791,
     "metadata": {},
     "output_type": "execute_result"
    }
   ],
   "source": [
    "# checking the unique values in each column\n",
    "leeds.nunique()"
   ]
  },
  {
   "cell_type": "code",
   "execution_count": 792,
   "metadata": {
    "execution": {
     "iopub.execute_input": "2023-01-21T15:14:51.729295Z",
     "iopub.status.busy": "2023-01-21T15:14:51.728830Z",
     "iopub.status.idle": "2023-01-21T15:14:51.757480Z",
     "shell.execute_reply": "2023-01-21T15:14:51.756468Z",
     "shell.execute_reply.started": "2023-01-21T15:14:51.729253Z"
    }
   },
   "outputs": [
    {
     "data": {
      "text/plain": [
       "Magazine                                    1\n",
       "Receive More Updates About Our Courses      1\n",
       "Update me on Supply Chain Content           1\n",
       "Get updates on DM Content                   1\n",
       "I agree to pay the amount through cheque    1\n",
       "dtype: int64"
      ]
     },
     "execution_count": 792,
     "metadata": {},
     "output_type": "execute_result"
    }
   ],
   "source": [
    "# checking the columns for only single value\n",
    "single=leeds.nunique()\n",
    "single=single[single==1]\n",
    "single"
   ]
  },
  {
   "cell_type": "code",
   "execution_count": 793,
   "metadata": {
    "execution": {
     "iopub.execute_input": "2023-01-21T15:14:51.762660Z",
     "iopub.status.busy": "2023-01-21T15:14:51.761769Z",
     "iopub.status.idle": "2023-01-21T15:14:51.773214Z",
     "shell.execute_reply": "2023-01-21T15:14:51.771984Z",
     "shell.execute_reply.started": "2023-01-21T15:14:51.762624Z"
    }
   },
   "outputs": [],
   "source": [
    "# removing the columns\n",
    "single = list(single[single.values==1].index)\n",
    "leeds.drop(labels=single,axis=1,inplace=True)"
   ]
  },
  {
   "cell_type": "code",
   "execution_count": 794,
   "metadata": {
    "execution": {
     "iopub.execute_input": "2023-01-21T15:14:51.774769Z",
     "iopub.status.busy": "2023-01-21T15:14:51.774344Z",
     "iopub.status.idle": "2023-01-21T15:14:51.786433Z",
     "shell.execute_reply": "2023-01-21T15:14:51.785502Z",
     "shell.execute_reply.started": "2023-01-21T15:14:51.774730Z"
    }
   },
   "outputs": [
    {
     "data": {
      "text/plain": [
       "(9240, 22)"
      ]
     },
     "execution_count": 794,
     "metadata": {},
     "output_type": "execute_result"
    }
   ],
   "source": [
    "leeds.shape"
   ]
  },
  {
   "cell_type": "code",
   "execution_count": 795,
   "metadata": {
    "execution": {
     "iopub.execute_input": "2023-01-21T15:14:51.788217Z",
     "iopub.status.busy": "2023-01-21T15:14:51.787915Z",
     "iopub.status.idle": "2023-01-21T15:14:51.807625Z",
     "shell.execute_reply": "2023-01-21T15:14:51.806493Z",
     "shell.execute_reply.started": "2023-01-21T15:14:51.788192Z"
    }
   },
   "outputs": [
    {
     "data": {
      "text/plain": [
       "Prospect ID                                       0.00\n",
       "Lead Number                                       0.00\n",
       "Lead Origin                                       0.00\n",
       "Lead Source                                       0.39\n",
       "Do Not Email                                      0.00\n",
       "Do Not Call                                       0.00\n",
       "Converted                                         0.00\n",
       "TotalVisits                                       1.48\n",
       "Total Time Spent on Website                       0.00\n",
       "Page Views Per Visit                              1.48\n",
       "Last Activity                                     1.11\n",
       "Country                                          26.63\n",
       "What is your current occupation                  29.11\n",
       "What matters most to you in choosing a course    29.32\n",
       "Search                                            0.00\n",
       "Newspaper Article                                 0.00\n",
       "X Education Forums                                0.00\n",
       "Newspaper                                         0.00\n",
       "Digital Advertisement                             0.00\n",
       "Through Recommendations                           0.00\n",
       "A free copy of Mastering The Interview            0.00\n",
       "Last Notable Activity                             0.00\n",
       "dtype: float64"
      ]
     },
     "execution_count": 795,
     "metadata": {},
     "output_type": "execute_result"
    }
   ],
   "source": [
    "round(leeds.isnull().sum()/len(leeds)*100,2)"
   ]
  },
  {
   "cell_type": "code",
   "execution_count": 796,
   "metadata": {
    "execution": {
     "iopub.execute_input": "2023-01-21T15:14:51.809764Z",
     "iopub.status.busy": "2023-01-21T15:14:51.809256Z",
     "iopub.status.idle": "2023-01-21T15:14:51.820823Z",
     "shell.execute_reply": "2023-01-21T15:14:51.819365Z",
     "shell.execute_reply.started": "2023-01-21T15:14:51.809726Z"
    }
   },
   "outputs": [],
   "source": [
    "# Imputation for coulmns.\n",
    "leeds['What matters most to you in choosing a course'] = leeds['What matters most to you in choosing a course'].fillna('not provided')\n",
    "leeds['Country'] = leeds['Country'].fillna('not provided')\n",
    "leeds['What is your current occupation'] = leeds['What is your current occupation'].fillna('not provided')"
   ]
  },
  {
   "cell_type": "code",
   "execution_count": 797,
   "metadata": {
    "execution": {
     "iopub.execute_input": "2023-01-21T15:14:51.822793Z",
     "iopub.status.busy": "2023-01-21T15:14:51.822416Z",
     "iopub.status.idle": "2023-01-21T15:14:51.842589Z",
     "shell.execute_reply": "2023-01-21T15:14:51.841720Z",
     "shell.execute_reply.started": "2023-01-21T15:14:51.822762Z"
    }
   },
   "outputs": [
    {
     "data": {
      "text/plain": [
       "Prospect ID                                      0.00\n",
       "Lead Number                                      0.00\n",
       "Lead Origin                                      0.00\n",
       "Lead Source                                      0.39\n",
       "Do Not Email                                     0.00\n",
       "Do Not Call                                      0.00\n",
       "Converted                                        0.00\n",
       "TotalVisits                                      1.48\n",
       "Total Time Spent on Website                      0.00\n",
       "Page Views Per Visit                             1.48\n",
       "Last Activity                                    1.11\n",
       "Country                                          0.00\n",
       "What is your current occupation                  0.00\n",
       "What matters most to you in choosing a course    0.00\n",
       "Search                                           0.00\n",
       "Newspaper Article                                0.00\n",
       "X Education Forums                               0.00\n",
       "Newspaper                                        0.00\n",
       "Digital Advertisement                            0.00\n",
       "Through Recommendations                          0.00\n",
       "A free copy of Mastering The Interview           0.00\n",
       "Last Notable Activity                            0.00\n",
       "dtype: float64"
      ]
     },
     "execution_count": 797,
     "metadata": {},
     "output_type": "execute_result"
    }
   ],
   "source": [
    "round(leeds.isnull().sum()/len(leeds)*100,2)"
   ]
  },
  {
   "cell_type": "code",
   "execution_count": 798,
   "metadata": {
    "execution": {
     "iopub.execute_input": "2023-01-21T15:14:51.843924Z",
     "iopub.status.busy": "2023-01-21T15:14:51.843669Z",
     "iopub.status.idle": "2023-01-21T15:14:51.856712Z",
     "shell.execute_reply": "2023-01-21T15:14:51.855858Z",
     "shell.execute_reply.started": "2023-01-21T15:14:51.843901Z"
    }
   },
   "outputs": [],
   "source": [
    "# Treating the missing values in these columns\n",
    "leeds['Lead Source'] = leeds['Lead Source'].fillna(leeds['Lead Source'].mode()[0])\n",
    "leeds['TotalVisits'] = leeds['TotalVisits'].fillna(leeds['TotalVisits'].median())\n",
    "leeds['Page Views Per Visit'] = leeds['Page Views Per Visit'].fillna(leeds['Page Views Per Visit'].median())\n",
    "leeds['Last Activity'] = leeds['Last Activity'].fillna(leeds['Last Activity'].mode()[0])"
   ]
  },
  {
   "cell_type": "code",
   "execution_count": 799,
   "metadata": {
    "execution": {
     "iopub.execute_input": "2023-01-21T15:14:51.858065Z",
     "iopub.status.busy": "2023-01-21T15:14:51.857813Z",
     "iopub.status.idle": "2023-01-21T15:14:51.874502Z",
     "shell.execute_reply": "2023-01-21T15:14:51.873637Z",
     "shell.execute_reply.started": "2023-01-21T15:14:51.858041Z"
    }
   },
   "outputs": [
    {
     "data": {
      "text/plain": [
       "Prospect ID                                      0.0\n",
       "Lead Number                                      0.0\n",
       "Lead Origin                                      0.0\n",
       "Lead Source                                      0.0\n",
       "Do Not Email                                     0.0\n",
       "Do Not Call                                      0.0\n",
       "Converted                                        0.0\n",
       "TotalVisits                                      0.0\n",
       "Total Time Spent on Website                      0.0\n",
       "Page Views Per Visit                             0.0\n",
       "Last Activity                                    0.0\n",
       "Country                                          0.0\n",
       "What is your current occupation                  0.0\n",
       "What matters most to you in choosing a course    0.0\n",
       "Search                                           0.0\n",
       "Newspaper Article                                0.0\n",
       "X Education Forums                               0.0\n",
       "Newspaper                                        0.0\n",
       "Digital Advertisement                            0.0\n",
       "Through Recommendations                          0.0\n",
       "A free copy of Mastering The Interview           0.0\n",
       "Last Notable Activity                            0.0\n",
       "dtype: float64"
      ]
     },
     "execution_count": 799,
     "metadata": {},
     "output_type": "execute_result"
    }
   ],
   "source": [
    "round(leeds.isnull().sum()/len(leeds)*100,2)"
   ]
  },
  {
   "cell_type": "code",
   "execution_count": 800,
   "metadata": {
    "execution": {
     "iopub.execute_input": "2023-01-21T15:14:51.875873Z",
     "iopub.status.busy": "2023-01-21T15:14:51.875613Z",
     "iopub.status.idle": "2023-01-21T15:14:51.904713Z",
     "shell.execute_reply": "2023-01-21T15:14:51.903659Z",
     "shell.execute_reply.started": "2023-01-21T15:14:51.875850Z"
    }
   },
   "outputs": [
    {
     "data": {
      "text/html": [
       "<div>\n",
       "<style scoped>\n",
       "    .dataframe tbody tr th:only-of-type {\n",
       "        vertical-align: middle;\n",
       "    }\n",
       "\n",
       "    .dataframe tbody tr th {\n",
       "        vertical-align: top;\n",
       "    }\n",
       "\n",
       "    .dataframe thead th {\n",
       "        text-align: right;\n",
       "    }\n",
       "</style>\n",
       "<table border=\"1\" class=\"dataframe\">\n",
       "  <thead>\n",
       "    <tr style=\"text-align: right;\">\n",
       "      <th></th>\n",
       "      <th>Lead Number</th>\n",
       "      <th>Converted</th>\n",
       "      <th>TotalVisits</th>\n",
       "      <th>Total Time Spent on Website</th>\n",
       "      <th>Page Views Per Visit</th>\n",
       "    </tr>\n",
       "  </thead>\n",
       "  <tbody>\n",
       "    <tr>\n",
       "      <th>count</th>\n",
       "      <td>9240.000000</td>\n",
       "      <td>9240.000000</td>\n",
       "      <td>9240.000000</td>\n",
       "      <td>9240.000000</td>\n",
       "      <td>9240.000000</td>\n",
       "    </tr>\n",
       "    <tr>\n",
       "      <th>mean</th>\n",
       "      <td>617188.435606</td>\n",
       "      <td>0.385390</td>\n",
       "      <td>3.438636</td>\n",
       "      <td>487.698268</td>\n",
       "      <td>2.357440</td>\n",
       "    </tr>\n",
       "    <tr>\n",
       "      <th>std</th>\n",
       "      <td>23405.995698</td>\n",
       "      <td>0.486714</td>\n",
       "      <td>4.819024</td>\n",
       "      <td>548.021466</td>\n",
       "      <td>2.145781</td>\n",
       "    </tr>\n",
       "    <tr>\n",
       "      <th>min</th>\n",
       "      <td>579533.000000</td>\n",
       "      <td>0.000000</td>\n",
       "      <td>0.000000</td>\n",
       "      <td>0.000000</td>\n",
       "      <td>0.000000</td>\n",
       "    </tr>\n",
       "    <tr>\n",
       "      <th>25%</th>\n",
       "      <td>596484.500000</td>\n",
       "      <td>0.000000</td>\n",
       "      <td>1.000000</td>\n",
       "      <td>12.000000</td>\n",
       "      <td>1.000000</td>\n",
       "    </tr>\n",
       "    <tr>\n",
       "      <th>50%</th>\n",
       "      <td>615479.000000</td>\n",
       "      <td>0.000000</td>\n",
       "      <td>3.000000</td>\n",
       "      <td>248.000000</td>\n",
       "      <td>2.000000</td>\n",
       "    </tr>\n",
       "    <tr>\n",
       "      <th>75%</th>\n",
       "      <td>637387.250000</td>\n",
       "      <td>1.000000</td>\n",
       "      <td>5.000000</td>\n",
       "      <td>936.000000</td>\n",
       "      <td>3.000000</td>\n",
       "    </tr>\n",
       "    <tr>\n",
       "      <th>max</th>\n",
       "      <td>660737.000000</td>\n",
       "      <td>1.000000</td>\n",
       "      <td>251.000000</td>\n",
       "      <td>2272.000000</td>\n",
       "      <td>55.000000</td>\n",
       "    </tr>\n",
       "  </tbody>\n",
       "</table>\n",
       "</div>"
      ],
      "text/plain": [
       "         Lead Number    Converted  TotalVisits  Total Time Spent on Website  \\\n",
       "count    9240.000000  9240.000000  9240.000000                  9240.000000   \n",
       "mean   617188.435606     0.385390     3.438636                   487.698268   \n",
       "std     23405.995698     0.486714     4.819024                   548.021466   \n",
       "min    579533.000000     0.000000     0.000000                     0.000000   \n",
       "25%    596484.500000     0.000000     1.000000                    12.000000   \n",
       "50%    615479.000000     0.000000     3.000000                   248.000000   \n",
       "75%    637387.250000     1.000000     5.000000                   936.000000   \n",
       "max    660737.000000     1.000000   251.000000                  2272.000000   \n",
       "\n",
       "       Page Views Per Visit  \n",
       "count           9240.000000  \n",
       "mean               2.357440  \n",
       "std                2.145781  \n",
       "min                0.000000  \n",
       "25%                1.000000  \n",
       "50%                2.000000  \n",
       "75%                3.000000  \n",
       "max               55.000000  "
      ]
     },
     "execution_count": 800,
     "metadata": {},
     "output_type": "execute_result"
    }
   ],
   "source": [
    "# Getting the stastical summary for the given data\n",
    "leeds.describe()"
   ]
  },
  {
   "cell_type": "code",
   "execution_count": 801,
   "metadata": {
    "execution": {
     "iopub.execute_input": "2023-01-21T15:14:51.906747Z",
     "iopub.status.busy": "2023-01-21T15:14:51.905918Z",
     "iopub.status.idle": "2023-01-21T15:14:52.029697Z",
     "shell.execute_reply": "2023-01-21T15:14:52.028915Z",
     "shell.execute_reply.started": "2023-01-21T15:14:51.906690Z"
    }
   },
   "outputs": [
    {
     "data": {
      "text/plain": [
       "<AxesSubplot:>"
      ]
     },
     "execution_count": 801,
     "metadata": {},
     "output_type": "execute_result"
    },
    {
     "data": {
      "image/png": "[encoded data removed]",
      "text/plain": [
       "<Figure size 432x288 with 1 Axes>"
      ]
     },
     "metadata": {
      "needs_background": "light"
     },
     "output_type": "display_data"
    }
   ],
   "source": [
    "# checking for outliers\n",
    "leeds['TotalVisits'].plot.box()"
   ]
  },
  {
   "cell_type": "code",
   "execution_count": 802,
   "metadata": {
    "execution": {
     "iopub.execute_input": "2023-01-21T15:14:52.031856Z",
     "iopub.status.busy": "2023-01-21T15:14:52.030738Z",
     "iopub.status.idle": "2023-01-21T15:14:52.040215Z",
     "shell.execute_reply": "2023-01-21T15:14:52.039124Z",
     "shell.execute_reply.started": "2023-01-21T15:14:52.031826Z"
    }
   },
   "outputs": [],
   "source": [
    "# Treating the outlier\n",
    "leeds=leeds[leeds.TotalVisits<100]"
   ]
  },
  {
   "cell_type": "code",
   "execution_count": 803,
   "metadata": {
    "execution": {
     "iopub.execute_input": "2023-01-21T15:14:52.042441Z",
     "iopub.status.busy": "2023-01-21T15:14:52.041591Z",
     "iopub.status.idle": "2023-01-21T15:14:52.171161Z",
     "shell.execute_reply": "2023-01-21T15:14:52.170058Z",
     "shell.execute_reply.started": "2023-01-21T15:14:52.042413Z"
    }
   },
   "outputs": [
    {
     "data": {
      "text/plain": [
       "<AxesSubplot:>"
      ]
     },
     "execution_count": 803,
     "metadata": {},
     "output_type": "execute_result"
    },
    {
     "data": {
      "image/png": "[encoded data removed]",
      "text/plain": [
       "<Figure size 432x288 with 1 Axes>"
      ]
     },
     "metadata": {
      "needs_background": "light"
     },
     "output_type": "display_data"
    }
   ],
   "source": [
    "leeds['TotalVisits'].plot.box()"
   ]
  },
  {
   "cell_type": "code",
   "execution_count": 804,
   "metadata": {
    "execution": {
     "iopub.execute_input": "2023-01-21T15:14:52.173361Z",
     "iopub.status.busy": "2023-01-21T15:14:52.172893Z",
     "iopub.status.idle": "2023-01-21T15:14:52.304025Z",
     "shell.execute_reply": "2023-01-21T15:14:52.303109Z",
     "shell.execute_reply.started": "2023-01-21T15:14:52.173327Z"
    }
   },
   "outputs": [
    {
     "data": {
      "text/plain": [
       "<AxesSubplot:>"
      ]
     },
     "execution_count": 804,
     "metadata": {},
     "output_type": "execute_result"
    },
    {
     "data": {
      "image/png": "[encoded data removed]",
      "text/plain": [
       "<Figure size 432x288 with 1 Axes>"
      ]
     },
     "metadata": {
      "needs_background": "light"
     },
     "output_type": "display_data"
    }
   ],
   "source": [
    "# checking for outliers\n",
    "leeds['Page Views Per Visit'].plot.box()"
   ]
  },
  {
   "cell_type": "code",
   "execution_count": 805,
   "metadata": {
    "execution": {
     "iopub.execute_input": "2023-01-21T15:14:52.305701Z",
     "iopub.status.busy": "2023-01-21T15:14:52.305367Z",
     "iopub.status.idle": "2023-01-21T15:14:52.314154Z",
     "shell.execute_reply": "2023-01-21T15:14:52.313200Z",
     "shell.execute_reply.started": "2023-01-21T15:14:52.305671Z"
    }
   },
   "outputs": [],
   "source": [
    "# Treating the outlier\n",
    "leeds=leeds[leeds['Page Views Per Visit']<30]"
   ]
  },
  {
   "cell_type": "code",
   "execution_count": 806,
   "metadata": {
    "execution": {
     "iopub.execute_input": "2023-01-21T15:14:52.316028Z",
     "iopub.status.busy": "2023-01-21T15:14:52.315722Z",
     "iopub.status.idle": "2023-01-21T15:14:52.437014Z",
     "shell.execute_reply": "2023-01-21T15:14:52.435901Z",
     "shell.execute_reply.started": "2023-01-21T15:14:52.316000Z"
    }
   },
   "outputs": [
    {
     "data": {
      "text/plain": [
       "<AxesSubplot:>"
      ]
     },
     "execution_count": 806,
     "metadata": {},
     "output_type": "execute_result"
    },
    {
     "data": {
      "image/png": "[encoded data removed]",
      "text/plain": [
       "<Figure size 432x288 with 1 Axes>"
      ]
     },
     "metadata": {
      "needs_background": "light"
     },
     "output_type": "display_data"
    }
   ],
   "source": [
    "leeds['Page Views Per Visit'].plot.box()"
   ]
  },
  {
   "cell_type": "code",
   "execution_count": 807,
   "metadata": {
    "execution": {
     "iopub.execute_input": "2023-01-21T15:14:52.444126Z",
     "iopub.status.busy": "2023-01-21T15:14:52.443729Z",
     "iopub.status.idle": "2023-01-21T15:14:52.556551Z",
     "shell.execute_reply": "2023-01-21T15:14:52.555572Z",
     "shell.execute_reply.started": "2023-01-21T15:14:52.444094Z"
    }
   },
   "outputs": [
    {
     "data": {
      "text/plain": [
       "<AxesSubplot:>"
      ]
     },
     "execution_count": 807,
     "metadata": {},
     "output_type": "execute_result"
    },
    {
     "data": {
      "image/png": "[encoded data removed]",
      "text/plain": [
       "<Figure size 432x288 with 1 Axes>"
      ]
     },
     "metadata": {
      "needs_background": "light"
     },
     "output_type": "display_data"
    }
   ],
   "source": [
    "# checking for outliers\n",
    "leeds['Total Time Spent on Website'].plot.box()"
   ]
  },
  {
   "cell_type": "code",
   "execution_count": 808,
   "metadata": {
    "execution": {
     "iopub.execute_input": "2023-01-21T15:14:52.558659Z",
     "iopub.status.busy": "2023-01-21T15:14:52.558309Z",
     "iopub.status.idle": "2023-01-21T15:14:52.583447Z",
     "shell.execute_reply": "2023-01-21T15:14:52.582205Z",
     "shell.execute_reply.started": "2023-01-21T15:14:52.558625Z"
    }
   },
   "outputs": [
    {
     "data": {
      "text/plain": [
       "Prospect ID                                      9236\n",
       "Lead Number                                      9236\n",
       "Lead Origin                                         5\n",
       "Lead Source                                        20\n",
       "Do Not Email                                        2\n",
       "Do Not Call                                         2\n",
       "Converted                                           2\n",
       "TotalVisits                                        37\n",
       "Total Time Spent on Website                      1731\n",
       "Page Views Per Visit                              110\n",
       "Last Activity                                      17\n",
       "Country                                            39\n",
       "What is your current occupation                     7\n",
       "What matters most to you in choosing a course       4\n",
       "Search                                              2\n",
       "Newspaper Article                                   2\n",
       "X Education Forums                                  2\n",
       "Newspaper                                           2\n",
       "Digital Advertisement                               2\n",
       "Through Recommendations                             2\n",
       "A free copy of Mastering The Interview              2\n",
       "Last Notable Activity                              16\n",
       "dtype: int64"
      ]
     },
     "execution_count": 808,
     "metadata": {},
     "output_type": "execute_result"
    }
   ],
   "source": [
    "leeds.nunique()"
   ]
  },
  {
   "cell_type": "code",
   "execution_count": 809,
   "metadata": {
    "execution": {
     "iopub.execute_input": "2023-01-21T15:14:52.585493Z",
     "iopub.status.busy": "2023-01-21T15:14:52.585118Z",
     "iopub.status.idle": "2023-01-21T15:14:52.696982Z",
     "shell.execute_reply": "2023-01-21T15:14:52.696048Z",
     "shell.execute_reply.started": "2023-01-21T15:14:52.585456Z"
    }
   },
   "outputs": [
    {
     "data": {
      "text/plain": [
       "india            6488\n",
       "not provided     2461\n",
       "outside india     287\n",
       "Name: Country, dtype: int64"
      ]
     },
     "execution_count": 809,
     "metadata": {},
     "output_type": "execute_result"
    }
   ],
   "source": [
    "# converting the counties into buckets for eaiser analysis\n",
    "def tiers(x):\n",
    "    category = \"\"\n",
    "    if x == \"india\":\n",
    "        category = \"india\"\n",
    "    elif x == \"not provided\":\n",
    "        category = \"not provided\"\n",
    "    else:\n",
    "        category = \"outside india\"\n",
    "    return category\n",
    "\n",
    "leeds['Country'] = leeds.apply(lambda x:tiers(x['Country']), axis = 1)\n",
    "leeds['Country'].value_counts()"
   ]
  },
  {
   "cell_type": "code",
   "execution_count": 810,
   "metadata": {
    "execution": {
     "iopub.execute_input": "2023-01-21T15:14:52.698925Z",
     "iopub.status.busy": "2023-01-21T15:14:52.698415Z",
     "iopub.status.idle": "2023-01-21T15:14:52.707094Z",
     "shell.execute_reply": "2023-01-21T15:14:52.706150Z",
     "shell.execute_reply.started": "2023-01-21T15:14:52.698889Z"
    }
   },
   "outputs": [],
   "source": [
    "leeds=leeds.drop('Prospect ID',axis=1)"
   ]
  },
  {
   "cell_type": "markdown",
   "metadata": {},
   "source": [
    "# EDA"
   ]
  },
  {
   "cell_type": "code",
   "execution_count": 811,
   "metadata": {
    "execution": {
     "iopub.execute_input": "2023-01-21T15:14:52.710072Z",
     "iopub.status.busy": "2023-01-21T15:14:52.708413Z",
     "iopub.status.idle": "2023-01-21T15:14:52.731451Z",
     "shell.execute_reply": "2023-01-21T15:14:52.730501Z",
     "shell.execute_reply.started": "2023-01-21T15:14:52.710034Z"
    }
   },
   "outputs": [
    {
     "name": "stdout",
     "output_type": "stream",
     "text": [
      "<class 'pandas.core.frame.DataFrame'>\n",
      "Int64Index: 9236 entries, 0 to 9239\n",
      "Data columns (total 21 columns):\n",
      " #   Column                                         Non-Null Count  Dtype  \n",
      "---  ------                                         --------------  -----  \n",
      " 0   Lead Number                                    9236 non-null   int64  \n",
      " 1   Lead Origin                                    9236 non-null   object \n",
      " 2   Lead Source                                    9236 non-null   object \n",
      " 3   Do Not Email                                   9236 non-null   object \n",
      " 4   Do Not Call                                    9236 non-null   object \n",
      " 5   Converted                                      9236 non-null   int64  \n",
      " 6   TotalVisits                                    9236 non-null   float64\n",
      " 7   Total Time Spent on Website                    9236 non-null   int64  \n",
      " 8   Page Views Per Visit                           9236 non-null   float64\n",
      " 9   Last Activity                                  9236 non-null   object \n",
      " 10  Country                                        9236 non-null   object \n",
      " 11  What is your current occupation                9236 non-null   object \n",
      " 12  What matters most to you in choosing a course  9236 non-null   object \n",
      " 13  Search                                         9236 non-null   object \n",
      " 14  Newspaper Article                              9236 non-null   object \n",
      " 15  X Education Forums                             9236 non-null   object \n",
      " 16  Newspaper                                      9236 non-null   object \n",
      " 17  Digital Advertisement                          9236 non-null   object \n",
      " 18  Through Recommendations                        9236 non-null   object \n",
      " 19  A free copy of Mastering The Interview         9236 non-null   object \n",
      " 20  Last Notable Activity                          9236 non-null   object \n",
      "dtypes: float64(2), int64(3), object(16)\n",
      "memory usage: 1.6+ MB\n"
     ]
    }
   ],
   "source": [
    "leeds.info()"
   ]
  },
  {
   "cell_type": "code",
   "execution_count": 812,
   "metadata": {
    "execution": {
     "iopub.execute_input": "2023-01-21T15:14:52.733941Z",
     "iopub.status.busy": "2023-01-21T15:14:52.732689Z",
     "iopub.status.idle": "2023-01-21T15:14:52.863269Z",
     "shell.execute_reply": "2023-01-21T15:14:52.862267Z",
     "shell.execute_reply.started": "2023-01-21T15:14:52.733877Z"
    }
   },
   "outputs": [
    {
     "data": {
      "image/png": "[encoded data removed]",
      "text/plain": [
       "<Figure size 648x504 with 1 Axes>"
      ]
     },
     "metadata": {
      "needs_background": "light"
     },
     "output_type": "display_data"
    }
   ],
   "source": [
    "plt.figure(figsize = (9,7))\n",
    "# plot the countplot\n",
    "sns.countplot(x='Lead Origin', data=leeds)\n",
    "\n",
    "# add a title to the plot\n",
    "plt.title(\"Lead Origin Countplot\")\n",
    "\n",
    "# show the plot\n",
    "plt.show()"
   ]
  },
  {
   "cell_type": "code",
   "execution_count": 813,
   "metadata": {
    "execution": {
     "iopub.execute_input": "2023-01-21T15:14:52.865274Z",
     "iopub.status.busy": "2023-01-21T15:14:52.864918Z",
     "iopub.status.idle": "2023-01-21T15:14:52.989886Z",
     "shell.execute_reply": "2023-01-21T15:14:52.988921Z",
     "shell.execute_reply.started": "2023-01-21T15:14:52.865239Z"
    }
   },
   "outputs": [
    {
     "data": {
      "image/png": "[encoded data removed]",
      "text/plain": [
       "<Figure size 648x504 with 1 Axes>"
      ]
     },
     "metadata": {
      "needs_background": "light"
     },
     "output_type": "display_data"
    }
   ],
   "source": [
    "plt.figure(figsize = (9,7))\n",
    "# plot the countplot\n",
    "sns.countplot(x='Do Not Email', data=leeds)\n",
    "\n",
    "# add a title to the plot\n",
    "plt.title('Do Not Email Countplot')\n",
    "plt.xlabel('Do Not Email')\n",
    "plt.ylabel('Count')\n",
    "\n",
    "# show the plot\n",
    "plt.show()"
   ]
  },
  {
   "cell_type": "code",
   "execution_count": 814,
   "metadata": {
    "execution": {
     "iopub.execute_input": "2023-01-21T15:14:52.991937Z",
     "iopub.status.busy": "2023-01-21T15:14:52.991209Z",
     "iopub.status.idle": "2023-01-21T15:14:53.206472Z",
     "shell.execute_reply": "2023-01-21T15:14:53.205511Z",
     "shell.execute_reply.started": "2023-01-21T15:14:52.991902Z"
    }
   },
   "outputs": [
    {
     "data": {
      "image/png": "[encoded data removed]",
      "text/plain": [
       "<Figure size 432x288 with 1 Axes>"
      ]
     },
     "metadata": {
      "needs_background": "light"
     },
     "output_type": "display_data"
    }
   ],
   "source": [
    "sns.countplot(leeds['Lead Source']).tick_params(axis='x', rotation = 90)\n",
    "plt.title('Lead Source')\n",
    "plt.show()"
   ]
  },
  {
   "cell_type": "code",
   "execution_count": 815,
   "metadata": {
    "execution": {
     "iopub.execute_input": "2023-01-21T15:14:53.208054Z",
     "iopub.status.busy": "2023-01-21T15:14:53.207778Z",
     "iopub.status.idle": "2023-01-21T15:14:53.685559Z",
     "shell.execute_reply": "2023-01-21T15:14:53.684653Z",
     "shell.execute_reply.started": "2023-01-21T15:14:53.208028Z"
    }
   },
   "outputs": [
    {
     "data": {
      "image/png": "[encoded data removed]",
      "text/plain": [
       "<Figure size 864x864 with 6 Axes>"
      ]
     },
     "metadata": {
      "needs_background": "light"
     },
     "output_type": "display_data"
    }
   ],
   "source": [
    "plt.figure(figsize = (12,12))\n",
    "plt.subplot(2,3,1)\n",
    "sns.countplot(leeds['Country'])\n",
    "plt.title('Country')\n",
    "\n",
    "plt.subplot(2,3,2)\n",
    "sns.countplot(leeds['Search'])\n",
    "plt.title('Search')\n",
    "\n",
    "plt.subplot(2,3,3)\n",
    "sns.countplot(leeds['Newspaper Article'])\n",
    "plt.title('Newspaper Article')\n",
    "\n",
    "plt.subplot(2,3,4)\n",
    "sns.countplot(leeds['X Education Forums'])\n",
    "plt.title('X Education Forums')\n",
    "\n",
    "plt.subplot(2,3,5)\n",
    "sns.countplot(leeds['Newspaper'])\n",
    "plt.title('Newspaper')\n",
    "\n",
    "plt.subplot(2,3,6)\n",
    "sns.countplot(leeds['Digital Advertisement'])\n",
    "plt.title('Digital Advertisement')\n",
    "plt.show()"
   ]
  },
  {
   "cell_type": "code",
   "execution_count": 816,
   "metadata": {
    "execution": {
     "iopub.execute_input": "2023-01-21T15:14:53.690250Z",
     "iopub.status.busy": "2023-01-21T15:14:53.686783Z",
     "iopub.status.idle": "2023-01-21T15:14:54.145703Z",
     "shell.execute_reply": "2023-01-21T15:14:54.144644Z",
     "shell.execute_reply.started": "2023-01-21T15:14:53.690190Z"
    }
   },
   "outputs": [
    {
     "data": {
      "image/png": "[encoded data removed]",
      "text/plain": [
       "<Figure size 864x1440 with 3 Axes>"
      ]
     },
     "metadata": {
      "needs_background": "light"
     },
     "output_type": "display_data"
    }
   ],
   "source": [
    "plt.figure(figsize = (12,20))\n",
    "\n",
    "plt.subplot(2,2,1)\n",
    "sns.countplot(leeds['What is your current occupation']).tick_params(axis='x', rotation = 90)\n",
    "plt.title('Current Occupation')\n",
    "plt.subplot(2,2,2)\n",
    "sns.countplot(leeds['What matters most to you in choosing a course']).tick_params(axis='x', rotation = 90)\n",
    "plt.title('What matters most to you in choosing a course')\n",
    "plt.subplot(2,2,3)\n",
    "sns.countplot(leeds['Last Activity']).tick_params(axis='x', rotation = 90)\n",
    "plt.title('Last Activity')\n",
    "plt.show()"
   ]
  },
  {
   "cell_type": "code",
   "execution_count": 817,
   "metadata": {
    "execution": {
     "iopub.execute_input": "2023-01-21T15:14:54.147241Z",
     "iopub.status.busy": "2023-01-21T15:14:54.146895Z",
     "iopub.status.idle": "2023-01-21T15:14:54.162336Z",
     "shell.execute_reply": "2023-01-21T15:14:54.161540Z",
     "shell.execute_reply.started": "2023-01-21T15:14:54.147199Z"
    }
   },
   "outputs": [
    {
     "data": {
      "text/html": [
       "<div>\n",
       "<style scoped>\n",
       "    .dataframe tbody tr th:only-of-type {\n",
       "        vertical-align: middle;\n",
       "    }\n",
       "\n",
       "    .dataframe tbody tr th {\n",
       "        vertical-align: top;\n",
       "    }\n",
       "\n",
       "    .dataframe thead th {\n",
       "        text-align: right;\n",
       "    }\n",
       "</style>\n",
       "<table border=\"1\" class=\"dataframe\">\n",
       "  <thead>\n",
       "    <tr style=\"text-align: right;\">\n",
       "      <th></th>\n",
       "      <th>Lead Number</th>\n",
       "      <th>Converted</th>\n",
       "      <th>TotalVisits</th>\n",
       "      <th>Total Time Spent on Website</th>\n",
       "      <th>Page Views Per Visit</th>\n",
       "    </tr>\n",
       "  </thead>\n",
       "  <tbody>\n",
       "    <tr>\n",
       "      <th>Lead Number</th>\n",
       "      <td>1.000000</td>\n",
       "      <td>0.025362</td>\n",
       "      <td>0.029691</td>\n",
       "      <td>0.020244</td>\n",
       "      <td>0.056432</td>\n",
       "    </tr>\n",
       "    <tr>\n",
       "      <th>Converted</th>\n",
       "      <td>0.025362</td>\n",
       "      <td>1.000000</td>\n",
       "      <td>0.036829</td>\n",
       "      <td>0.362651</td>\n",
       "      <td>-0.002590</td>\n",
       "    </tr>\n",
       "    <tr>\n",
       "      <th>TotalVisits</th>\n",
       "      <td>0.029691</td>\n",
       "      <td>0.036829</td>\n",
       "      <td>1.000000</td>\n",
       "      <td>0.297937</td>\n",
       "      <td>0.656662</td>\n",
       "    </tr>\n",
       "    <tr>\n",
       "      <th>Total Time Spent on Website</th>\n",
       "      <td>0.020244</td>\n",
       "      <td>0.362651</td>\n",
       "      <td>0.297937</td>\n",
       "      <td>1.000000</td>\n",
       "      <td>0.326254</td>\n",
       "    </tr>\n",
       "    <tr>\n",
       "      <th>Page Views Per Visit</th>\n",
       "      <td>0.056432</td>\n",
       "      <td>-0.002590</td>\n",
       "      <td>0.656662</td>\n",
       "      <td>0.326254</td>\n",
       "      <td>1.000000</td>\n",
       "    </tr>\n",
       "  </tbody>\n",
       "</table>\n",
       "</div>"
      ],
      "text/plain": [
       "                             Lead Number  Converted  TotalVisits  \\\n",
       "Lead Number                     1.000000   0.025362     0.029691   \n",
       "Converted                       0.025362   1.000000     0.036829   \n",
       "TotalVisits                     0.029691   0.036829     1.000000   \n",
       "Total Time Spent on Website     0.020244   0.362651     0.297937   \n",
       "Page Views Per Visit            0.056432  -0.002590     0.656662   \n",
       "\n",
       "                             Total Time Spent on Website  Page Views Per Visit  \n",
       "Lead Number                                     0.020244              0.056432  \n",
       "Converted                                       0.362651             -0.002590  \n",
       "TotalVisits                                     0.297937              0.656662  \n",
       "Total Time Spent on Website                     1.000000              0.326254  \n",
       "Page Views Per Visit                            0.326254              1.000000  "
      ]
     },
     "execution_count": 817,
     "metadata": {},
     "output_type": "execute_result"
    }
   ],
   "source": [
    "leeds.corr()"
   ]
  },
  {
   "cell_type": "code",
   "execution_count": 818,
   "metadata": {
    "execution": {
     "iopub.execute_input": "2023-01-21T15:14:54.164529Z",
     "iopub.status.busy": "2023-01-21T15:14:54.163552Z",
     "iopub.status.idle": "2023-01-21T15:14:54.441909Z",
     "shell.execute_reply": "2023-01-21T15:14:54.440551Z",
     "shell.execute_reply.started": "2023-01-21T15:14:54.164498Z"
    }
   },
   "outputs": [
    {
     "data": {
      "text/plain": [
       "<AxesSubplot:>"
      ]
     },
     "execution_count": 818,
     "metadata": {},
     "output_type": "execute_result"
    },
    {
     "data": {
      "image/png": "[encoded data removed]",
      "text/plain": [
       "<Figure size 432x288 with 2 Axes>"
      ]
     },
     "metadata": {
      "needs_background": "light"
     },
     "output_type": "display_data"
    }
   ],
   "source": [
    "# Creating a heatmap to understand the corr betwwen features and lable\n",
    "sns.heatmap(leeds.corr(), annot=True,cmap='Blues')"
   ]
  },
  {
   "cell_type": "code",
   "execution_count": 819,
   "metadata": {
    "execution": {
     "iopub.execute_input": "2023-01-21T15:14:54.444197Z",
     "iopub.status.busy": "2023-01-21T15:14:54.443760Z",
     "iopub.status.idle": "2023-01-21T15:14:54.455262Z",
     "shell.execute_reply": "2023-01-21T15:14:54.453938Z",
     "shell.execute_reply.started": "2023-01-21T15:14:54.444156Z"
    }
   },
   "outputs": [
    {
     "data": {
      "text/plain": [
       "Index(['Lead Origin', 'Lead Source', 'Do Not Email', 'Do Not Call',\n",
       "       'Last Activity', 'Country', 'What is your current occupation',\n",
       "       'What matters most to you in choosing a course', 'Search',\n",
       "       'Newspaper Article', 'X Education Forums', 'Newspaper',\n",
       "       'Digital Advertisement', 'Through Recommendations',\n",
       "       'A free copy of Mastering The Interview', 'Last Notable Activity'],\n",
       "      dtype='object')"
      ]
     },
     "execution_count": 819,
     "metadata": {},
     "output_type": "execute_result"
    }
   ],
   "source": [
    "leeds.loc[:, leeds.dtypes == 'object'].columns"
   ]
  },
  {
   "cell_type": "code",
   "execution_count": 820,
   "metadata": {
    "execution": {
     "iopub.execute_input": "2023-01-21T15:14:54.458260Z",
     "iopub.status.busy": "2023-01-21T15:14:54.457425Z",
     "iopub.status.idle": "2023-01-21T15:14:54.510591Z",
     "shell.execute_reply": "2023-01-21T15:14:54.508942Z",
     "shell.execute_reply.started": "2023-01-21T15:14:54.458216Z"
    }
   },
   "outputs": [
    {
     "data": {
      "text/html": [
       "<div>\n",
       "<style scoped>\n",
       "    .dataframe tbody tr th:only-of-type {\n",
       "        vertical-align: middle;\n",
       "    }\n",
       "\n",
       "    .dataframe tbody tr th {\n",
       "        vertical-align: top;\n",
       "    }\n",
       "\n",
       "    .dataframe thead th {\n",
       "        text-align: right;\n",
       "    }\n",
       "</style>\n",
       "<table border=\"1\" class=\"dataframe\">\n",
       "  <thead>\n",
       "    <tr style=\"text-align: right;\">\n",
       "      <th></th>\n",
       "      <th>Lead Number</th>\n",
       "      <th>Lead Origin</th>\n",
       "      <th>Lead Source</th>\n",
       "      <th>Do Not Email</th>\n",
       "      <th>Do Not Call</th>\n",
       "      <th>Converted</th>\n",
       "      <th>TotalVisits</th>\n",
       "      <th>Total Time Spent on Website</th>\n",
       "      <th>Page Views Per Visit</th>\n",
       "      <th>Last Activity</th>\n",
       "      <th>...</th>\n",
       "      <th>Last Notable Activity_form submitted on website</th>\n",
       "      <th>Last Notable Activity_had a phone conversation</th>\n",
       "      <th>Last Notable Activity_modified</th>\n",
       "      <th>Last Notable Activity_olark chat conversation</th>\n",
       "      <th>Last Notable Activity_page visited on website</th>\n",
       "      <th>Last Notable Activity_resubscribed to emails</th>\n",
       "      <th>Last Notable Activity_sms sent</th>\n",
       "      <th>Last Notable Activity_unreachable</th>\n",
       "      <th>Last Notable Activity_unsubscribed</th>\n",
       "      <th>Last Notable Activity_view in browser link clicked</th>\n",
       "    </tr>\n",
       "  </thead>\n",
       "  <tbody>\n",
       "    <tr>\n",
       "      <th>0</th>\n",
       "      <td>660737</td>\n",
       "      <td>api</td>\n",
       "      <td>olark chat</td>\n",
       "      <td>no</td>\n",
       "      <td>no</td>\n",
       "      <td>0</td>\n",
       "      <td>0.0</td>\n",
       "      <td>0</td>\n",
       "      <td>0.00</td>\n",
       "      <td>page visited on website</td>\n",
       "      <td>...</td>\n",
       "      <td>0</td>\n",
       "      <td>0</td>\n",
       "      <td>1</td>\n",
       "      <td>0</td>\n",
       "      <td>0</td>\n",
       "      <td>0</td>\n",
       "      <td>0</td>\n",
       "      <td>0</td>\n",
       "      <td>0</td>\n",
       "      <td>0</td>\n",
       "    </tr>\n",
       "    <tr>\n",
       "      <th>1</th>\n",
       "      <td>660728</td>\n",
       "      <td>api</td>\n",
       "      <td>organic search</td>\n",
       "      <td>no</td>\n",
       "      <td>no</td>\n",
       "      <td>0</td>\n",
       "      <td>5.0</td>\n",
       "      <td>674</td>\n",
       "      <td>2.50</td>\n",
       "      <td>email opened</td>\n",
       "      <td>...</td>\n",
       "      <td>0</td>\n",
       "      <td>0</td>\n",
       "      <td>0</td>\n",
       "      <td>0</td>\n",
       "      <td>0</td>\n",
       "      <td>0</td>\n",
       "      <td>0</td>\n",
       "      <td>0</td>\n",
       "      <td>0</td>\n",
       "      <td>0</td>\n",
       "    </tr>\n",
       "    <tr>\n",
       "      <th>2</th>\n",
       "      <td>660727</td>\n",
       "      <td>landing page submission</td>\n",
       "      <td>direct traffic</td>\n",
       "      <td>no</td>\n",
       "      <td>no</td>\n",
       "      <td>1</td>\n",
       "      <td>2.0</td>\n",
       "      <td>1532</td>\n",
       "      <td>2.00</td>\n",
       "      <td>email opened</td>\n",
       "      <td>...</td>\n",
       "      <td>0</td>\n",
       "      <td>0</td>\n",
       "      <td>0</td>\n",
       "      <td>0</td>\n",
       "      <td>0</td>\n",
       "      <td>0</td>\n",
       "      <td>0</td>\n",
       "      <td>0</td>\n",
       "      <td>0</td>\n",
       "      <td>0</td>\n",
       "    </tr>\n",
       "    <tr>\n",
       "      <th>3</th>\n",
       "      <td>660719</td>\n",
       "      <td>landing page submission</td>\n",
       "      <td>direct traffic</td>\n",
       "      <td>no</td>\n",
       "      <td>no</td>\n",
       "      <td>0</td>\n",
       "      <td>1.0</td>\n",
       "      <td>305</td>\n",
       "      <td>1.00</td>\n",
       "      <td>unreachable</td>\n",
       "      <td>...</td>\n",
       "      <td>0</td>\n",
       "      <td>0</td>\n",
       "      <td>1</td>\n",
       "      <td>0</td>\n",
       "      <td>0</td>\n",
       "      <td>0</td>\n",
       "      <td>0</td>\n",
       "      <td>0</td>\n",
       "      <td>0</td>\n",
       "      <td>0</td>\n",
       "    </tr>\n",
       "    <tr>\n",
       "      <th>4</th>\n",
       "      <td>660681</td>\n",
       "      <td>landing page submission</td>\n",
       "      <td>google</td>\n",
       "      <td>no</td>\n",
       "      <td>no</td>\n",
       "      <td>1</td>\n",
       "      <td>2.0</td>\n",
       "      <td>1428</td>\n",
       "      <td>1.00</td>\n",
       "      <td>converted to lead</td>\n",
       "      <td>...</td>\n",
       "      <td>0</td>\n",
       "      <td>0</td>\n",
       "      <td>1</td>\n",
       "      <td>0</td>\n",
       "      <td>0</td>\n",
       "      <td>0</td>\n",
       "      <td>0</td>\n",
       "      <td>0</td>\n",
       "      <td>0</td>\n",
       "      <td>0</td>\n",
       "    </tr>\n",
       "    <tr>\n",
       "      <th>...</th>\n",
       "      <td>...</td>\n",
       "      <td>...</td>\n",
       "      <td>...</td>\n",
       "      <td>...</td>\n",
       "      <td>...</td>\n",
       "      <td>...</td>\n",
       "      <td>...</td>\n",
       "      <td>...</td>\n",
       "      <td>...</td>\n",
       "      <td>...</td>\n",
       "      <td>...</td>\n",
       "      <td>...</td>\n",
       "      <td>...</td>\n",
       "      <td>...</td>\n",
       "      <td>...</td>\n",
       "      <td>...</td>\n",
       "      <td>...</td>\n",
       "      <td>...</td>\n",
       "      <td>...</td>\n",
       "      <td>...</td>\n",
       "      <td>...</td>\n",
       "    </tr>\n",
       "    <tr>\n",
       "      <th>9235</th>\n",
       "      <td>579564</td>\n",
       "      <td>landing page submission</td>\n",
       "      <td>direct traffic</td>\n",
       "      <td>yes</td>\n",
       "      <td>no</td>\n",
       "      <td>1</td>\n",
       "      <td>8.0</td>\n",
       "      <td>1845</td>\n",
       "      <td>2.67</td>\n",
       "      <td>email marked spam</td>\n",
       "      <td>...</td>\n",
       "      <td>0</td>\n",
       "      <td>0</td>\n",
       "      <td>0</td>\n",
       "      <td>0</td>\n",
       "      <td>0</td>\n",
       "      <td>0</td>\n",
       "      <td>0</td>\n",
       "      <td>0</td>\n",
       "      <td>0</td>\n",
       "      <td>0</td>\n",
       "    </tr>\n",
       "    <tr>\n",
       "      <th>9236</th>\n",
       "      <td>579546</td>\n",
       "      <td>landing page submission</td>\n",
       "      <td>direct traffic</td>\n",
       "      <td>no</td>\n",
       "      <td>no</td>\n",
       "      <td>0</td>\n",
       "      <td>2.0</td>\n",
       "      <td>238</td>\n",
       "      <td>2.00</td>\n",
       "      <td>sms sent</td>\n",
       "      <td>...</td>\n",
       "      <td>0</td>\n",
       "      <td>0</td>\n",
       "      <td>0</td>\n",
       "      <td>0</td>\n",
       "      <td>0</td>\n",
       "      <td>0</td>\n",
       "      <td>1</td>\n",
       "      <td>0</td>\n",
       "      <td>0</td>\n",
       "      <td>0</td>\n",
       "    </tr>\n",
       "    <tr>\n",
       "      <th>9237</th>\n",
       "      <td>579545</td>\n",
       "      <td>landing page submission</td>\n",
       "      <td>direct traffic</td>\n",
       "      <td>yes</td>\n",
       "      <td>no</td>\n",
       "      <td>0</td>\n",
       "      <td>2.0</td>\n",
       "      <td>199</td>\n",
       "      <td>2.00</td>\n",
       "      <td>sms sent</td>\n",
       "      <td>...</td>\n",
       "      <td>0</td>\n",
       "      <td>0</td>\n",
       "      <td>0</td>\n",
       "      <td>0</td>\n",
       "      <td>0</td>\n",
       "      <td>0</td>\n",
       "      <td>1</td>\n",
       "      <td>0</td>\n",
       "      <td>0</td>\n",
       "      <td>0</td>\n",
       "    </tr>\n",
       "    <tr>\n",
       "      <th>9238</th>\n",
       "      <td>579538</td>\n",
       "      <td>landing page submission</td>\n",
       "      <td>google</td>\n",
       "      <td>no</td>\n",
       "      <td>no</td>\n",
       "      <td>1</td>\n",
       "      <td>3.0</td>\n",
       "      <td>499</td>\n",
       "      <td>3.00</td>\n",
       "      <td>sms sent</td>\n",
       "      <td>...</td>\n",
       "      <td>0</td>\n",
       "      <td>0</td>\n",
       "      <td>0</td>\n",
       "      <td>0</td>\n",
       "      <td>0</td>\n",
       "      <td>0</td>\n",
       "      <td>1</td>\n",
       "      <td>0</td>\n",
       "      <td>0</td>\n",
       "      <td>0</td>\n",
       "    </tr>\n",
       "    <tr>\n",
       "      <th>9239</th>\n",
       "      <td>579533</td>\n",
       "      <td>landing page submission</td>\n",
       "      <td>direct traffic</td>\n",
       "      <td>no</td>\n",
       "      <td>no</td>\n",
       "      <td>1</td>\n",
       "      <td>6.0</td>\n",
       "      <td>1279</td>\n",
       "      <td>3.00</td>\n",
       "      <td>sms sent</td>\n",
       "      <td>...</td>\n",
       "      <td>0</td>\n",
       "      <td>0</td>\n",
       "      <td>1</td>\n",
       "      <td>0</td>\n",
       "      <td>0</td>\n",
       "      <td>0</td>\n",
       "      <td>0</td>\n",
       "      <td>0</td>\n",
       "      <td>0</td>\n",
       "      <td>0</td>\n",
       "    </tr>\n",
       "  </tbody>\n",
       "</table>\n",
       "<p>9236 rows × 83 columns</p>\n",
       "</div>"
      ],
      "text/plain": [
       "      Lead Number              Lead Origin     Lead Source Do Not Email  \\\n",
       "0          660737                      api      olark chat           no   \n",
       "1          660728                      api  organic search           no   \n",
       "2          660727  landing page submission  direct traffic           no   \n",
       "3          660719  landing page submission  direct traffic           no   \n",
       "4          660681  landing page submission          google           no   \n",
       "...           ...                      ...             ...          ...   \n",
       "9235       579564  landing page submission  direct traffic          yes   \n",
       "9236       579546  landing page submission  direct traffic           no   \n",
       "9237       579545  landing page submission  direct traffic          yes   \n",
       "9238       579538  landing page submission          google           no   \n",
       "9239       579533  landing page submission  direct traffic           no   \n",
       "\n",
       "     Do Not Call  Converted  TotalVisits  Total Time Spent on Website  \\\n",
       "0             no          0          0.0                            0   \n",
       "1             no          0          5.0                          674   \n",
       "2             no          1          2.0                         1532   \n",
       "3             no          0          1.0                          305   \n",
       "4             no          1          2.0                         1428   \n",
       "...          ...        ...          ...                          ...   \n",
       "9235          no          1          8.0                         1845   \n",
       "9236          no          0          2.0                          238   \n",
       "9237          no          0          2.0                          199   \n",
       "9238          no          1          3.0                          499   \n",
       "9239          no          1          6.0                         1279   \n",
       "\n",
       "      Page Views Per Visit            Last Activity  ...  \\\n",
       "0                     0.00  page visited on website  ...   \n",
       "1                     2.50             email opened  ...   \n",
       "2                     2.00             email opened  ...   \n",
       "3                     1.00              unreachable  ...   \n",
       "4                     1.00        converted to lead  ...   \n",
       "...                    ...                      ...  ...   \n",
       "9235                  2.67        email marked spam  ...   \n",
       "9236                  2.00                 sms sent  ...   \n",
       "9237                  2.00                 sms sent  ...   \n",
       "9238                  3.00                 sms sent  ...   \n",
       "9239                  3.00                 sms sent  ...   \n",
       "\n",
       "     Last Notable Activity_form submitted on website  \\\n",
       "0                                                  0   \n",
       "1                                                  0   \n",
       "2                                                  0   \n",
       "3                                                  0   \n",
       "4                                                  0   \n",
       "...                                              ...   \n",
       "9235                                               0   \n",
       "9236                                               0   \n",
       "9237                                               0   \n",
       "9238                                               0   \n",
       "9239                                               0   \n",
       "\n",
       "     Last Notable Activity_had a phone conversation  \\\n",
       "0                                                 0   \n",
       "1                                                 0   \n",
       "2                                                 0   \n",
       "3                                                 0   \n",
       "4                                                 0   \n",
       "...                                             ...   \n",
       "9235                                              0   \n",
       "9236                                              0   \n",
       "9237                                              0   \n",
       "9238                                              0   \n",
       "9239                                              0   \n",
       "\n",
       "     Last Notable Activity_modified  \\\n",
       "0                                 1   \n",
       "1                                 0   \n",
       "2                                 0   \n",
       "3                                 1   \n",
       "4                                 1   \n",
       "...                             ...   \n",
       "9235                              0   \n",
       "9236                              0   \n",
       "9237                              0   \n",
       "9238                              0   \n",
       "9239                              1   \n",
       "\n",
       "     Last Notable Activity_olark chat conversation  \\\n",
       "0                                                0   \n",
       "1                                                0   \n",
       "2                                                0   \n",
       "3                                                0   \n",
       "4                                                0   \n",
       "...                                            ...   \n",
       "9235                                             0   \n",
       "9236                                             0   \n",
       "9237                                             0   \n",
       "9238                                             0   \n",
       "9239                                             0   \n",
       "\n",
       "     Last Notable Activity_page visited on website  \\\n",
       "0                                                0   \n",
       "1                                                0   \n",
       "2                                                0   \n",
       "3                                                0   \n",
       "4                                                0   \n",
       "...                                            ...   \n",
       "9235                                             0   \n",
       "9236                                             0   \n",
       "9237                                             0   \n",
       "9238                                             0   \n",
       "9239                                             0   \n",
       "\n",
       "     Last Notable Activity_resubscribed to emails  \\\n",
       "0                                               0   \n",
       "1                                               0   \n",
       "2                                               0   \n",
       "3                                               0   \n",
       "4                                               0   \n",
       "...                                           ...   \n",
       "9235                                            0   \n",
       "9236                                            0   \n",
       "9237                                            0   \n",
       "9238                                            0   \n",
       "9239                                            0   \n",
       "\n",
       "     Last Notable Activity_sms sent Last Notable Activity_unreachable  \\\n",
       "0                                 0                                 0   \n",
       "1                                 0                                 0   \n",
       "2                                 0                                 0   \n",
       "3                                 0                                 0   \n",
       "4                                 0                                 0   \n",
       "...                             ...                               ...   \n",
       "9235                              0                                 0   \n",
       "9236                              1                                 0   \n",
       "9237                              1                                 0   \n",
       "9238                              1                                 0   \n",
       "9239                              0                                 0   \n",
       "\n",
       "     Last Notable Activity_unsubscribed  \\\n",
       "0                                     0   \n",
       "1                                     0   \n",
       "2                                     0   \n",
       "3                                     0   \n",
       "4                                     0   \n",
       "...                                 ...   \n",
       "9235                                  0   \n",
       "9236                                  0   \n",
       "9237                                  0   \n",
       "9238                                  0   \n",
       "9239                                  0   \n",
       "\n",
       "     Last Notable Activity_view in browser link clicked  \n",
       "0                                                     0  \n",
       "1                                                     0  \n",
       "2                                                     0  \n",
       "3                                                     0  \n",
       "4                                                     0  \n",
       "...                                                 ...  \n",
       "9235                                                  0  \n",
       "9236                                                  0  \n",
       "9237                                                  0  \n",
       "9238                                                  0  \n",
       "9239                                                  0  \n",
       "\n",
       "[9236 rows x 83 columns]"
      ]
     },
     "execution_count": 820,
     "metadata": {},
     "output_type": "execute_result"
    }
   ],
   "source": [
    "# Create dummy variables using the 'get_dummies'\n",
    "dummy = pd.get_dummies(leeds[['Lead Origin','Lead Source', 'Do Not Email', 'Last Activity', 'What is your current occupation','A free copy of Mastering The Interview', 'Last Notable Activity']], drop_first=True)\n",
    "# Add the results to the master dataframe\n",
    "leeds = pd.concat([leeds, dummy], axis=1)\n",
    "leeds"
   ]
  },
  {
   "cell_type": "code",
   "execution_count": 821,
   "metadata": {
    "execution": {
     "iopub.execute_input": "2023-01-21T15:14:54.512705Z",
     "iopub.status.busy": "2023-01-21T15:14:54.512362Z",
     "iopub.status.idle": "2023-01-21T15:14:54.542873Z",
     "shell.execute_reply": "2023-01-21T15:14:54.541497Z",
     "shell.execute_reply.started": "2023-01-21T15:14:54.512668Z"
    }
   },
   "outputs": [
    {
     "data": {
      "text/html": [
       "<div>\n",
       "<style scoped>\n",
       "    .dataframe tbody tr th:only-of-type {\n",
       "        vertical-align: middle;\n",
       "    }\n",
       "\n",
       "    .dataframe tbody tr th {\n",
       "        vertical-align: top;\n",
       "    }\n",
       "\n",
       "    .dataframe thead th {\n",
       "        text-align: right;\n",
       "    }\n",
       "</style>\n",
       "<table border=\"1\" class=\"dataframe\">\n",
       "  <thead>\n",
       "    <tr style=\"text-align: right;\">\n",
       "      <th></th>\n",
       "      <th>Lead Number</th>\n",
       "      <th>Converted</th>\n",
       "      <th>TotalVisits</th>\n",
       "      <th>Total Time Spent on Website</th>\n",
       "      <th>Page Views Per Visit</th>\n",
       "      <th>Lead Origin_landing page submission</th>\n",
       "      <th>Lead Origin_lead add form</th>\n",
       "      <th>Lead Origin_lead import</th>\n",
       "      <th>Lead Origin_quick add form</th>\n",
       "      <th>Lead Source_blog</th>\n",
       "      <th>...</th>\n",
       "      <th>Last Notable Activity_form submitted on website</th>\n",
       "      <th>Last Notable Activity_had a phone conversation</th>\n",
       "      <th>Last Notable Activity_modified</th>\n",
       "      <th>Last Notable Activity_olark chat conversation</th>\n",
       "      <th>Last Notable Activity_page visited on website</th>\n",
       "      <th>Last Notable Activity_resubscribed to emails</th>\n",
       "      <th>Last Notable Activity_sms sent</th>\n",
       "      <th>Last Notable Activity_unreachable</th>\n",
       "      <th>Last Notable Activity_unsubscribed</th>\n",
       "      <th>Last Notable Activity_view in browser link clicked</th>\n",
       "    </tr>\n",
       "  </thead>\n",
       "  <tbody>\n",
       "    <tr>\n",
       "      <th>0</th>\n",
       "      <td>660737</td>\n",
       "      <td>0</td>\n",
       "      <td>0.0</td>\n",
       "      <td>0</td>\n",
       "      <td>0.00</td>\n",
       "      <td>0</td>\n",
       "      <td>0</td>\n",
       "      <td>0</td>\n",
       "      <td>0</td>\n",
       "      <td>0</td>\n",
       "      <td>...</td>\n",
       "      <td>0</td>\n",
       "      <td>0</td>\n",
       "      <td>1</td>\n",
       "      <td>0</td>\n",
       "      <td>0</td>\n",
       "      <td>0</td>\n",
       "      <td>0</td>\n",
       "      <td>0</td>\n",
       "      <td>0</td>\n",
       "      <td>0</td>\n",
       "    </tr>\n",
       "    <tr>\n",
       "      <th>1</th>\n",
       "      <td>660728</td>\n",
       "      <td>0</td>\n",
       "      <td>5.0</td>\n",
       "      <td>674</td>\n",
       "      <td>2.50</td>\n",
       "      <td>0</td>\n",
       "      <td>0</td>\n",
       "      <td>0</td>\n",
       "      <td>0</td>\n",
       "      <td>0</td>\n",
       "      <td>...</td>\n",
       "      <td>0</td>\n",
       "      <td>0</td>\n",
       "      <td>0</td>\n",
       "      <td>0</td>\n",
       "      <td>0</td>\n",
       "      <td>0</td>\n",
       "      <td>0</td>\n",
       "      <td>0</td>\n",
       "      <td>0</td>\n",
       "      <td>0</td>\n",
       "    </tr>\n",
       "    <tr>\n",
       "      <th>2</th>\n",
       "      <td>660727</td>\n",
       "      <td>1</td>\n",
       "      <td>2.0</td>\n",
       "      <td>1532</td>\n",
       "      <td>2.00</td>\n",
       "      <td>1</td>\n",
       "      <td>0</td>\n",
       "      <td>0</td>\n",
       "      <td>0</td>\n",
       "      <td>0</td>\n",
       "      <td>...</td>\n",
       "      <td>0</td>\n",
       "      <td>0</td>\n",
       "      <td>0</td>\n",
       "      <td>0</td>\n",
       "      <td>0</td>\n",
       "      <td>0</td>\n",
       "      <td>0</td>\n",
       "      <td>0</td>\n",
       "      <td>0</td>\n",
       "      <td>0</td>\n",
       "    </tr>\n",
       "    <tr>\n",
       "      <th>3</th>\n",
       "      <td>660719</td>\n",
       "      <td>0</td>\n",
       "      <td>1.0</td>\n",
       "      <td>305</td>\n",
       "      <td>1.00</td>\n",
       "      <td>1</td>\n",
       "      <td>0</td>\n",
       "      <td>0</td>\n",
       "      <td>0</td>\n",
       "      <td>0</td>\n",
       "      <td>...</td>\n",
       "      <td>0</td>\n",
       "      <td>0</td>\n",
       "      <td>1</td>\n",
       "      <td>0</td>\n",
       "      <td>0</td>\n",
       "      <td>0</td>\n",
       "      <td>0</td>\n",
       "      <td>0</td>\n",
       "      <td>0</td>\n",
       "      <td>0</td>\n",
       "    </tr>\n",
       "    <tr>\n",
       "      <th>4</th>\n",
       "      <td>660681</td>\n",
       "      <td>1</td>\n",
       "      <td>2.0</td>\n",
       "      <td>1428</td>\n",
       "      <td>1.00</td>\n",
       "      <td>1</td>\n",
       "      <td>0</td>\n",
       "      <td>0</td>\n",
       "      <td>0</td>\n",
       "      <td>0</td>\n",
       "      <td>...</td>\n",
       "      <td>0</td>\n",
       "      <td>0</td>\n",
       "      <td>1</td>\n",
       "      <td>0</td>\n",
       "      <td>0</td>\n",
       "      <td>0</td>\n",
       "      <td>0</td>\n",
       "      <td>0</td>\n",
       "      <td>0</td>\n",
       "      <td>0</td>\n",
       "    </tr>\n",
       "    <tr>\n",
       "      <th>...</th>\n",
       "      <td>...</td>\n",
       "      <td>...</td>\n",
       "      <td>...</td>\n",
       "      <td>...</td>\n",
       "      <td>...</td>\n",
       "      <td>...</td>\n",
       "      <td>...</td>\n",
       "      <td>...</td>\n",
       "      <td>...</td>\n",
       "      <td>...</td>\n",
       "      <td>...</td>\n",
       "      <td>...</td>\n",
       "      <td>...</td>\n",
       "      <td>...</td>\n",
       "      <td>...</td>\n",
       "      <td>...</td>\n",
       "      <td>...</td>\n",
       "      <td>...</td>\n",
       "      <td>...</td>\n",
       "      <td>...</td>\n",
       "      <td>...</td>\n",
       "    </tr>\n",
       "    <tr>\n",
       "      <th>9235</th>\n",
       "      <td>579564</td>\n",
       "      <td>1</td>\n",
       "      <td>8.0</td>\n",
       "      <td>1845</td>\n",
       "      <td>2.67</td>\n",
       "      <td>1</td>\n",
       "      <td>0</td>\n",
       "      <td>0</td>\n",
       "      <td>0</td>\n",
       "      <td>0</td>\n",
       "      <td>...</td>\n",
       "      <td>0</td>\n",
       "      <td>0</td>\n",
       "      <td>0</td>\n",
       "      <td>0</td>\n",
       "      <td>0</td>\n",
       "      <td>0</td>\n",
       "      <td>0</td>\n",
       "      <td>0</td>\n",
       "      <td>0</td>\n",
       "      <td>0</td>\n",
       "    </tr>\n",
       "    <tr>\n",
       "      <th>9236</th>\n",
       "      <td>579546</td>\n",
       "      <td>0</td>\n",
       "      <td>2.0</td>\n",
       "      <td>238</td>\n",
       "      <td>2.00</td>\n",
       "      <td>1</td>\n",
       "      <td>0</td>\n",
       "      <td>0</td>\n",
       "      <td>0</td>\n",
       "      <td>0</td>\n",
       "      <td>...</td>\n",
       "      <td>0</td>\n",
       "      <td>0</td>\n",
       "      <td>0</td>\n",
       "      <td>0</td>\n",
       "      <td>0</td>\n",
       "      <td>0</td>\n",
       "      <td>1</td>\n",
       "      <td>0</td>\n",
       "      <td>0</td>\n",
       "      <td>0</td>\n",
       "    </tr>\n",
       "    <tr>\n",
       "      <th>9237</th>\n",
       "      <td>579545</td>\n",
       "      <td>0</td>\n",
       "      <td>2.0</td>\n",
       "      <td>199</td>\n",
       "      <td>2.00</td>\n",
       "      <td>1</td>\n",
       "      <td>0</td>\n",
       "      <td>0</td>\n",
       "      <td>0</td>\n",
       "      <td>0</td>\n",
       "      <td>...</td>\n",
       "      <td>0</td>\n",
       "      <td>0</td>\n",
       "      <td>0</td>\n",
       "      <td>0</td>\n",
       "      <td>0</td>\n",
       "      <td>0</td>\n",
       "      <td>1</td>\n",
       "      <td>0</td>\n",
       "      <td>0</td>\n",
       "      <td>0</td>\n",
       "    </tr>\n",
       "    <tr>\n",
       "      <th>9238</th>\n",
       "      <td>579538</td>\n",
       "      <td>1</td>\n",
       "      <td>3.0</td>\n",
       "      <td>499</td>\n",
       "      <td>3.00</td>\n",
       "      <td>1</td>\n",
       "      <td>0</td>\n",
       "      <td>0</td>\n",
       "      <td>0</td>\n",
       "      <td>0</td>\n",
       "      <td>...</td>\n",
       "      <td>0</td>\n",
       "      <td>0</td>\n",
       "      <td>0</td>\n",
       "      <td>0</td>\n",
       "      <td>0</td>\n",
       "      <td>0</td>\n",
       "      <td>1</td>\n",
       "      <td>0</td>\n",
       "      <td>0</td>\n",
       "      <td>0</td>\n",
       "    </tr>\n",
       "    <tr>\n",
       "      <th>9239</th>\n",
       "      <td>579533</td>\n",
       "      <td>1</td>\n",
       "      <td>6.0</td>\n",
       "      <td>1279</td>\n",
       "      <td>3.00</td>\n",
       "      <td>1</td>\n",
       "      <td>0</td>\n",
       "      <td>0</td>\n",
       "      <td>0</td>\n",
       "      <td>0</td>\n",
       "      <td>...</td>\n",
       "      <td>0</td>\n",
       "      <td>0</td>\n",
       "      <td>1</td>\n",
       "      <td>0</td>\n",
       "      <td>0</td>\n",
       "      <td>0</td>\n",
       "      <td>0</td>\n",
       "      <td>0</td>\n",
       "      <td>0</td>\n",
       "      <td>0</td>\n",
       "    </tr>\n",
       "  </tbody>\n",
       "</table>\n",
       "<p>9236 rows × 66 columns</p>\n",
       "</div>"
      ],
      "text/plain": [
       "      Lead Number  Converted  TotalVisits  Total Time Spent on Website  \\\n",
       "0          660737          0          0.0                            0   \n",
       "1          660728          0          5.0                          674   \n",
       "2          660727          1          2.0                         1532   \n",
       "3          660719          0          1.0                          305   \n",
       "4          660681          1          2.0                         1428   \n",
       "...           ...        ...          ...                          ...   \n",
       "9235       579564          1          8.0                         1845   \n",
       "9236       579546          0          2.0                          238   \n",
       "9237       579545          0          2.0                          199   \n",
       "9238       579538          1          3.0                          499   \n",
       "9239       579533          1          6.0                         1279   \n",
       "\n",
       "      Page Views Per Visit  Lead Origin_landing page submission  \\\n",
       "0                     0.00                                    0   \n",
       "1                     2.50                                    0   \n",
       "2                     2.00                                    1   \n",
       "3                     1.00                                    1   \n",
       "4                     1.00                                    1   \n",
       "...                    ...                                  ...   \n",
       "9235                  2.67                                    1   \n",
       "9236                  2.00                                    1   \n",
       "9237                  2.00                                    1   \n",
       "9238                  3.00                                    1   \n",
       "9239                  3.00                                    1   \n",
       "\n",
       "      Lead Origin_lead add form  Lead Origin_lead import  \\\n",
       "0                             0                        0   \n",
       "1                             0                        0   \n",
       "2                             0                        0   \n",
       "3                             0                        0   \n",
       "4                             0                        0   \n",
       "...                         ...                      ...   \n",
       "9235                          0                        0   \n",
       "9236                          0                        0   \n",
       "9237                          0                        0   \n",
       "9238                          0                        0   \n",
       "9239                          0                        0   \n",
       "\n",
       "      Lead Origin_quick add form  Lead Source_blog  ...  \\\n",
       "0                              0                 0  ...   \n",
       "1                              0                 0  ...   \n",
       "2                              0                 0  ...   \n",
       "3                              0                 0  ...   \n",
       "4                              0                 0  ...   \n",
       "...                          ...               ...  ...   \n",
       "9235                           0                 0  ...   \n",
       "9236                           0                 0  ...   \n",
       "9237                           0                 0  ...   \n",
       "9238                           0                 0  ...   \n",
       "9239                           0                 0  ...   \n",
       "\n",
       "      Last Notable Activity_form submitted on website  \\\n",
       "0                                                   0   \n",
       "1                                                   0   \n",
       "2                                                   0   \n",
       "3                                                   0   \n",
       "4                                                   0   \n",
       "...                                               ...   \n",
       "9235                                                0   \n",
       "9236                                                0   \n",
       "9237                                                0   \n",
       "9238                                                0   \n",
       "9239                                                0   \n",
       "\n",
       "      Last Notable Activity_had a phone conversation  \\\n",
       "0                                                  0   \n",
       "1                                                  0   \n",
       "2                                                  0   \n",
       "3                                                  0   \n",
       "4                                                  0   \n",
       "...                                              ...   \n",
       "9235                                               0   \n",
       "9236                                               0   \n",
       "9237                                               0   \n",
       "9238                                               0   \n",
       "9239                                               0   \n",
       "\n",
       "      Last Notable Activity_modified  \\\n",
       "0                                  1   \n",
       "1                                  0   \n",
       "2                                  0   \n",
       "3                                  1   \n",
       "4                                  1   \n",
       "...                              ...   \n",
       "9235                               0   \n",
       "9236                               0   \n",
       "9237                               0   \n",
       "9238                               0   \n",
       "9239                               1   \n",
       "\n",
       "      Last Notable Activity_olark chat conversation  \\\n",
       "0                                                 0   \n",
       "1                                                 0   \n",
       "2                                                 0   \n",
       "3                                                 0   \n",
       "4                                                 0   \n",
       "...                                             ...   \n",
       "9235                                              0   \n",
       "9236                                              0   \n",
       "9237                                              0   \n",
       "9238                                              0   \n",
       "9239                                              0   \n",
       "\n",
       "      Last Notable Activity_page visited on website  \\\n",
       "0                                                 0   \n",
       "1                                                 0   \n",
       "2                                                 0   \n",
       "3                                                 0   \n",
       "4                                                 0   \n",
       "...                                             ...   \n",
       "9235                                              0   \n",
       "9236                                              0   \n",
       "9237                                              0   \n",
       "9238                                              0   \n",
       "9239                                              0   \n",
       "\n",
       "      Last Notable Activity_resubscribed to emails  \\\n",
       "0                                                0   \n",
       "1                                                0   \n",
       "2                                                0   \n",
       "3                                                0   \n",
       "4                                                0   \n",
       "...                                            ...   \n",
       "9235                                             0   \n",
       "9236                                             0   \n",
       "9237                                             0   \n",
       "9238                                             0   \n",
       "9239                                             0   \n",
       "\n",
       "      Last Notable Activity_sms sent  Last Notable Activity_unreachable  \\\n",
       "0                                  0                                  0   \n",
       "1                                  0                                  0   \n",
       "2                                  0                                  0   \n",
       "3                                  0                                  0   \n",
       "4                                  0                                  0   \n",
       "...                              ...                                ...   \n",
       "9235                               0                                  0   \n",
       "9236                               1                                  0   \n",
       "9237                               1                                  0   \n",
       "9238                               1                                  0   \n",
       "9239                               0                                  0   \n",
       "\n",
       "      Last Notable Activity_unsubscribed  \\\n",
       "0                                      0   \n",
       "1                                      0   \n",
       "2                                      0   \n",
       "3                                      0   \n",
       "4                                      0   \n",
       "...                                  ...   \n",
       "9235                                   0   \n",
       "9236                                   0   \n",
       "9237                                   0   \n",
       "9238                                   0   \n",
       "9239                                   0   \n",
       "\n",
       "      Last Notable Activity_view in browser link clicked  \n",
       "0                                                     0   \n",
       "1                                                     0   \n",
       "2                                                     0   \n",
       "3                                                     0   \n",
       "4                                                     0   \n",
       "...                                                 ...   \n",
       "9235                                                  0   \n",
       "9236                                                  0   \n",
       "9237                                                  0   \n",
       "9238                                                  0   \n",
       "9239                                                  0   \n",
       "\n",
       "[9236 rows x 66 columns]"
      ]
     },
     "execution_count": 821,
     "metadata": {},
     "output_type": "execute_result"
    }
   ],
   "source": [
    "leeds = leeds.drop(['What is your current occupation_not provided','Lead Origin', 'Lead Source', 'Do Not Email', 'Do Not Call','Last Activity', 'Country','What is your current occupation','What matters most to you in choosing a course', 'Search','Newspaper Article', 'X Education Forums', 'Newspaper','Digital Advertisement', 'Through Recommendations','A free copy of Mastering The Interview', 'Last Notable Activity'], 1)\n",
    "leeds"
   ]
  },
  {
   "cell_type": "code",
   "execution_count": 822,
   "metadata": {
    "execution": {
     "iopub.execute_input": "2023-01-21T15:14:54.544955Z",
     "iopub.status.busy": "2023-01-21T15:14:54.544611Z",
     "iopub.status.idle": "2023-01-21T15:14:54.552725Z",
     "shell.execute_reply": "2023-01-21T15:14:54.551629Z",
     "shell.execute_reply.started": "2023-01-21T15:14:54.544925Z"
    }
   },
   "outputs": [
    {
     "data": {
      "text/plain": [
       "(9236, 66)"
      ]
     },
     "execution_count": 822,
     "metadata": {},
     "output_type": "execute_result"
    }
   ],
   "source": [
    "leeds.shape"
   ]
  },
  {
   "cell_type": "code",
   "execution_count": 823,
   "metadata": {
    "execution": {
     "iopub.execute_input": "2023-01-21T15:14:54.554947Z",
     "iopub.status.busy": "2023-01-21T15:14:54.554552Z",
     "iopub.status.idle": "2023-01-21T15:14:54.656176Z",
     "shell.execute_reply": "2023-01-21T15:14:54.654862Z",
     "shell.execute_reply.started": "2023-01-21T15:14:54.554913Z"
    }
   },
   "outputs": [
    {
     "data": {
      "text/html": [
       "<div>\n",
       "<style scoped>\n",
       "    .dataframe tbody tr th:only-of-type {\n",
       "        vertical-align: middle;\n",
       "    }\n",
       "\n",
       "    .dataframe tbody tr th {\n",
       "        vertical-align: top;\n",
       "    }\n",
       "\n",
       "    .dataframe thead th {\n",
       "        text-align: right;\n",
       "    }\n",
       "</style>\n",
       "<table border=\"1\" class=\"dataframe\">\n",
       "  <thead>\n",
       "    <tr style=\"text-align: right;\">\n",
       "      <th></th>\n",
       "      <th>Lead Number</th>\n",
       "      <th>Converted</th>\n",
       "      <th>TotalVisits</th>\n",
       "      <th>Total Time Spent on Website</th>\n",
       "      <th>Page Views Per Visit</th>\n",
       "      <th>Lead Origin_landing page submission</th>\n",
       "      <th>Lead Origin_lead add form</th>\n",
       "      <th>Lead Origin_lead import</th>\n",
       "      <th>Lead Origin_quick add form</th>\n",
       "      <th>Lead Source_blog</th>\n",
       "      <th>...</th>\n",
       "      <th>Last Notable Activity_form submitted on website</th>\n",
       "      <th>Last Notable Activity_had a phone conversation</th>\n",
       "      <th>Last Notable Activity_modified</th>\n",
       "      <th>Last Notable Activity_olark chat conversation</th>\n",
       "      <th>Last Notable Activity_page visited on website</th>\n",
       "      <th>Last Notable Activity_resubscribed to emails</th>\n",
       "      <th>Last Notable Activity_sms sent</th>\n",
       "      <th>Last Notable Activity_unreachable</th>\n",
       "      <th>Last Notable Activity_unsubscribed</th>\n",
       "      <th>Last Notable Activity_view in browser link clicked</th>\n",
       "    </tr>\n",
       "  </thead>\n",
       "  <tbody>\n",
       "    <tr>\n",
       "      <th>Lead Number</th>\n",
       "      <td>1.000000</td>\n",
       "      <td>0.025362</td>\n",
       "      <td>0.029691</td>\n",
       "      <td>0.020244</td>\n",
       "      <td>0.056432</td>\n",
       "      <td>-0.075110</td>\n",
       "      <td>0.029185</td>\n",
       "      <td>0.104744</td>\n",
       "      <td>0.007749</td>\n",
       "      <td>0.014805</td>\n",
       "      <td>...</td>\n",
       "      <td>0.000620</td>\n",
       "      <td>0.000095</td>\n",
       "      <td>0.080470</td>\n",
       "      <td>-0.031614</td>\n",
       "      <td>0.002003</td>\n",
       "      <td>0.005942</td>\n",
       "      <td>-0.169974</td>\n",
       "      <td>0.007644</td>\n",
       "      <td>-0.002990</td>\n",
       "      <td>0.001501</td>\n",
       "    </tr>\n",
       "    <tr>\n",
       "      <th>Converted</th>\n",
       "      <td>0.025362</td>\n",
       "      <td>1.000000</td>\n",
       "      <td>0.036829</td>\n",
       "      <td>0.362651</td>\n",
       "      <td>-0.002590</td>\n",
       "      <td>-0.051142</td>\n",
       "      <td>0.321733</td>\n",
       "      <td>-0.023709</td>\n",
       "      <td>0.013139</td>\n",
       "      <td>-0.008241</td>\n",
       "      <td>...</td>\n",
       "      <td>-0.008241</td>\n",
       "      <td>0.043480</td>\n",
       "      <td>-0.244300</td>\n",
       "      <td>-0.072691</td>\n",
       "      <td>-0.036055</td>\n",
       "      <td>0.013139</td>\n",
       "      <td>0.351868</td>\n",
       "      <td>0.036594</td>\n",
       "      <td>-0.012869</td>\n",
       "      <td>-0.008241</td>\n",
       "    </tr>\n",
       "    <tr>\n",
       "      <th>TotalVisits</th>\n",
       "      <td>0.029691</td>\n",
       "      <td>0.036829</td>\n",
       "      <td>1.000000</td>\n",
       "      <td>0.297937</td>\n",
       "      <td>0.656662</td>\n",
       "      <td>0.374696</td>\n",
       "      <td>-0.216136</td>\n",
       "      <td>-0.041466</td>\n",
       "      <td>-0.001099</td>\n",
       "      <td>0.001798</td>\n",
       "      <td>...</td>\n",
       "      <td>-0.003995</td>\n",
       "      <td>0.030746</td>\n",
       "      <td>-0.134036</td>\n",
       "      <td>-0.047880</td>\n",
       "      <td>0.227734</td>\n",
       "      <td>-0.009788</td>\n",
       "      <td>0.004918</td>\n",
       "      <td>0.008649</td>\n",
       "      <td>0.002615</td>\n",
       "      <td>0.013384</td>\n",
       "    </tr>\n",
       "    <tr>\n",
       "      <th>Total Time Spent on Website</th>\n",
       "      <td>0.020244</td>\n",
       "      <td>0.362651</td>\n",
       "      <td>0.297937</td>\n",
       "      <td>1.000000</td>\n",
       "      <td>0.326254</td>\n",
       "      <td>0.276205</td>\n",
       "      <td>-0.139731</td>\n",
       "      <td>-0.034939</td>\n",
       "      <td>0.032832</td>\n",
       "      <td>0.003593</td>\n",
       "      <td>...</td>\n",
       "      <td>-0.003812</td>\n",
       "      <td>0.022258</td>\n",
       "      <td>-0.106906</td>\n",
       "      <td>-0.051425</td>\n",
       "      <td>0.027257</td>\n",
       "      <td>-0.009261</td>\n",
       "      <td>0.125021</td>\n",
       "      <td>0.008934</td>\n",
       "      <td>0.000494</td>\n",
       "      <td>-0.007571</td>\n",
       "    </tr>\n",
       "    <tr>\n",
       "      <th>Page Views Per Visit</th>\n",
       "      <td>0.056432</td>\n",
       "      <td>-0.002590</td>\n",
       "      <td>0.656662</td>\n",
       "      <td>0.326254</td>\n",
       "      <td>1.000000</td>\n",
       "      <td>0.498361</td>\n",
       "      <td>-0.268928</td>\n",
       "      <td>-0.049738</td>\n",
       "      <td>-0.001760</td>\n",
       "      <td>0.008276</td>\n",
       "      <td>...</td>\n",
       "      <td>-0.001760</td>\n",
       "      <td>0.014750</td>\n",
       "      <td>-0.103047</td>\n",
       "      <td>-0.090154</td>\n",
       "      <td>0.026161</td>\n",
       "      <td>-0.011797</td>\n",
       "      <td>0.060637</td>\n",
       "      <td>0.020604</td>\n",
       "      <td>0.019091</td>\n",
       "      <td>0.001602</td>\n",
       "    </tr>\n",
       "    <tr>\n",
       "      <th>...</th>\n",
       "      <td>...</td>\n",
       "      <td>...</td>\n",
       "      <td>...</td>\n",
       "      <td>...</td>\n",
       "      <td>...</td>\n",
       "      <td>...</td>\n",
       "      <td>...</td>\n",
       "      <td>...</td>\n",
       "      <td>...</td>\n",
       "      <td>...</td>\n",
       "      <td>...</td>\n",
       "      <td>...</td>\n",
       "      <td>...</td>\n",
       "      <td>...</td>\n",
       "      <td>...</td>\n",
       "      <td>...</td>\n",
       "      <td>...</td>\n",
       "      <td>...</td>\n",
       "      <td>...</td>\n",
       "      <td>...</td>\n",
       "      <td>...</td>\n",
       "    </tr>\n",
       "    <tr>\n",
       "      <th>Last Notable Activity_resubscribed to emails</th>\n",
       "      <td>0.005942</td>\n",
       "      <td>0.013139</td>\n",
       "      <td>-0.009788</td>\n",
       "      <td>-0.009261</td>\n",
       "      <td>-0.011797</td>\n",
       "      <td>-0.011019</td>\n",
       "      <td>-0.003021</td>\n",
       "      <td>-0.000805</td>\n",
       "      <td>-0.000108</td>\n",
       "      <td>-0.000108</td>\n",
       "      <td>...</td>\n",
       "      <td>-0.000108</td>\n",
       "      <td>-0.000405</td>\n",
       "      <td>-0.007954</td>\n",
       "      <td>-0.001479</td>\n",
       "      <td>-0.001955</td>\n",
       "      <td>1.000000</td>\n",
       "      <td>-0.005770</td>\n",
       "      <td>-0.000614</td>\n",
       "      <td>-0.000744</td>\n",
       "      <td>-0.000108</td>\n",
       "    </tr>\n",
       "    <tr>\n",
       "      <th>Last Notable Activity_sms sent</th>\n",
       "      <td>-0.169974</td>\n",
       "      <td>0.351868</td>\n",
       "      <td>0.004918</td>\n",
       "      <td>0.125021</td>\n",
       "      <td>0.060637</td>\n",
       "      <td>0.057749</td>\n",
       "      <td>0.092628</td>\n",
       "      <td>-0.039600</td>\n",
       "      <td>-0.005770</td>\n",
       "      <td>-0.005770</td>\n",
       "      <td>...</td>\n",
       "      <td>-0.005770</td>\n",
       "      <td>-0.021605</td>\n",
       "      <td>-0.423831</td>\n",
       "      <td>-0.078838</td>\n",
       "      <td>-0.104196</td>\n",
       "      <td>-0.005770</td>\n",
       "      <td>1.000000</td>\n",
       "      <td>-0.032696</td>\n",
       "      <td>-0.039657</td>\n",
       "      <td>-0.005770</td>\n",
       "    </tr>\n",
       "    <tr>\n",
       "      <th>Last Notable Activity_unreachable</th>\n",
       "      <td>0.007644</td>\n",
       "      <td>0.036594</td>\n",
       "      <td>0.008649</td>\n",
       "      <td>0.008934</td>\n",
       "      <td>0.020604</td>\n",
       "      <td>0.000315</td>\n",
       "      <td>0.003526</td>\n",
       "      <td>-0.004564</td>\n",
       "      <td>-0.000614</td>\n",
       "      <td>-0.000614</td>\n",
       "      <td>...</td>\n",
       "      <td>-0.000614</td>\n",
       "      <td>-0.002297</td>\n",
       "      <td>-0.045069</td>\n",
       "      <td>-0.008383</td>\n",
       "      <td>-0.011080</td>\n",
       "      <td>-0.000614</td>\n",
       "      <td>-0.032696</td>\n",
       "      <td>1.000000</td>\n",
       "      <td>-0.004217</td>\n",
       "      <td>-0.000614</td>\n",
       "    </tr>\n",
       "    <tr>\n",
       "      <th>Last Notable Activity_unsubscribed</th>\n",
       "      <td>-0.002990</td>\n",
       "      <td>-0.012869</td>\n",
       "      <td>0.002615</td>\n",
       "      <td>0.000494</td>\n",
       "      <td>0.019091</td>\n",
       "      <td>0.015719</td>\n",
       "      <td>-0.009398</td>\n",
       "      <td>-0.005535</td>\n",
       "      <td>-0.000744</td>\n",
       "      <td>-0.000744</td>\n",
       "      <td>...</td>\n",
       "      <td>-0.000744</td>\n",
       "      <td>-0.002787</td>\n",
       "      <td>-0.054664</td>\n",
       "      <td>-0.010168</td>\n",
       "      <td>-0.013439</td>\n",
       "      <td>-0.000744</td>\n",
       "      <td>-0.039657</td>\n",
       "      <td>-0.004217</td>\n",
       "      <td>1.000000</td>\n",
       "      <td>-0.000744</td>\n",
       "    </tr>\n",
       "    <tr>\n",
       "      <th>Last Notable Activity_view in browser link clicked</th>\n",
       "      <td>0.001501</td>\n",
       "      <td>-0.008241</td>\n",
       "      <td>0.013384</td>\n",
       "      <td>-0.007571</td>\n",
       "      <td>0.001602</td>\n",
       "      <td>-0.011019</td>\n",
       "      <td>-0.003021</td>\n",
       "      <td>-0.000805</td>\n",
       "      <td>-0.000108</td>\n",
       "      <td>-0.000108</td>\n",
       "      <td>...</td>\n",
       "      <td>-0.000108</td>\n",
       "      <td>-0.000405</td>\n",
       "      <td>-0.007954</td>\n",
       "      <td>-0.001479</td>\n",
       "      <td>-0.001955</td>\n",
       "      <td>-0.000108</td>\n",
       "      <td>-0.005770</td>\n",
       "      <td>-0.000614</td>\n",
       "      <td>-0.000744</td>\n",
       "      <td>1.000000</td>\n",
       "    </tr>\n",
       "  </tbody>\n",
       "</table>\n",
       "<p>66 rows × 66 columns</p>\n",
       "</div>"
      ],
      "text/plain": [
       "                                                    Lead Number  Converted  \\\n",
       "Lead Number                                            1.000000   0.025362   \n",
       "Converted                                              0.025362   1.000000   \n",
       "TotalVisits                                            0.029691   0.036829   \n",
       "Total Time Spent on Website                            0.020244   0.362651   \n",
       "Page Views Per Visit                                   0.056432  -0.002590   \n",
       "...                                                         ...        ...   \n",
       "Last Notable Activity_resubscribed to emails           0.005942   0.013139   \n",
       "Last Notable Activity_sms sent                        -0.169974   0.351868   \n",
       "Last Notable Activity_unreachable                      0.007644   0.036594   \n",
       "Last Notable Activity_unsubscribed                    -0.002990  -0.012869   \n",
       "Last Notable Activity_view in browser link clicked     0.001501  -0.008241   \n",
       "\n",
       "                                                    TotalVisits  \\\n",
       "Lead Number                                            0.029691   \n",
       "Converted                                              0.036829   \n",
       "TotalVisits                                            1.000000   \n",
       "Total Time Spent on Website                            0.297937   \n",
       "Page Views Per Visit                                   0.656662   \n",
       "...                                                         ...   \n",
       "Last Notable Activity_resubscribed to emails          -0.009788   \n",
       "Last Notable Activity_sms sent                         0.004918   \n",
       "Last Notable Activity_unreachable                      0.008649   \n",
       "Last Notable Activity_unsubscribed                     0.002615   \n",
       "Last Notable Activity_view in browser link clicked     0.013384   \n",
       "\n",
       "                                                    Total Time Spent on Website  \\\n",
       "Lead Number                                                            0.020244   \n",
       "Converted                                                              0.362651   \n",
       "TotalVisits                                                            0.297937   \n",
       "Total Time Spent on Website                                            1.000000   \n",
       "Page Views Per Visit                                                   0.326254   \n",
       "...                                                                         ...   \n",
       "Last Notable Activity_resubscribed to emails                          -0.009261   \n",
       "Last Notable Activity_sms sent                                         0.125021   \n",
       "Last Notable Activity_unreachable                                      0.008934   \n",
       "Last Notable Activity_unsubscribed                                     0.000494   \n",
       "Last Notable Activity_view in browser link clicked                    -0.007571   \n",
       "\n",
       "                                                    Page Views Per Visit  \\\n",
       "Lead Number                                                     0.056432   \n",
       "Converted                                                      -0.002590   \n",
       "TotalVisits                                                     0.656662   \n",
       "Total Time Spent on Website                                     0.326254   \n",
       "Page Views Per Visit                                            1.000000   \n",
       "...                                                                  ...   \n",
       "Last Notable Activity_resubscribed to emails                   -0.011797   \n",
       "Last Notable Activity_sms sent                                  0.060637   \n",
       "Last Notable Activity_unreachable                               0.020604   \n",
       "Last Notable Activity_unsubscribed                              0.019091   \n",
       "Last Notable Activity_view in browser link clicked              0.001602   \n",
       "\n",
       "                                                    Lead Origin_landing page submission  \\\n",
       "Lead Number                                                                   -0.075110   \n",
       "Converted                                                                     -0.051142   \n",
       "TotalVisits                                                                    0.374696   \n",
       "Total Time Spent on Website                                                    0.276205   \n",
       "Page Views Per Visit                                                           0.498361   \n",
       "...                                                                                 ...   \n",
       "Last Notable Activity_resubscribed to emails                                  -0.011019   \n",
       "Last Notable Activity_sms sent                                                 0.057749   \n",
       "Last Notable Activity_unreachable                                              0.000315   \n",
       "Last Notable Activity_unsubscribed                                             0.015719   \n",
       "Last Notable Activity_view in browser link clicked                            -0.011019   \n",
       "\n",
       "                                                    Lead Origin_lead add form  \\\n",
       "Lead Number                                                          0.029185   \n",
       "Converted                                                            0.321733   \n",
       "TotalVisits                                                         -0.216136   \n",
       "Total Time Spent on Website                                         -0.139731   \n",
       "Page Views Per Visit                                                -0.268928   \n",
       "...                                                                       ...   \n",
       "Last Notable Activity_resubscribed to emails                        -0.003021   \n",
       "Last Notable Activity_sms sent                                       0.092628   \n",
       "Last Notable Activity_unreachable                                    0.003526   \n",
       "Last Notable Activity_unsubscribed                                  -0.009398   \n",
       "Last Notable Activity_view in browser link clicked                  -0.003021   \n",
       "\n",
       "                                                    Lead Origin_lead import  \\\n",
       "Lead Number                                                        0.104744   \n",
       "Converted                                                         -0.023709   \n",
       "TotalVisits                                                       -0.041466   \n",
       "Total Time Spent on Website                                       -0.034939   \n",
       "Page Views Per Visit                                              -0.049738   \n",
       "...                                                                     ...   \n",
       "Last Notable Activity_resubscribed to emails                      -0.000805   \n",
       "Last Notable Activity_sms sent                                    -0.039600   \n",
       "Last Notable Activity_unreachable                                 -0.004564   \n",
       "Last Notable Activity_unsubscribed                                -0.005535   \n",
       "Last Notable Activity_view in browser link clicked                -0.000805   \n",
       "\n",
       "                                                    Lead Origin_quick add form  \\\n",
       "Lead Number                                                           0.007749   \n",
       "Converted                                                             0.013139   \n",
       "TotalVisits                                                          -0.001099   \n",
       "Total Time Spent on Website                                           0.032832   \n",
       "Page Views Per Visit                                                 -0.001760   \n",
       "...                                                                        ...   \n",
       "Last Notable Activity_resubscribed to emails                         -0.000108   \n",
       "Last Notable Activity_sms sent                                       -0.005770   \n",
       "Last Notable Activity_unreachable                                    -0.000614   \n",
       "Last Notable Activity_unsubscribed                                   -0.000744   \n",
       "Last Notable Activity_view in browser link clicked                   -0.000108   \n",
       "\n",
       "                                                    Lead Source_blog  ...  \\\n",
       "Lead Number                                                 0.014805  ...   \n",
       "Converted                                                  -0.008241  ...   \n",
       "TotalVisits                                                 0.001798  ...   \n",
       "Total Time Spent on Website                                 0.003593  ...   \n",
       "Page Views Per Visit                                        0.008276  ...   \n",
       "...                                                              ...  ...   \n",
       "Last Notable Activity_resubscribed to emails               -0.000108  ...   \n",
       "Last Notable Activity_sms sent                             -0.005770  ...   \n",
       "Last Notable Activity_unreachable                          -0.000614  ...   \n",
       "Last Notable Activity_unsubscribed                         -0.000744  ...   \n",
       "Last Notable Activity_view in browser link clicked         -0.000108  ...   \n",
       "\n",
       "                                                    Last Notable Activity_form submitted on website  \\\n",
       "Lead Number                                                                                0.000620   \n",
       "Converted                                                                                 -0.008241   \n",
       "TotalVisits                                                                               -0.003995   \n",
       "Total Time Spent on Website                                                               -0.003812   \n",
       "Page Views Per Visit                                                                      -0.001760   \n",
       "...                                                                                             ...   \n",
       "Last Notable Activity_resubscribed to emails                                              -0.000108   \n",
       "Last Notable Activity_sms sent                                                            -0.005770   \n",
       "Last Notable Activity_unreachable                                                         -0.000614   \n",
       "Last Notable Activity_unsubscribed                                                        -0.000744   \n",
       "Last Notable Activity_view in browser link clicked                                        -0.000108   \n",
       "\n",
       "                                                    Last Notable Activity_had a phone conversation  \\\n",
       "Lead Number                                                                               0.000095   \n",
       "Converted                                                                                 0.043480   \n",
       "TotalVisits                                                                               0.030746   \n",
       "Total Time Spent on Website                                                               0.022258   \n",
       "Page Views Per Visit                                                                      0.014750   \n",
       "...                                                                                            ...   \n",
       "Last Notable Activity_resubscribed to emails                                             -0.000405   \n",
       "Last Notable Activity_sms sent                                                           -0.021605   \n",
       "Last Notable Activity_unreachable                                                        -0.002297   \n",
       "Last Notable Activity_unsubscribed                                                       -0.002787   \n",
       "Last Notable Activity_view in browser link clicked                                       -0.000405   \n",
       "\n",
       "                                                    Last Notable Activity_modified  \\\n",
       "Lead Number                                                               0.080470   \n",
       "Converted                                                                -0.244300   \n",
       "TotalVisits                                                              -0.134036   \n",
       "Total Time Spent on Website                                              -0.106906   \n",
       "Page Views Per Visit                                                     -0.103047   \n",
       "...                                                                            ...   \n",
       "Last Notable Activity_resubscribed to emails                             -0.007954   \n",
       "Last Notable Activity_sms sent                                           -0.423831   \n",
       "Last Notable Activity_unreachable                                        -0.045069   \n",
       "Last Notable Activity_unsubscribed                                       -0.054664   \n",
       "Last Notable Activity_view in browser link clicked                       -0.007954   \n",
       "\n",
       "                                                    Last Notable Activity_olark chat conversation  \\\n",
       "Lead Number                                                                             -0.031614   \n",
       "Converted                                                                               -0.072691   \n",
       "TotalVisits                                                                             -0.047880   \n",
       "Total Time Spent on Website                                                             -0.051425   \n",
       "Page Views Per Visit                                                                    -0.090154   \n",
       "...                                                                                           ...   \n",
       "Last Notable Activity_resubscribed to emails                                            -0.001479   \n",
       "Last Notable Activity_sms sent                                                          -0.078838   \n",
       "Last Notable Activity_unreachable                                                       -0.008383   \n",
       "Last Notable Activity_unsubscribed                                                      -0.010168   \n",
       "Last Notable Activity_view in browser link clicked                                      -0.001479   \n",
       "\n",
       "                                                    Last Notable Activity_page visited on website  \\\n",
       "Lead Number                                                                              0.002003   \n",
       "Converted                                                                               -0.036055   \n",
       "TotalVisits                                                                              0.227734   \n",
       "Total Time Spent on Website                                                              0.027257   \n",
       "Page Views Per Visit                                                                     0.026161   \n",
       "...                                                                                           ...   \n",
       "Last Notable Activity_resubscribed to emails                                            -0.001955   \n",
       "Last Notable Activity_sms sent                                                          -0.104196   \n",
       "Last Notable Activity_unreachable                                                       -0.011080   \n",
       "Last Notable Activity_unsubscribed                                                      -0.013439   \n",
       "Last Notable Activity_view in browser link clicked                                      -0.001955   \n",
       "\n",
       "                                                    Last Notable Activity_resubscribed to emails  \\\n",
       "Lead Number                                                                             0.005942   \n",
       "Converted                                                                               0.013139   \n",
       "TotalVisits                                                                            -0.009788   \n",
       "Total Time Spent on Website                                                            -0.009261   \n",
       "Page Views Per Visit                                                                   -0.011797   \n",
       "...                                                                                          ...   \n",
       "Last Notable Activity_resubscribed to emails                                            1.000000   \n",
       "Last Notable Activity_sms sent                                                         -0.005770   \n",
       "Last Notable Activity_unreachable                                                      -0.000614   \n",
       "Last Notable Activity_unsubscribed                                                     -0.000744   \n",
       "Last Notable Activity_view in browser link clicked                                     -0.000108   \n",
       "\n",
       "                                                    Last Notable Activity_sms sent  \\\n",
       "Lead Number                                                              -0.169974   \n",
       "Converted                                                                 0.351868   \n",
       "TotalVisits                                                               0.004918   \n",
       "Total Time Spent on Website                                               0.125021   \n",
       "Page Views Per Visit                                                      0.060637   \n",
       "...                                                                            ...   \n",
       "Last Notable Activity_resubscribed to emails                             -0.005770   \n",
       "Last Notable Activity_sms sent                                            1.000000   \n",
       "Last Notable Activity_unreachable                                        -0.032696   \n",
       "Last Notable Activity_unsubscribed                                       -0.039657   \n",
       "Last Notable Activity_view in browser link clicked                       -0.005770   \n",
       "\n",
       "                                                    Last Notable Activity_unreachable  \\\n",
       "Lead Number                                                                  0.007644   \n",
       "Converted                                                                    0.036594   \n",
       "TotalVisits                                                                  0.008649   \n",
       "Total Time Spent on Website                                                  0.008934   \n",
       "Page Views Per Visit                                                         0.020604   \n",
       "...                                                                               ...   \n",
       "Last Notable Activity_resubscribed to emails                                -0.000614   \n",
       "Last Notable Activity_sms sent                                              -0.032696   \n",
       "Last Notable Activity_unreachable                                            1.000000   \n",
       "Last Notable Activity_unsubscribed                                          -0.004217   \n",
       "Last Notable Activity_view in browser link clicked                          -0.000614   \n",
       "\n",
       "                                                    Last Notable Activity_unsubscribed  \\\n",
       "Lead Number                                                                  -0.002990   \n",
       "Converted                                                                    -0.012869   \n",
       "TotalVisits                                                                   0.002615   \n",
       "Total Time Spent on Website                                                   0.000494   \n",
       "Page Views Per Visit                                                          0.019091   \n",
       "...                                                                                ...   \n",
       "Last Notable Activity_resubscribed to emails                                 -0.000744   \n",
       "Last Notable Activity_sms sent                                               -0.039657   \n",
       "Last Notable Activity_unreachable                                            -0.004217   \n",
       "Last Notable Activity_unsubscribed                                            1.000000   \n",
       "Last Notable Activity_view in browser link clicked                           -0.000744   \n",
       "\n",
       "                                                    Last Notable Activity_view in browser link clicked  \n",
       "Lead Number                                                                                  0.001501   \n",
       "Converted                                                                                   -0.008241   \n",
       "TotalVisits                                                                                  0.013384   \n",
       "Total Time Spent on Website                                                                 -0.007571   \n",
       "Page Views Per Visit                                                                         0.001602   \n",
       "...                                                                                               ...   \n",
       "Last Notable Activity_resubscribed to emails                                                -0.000108   \n",
       "Last Notable Activity_sms sent                                                              -0.005770   \n",
       "Last Notable Activity_unreachable                                                           -0.000614   \n",
       "Last Notable Activity_unsubscribed                                                          -0.000744   \n",
       "Last Notable Activity_view in browser link clicked                                           1.000000   \n",
       "\n",
       "[66 rows x 66 columns]"
      ]
     },
     "execution_count": 823,
     "metadata": {},
     "output_type": "execute_result"
    }
   ],
   "source": [
    "leeds.corr()"
   ]
  },
  {
   "cell_type": "code",
   "execution_count": 824,
   "metadata": {
    "execution": {
     "iopub.execute_input": "2023-01-21T15:14:54.658244Z",
     "iopub.status.busy": "2023-01-21T15:14:54.657899Z",
     "iopub.status.idle": "2023-01-21T15:14:57.654886Z",
     "shell.execute_reply": "2023-01-21T15:14:57.653618Z",
     "shell.execute_reply.started": "2023-01-21T15:14:54.658209Z"
    }
   },
   "outputs": [
    {
     "data": {
      "text/plain": [
       "<AxesSubplot:>"
      ]
     },
     "execution_count": 824,
     "metadata": {},
     "output_type": "execute_result"
    },
    {
     "data": {
      "image/png": "[encoded data removed]",
      "text/plain": [
       "<Figure size 1440x1440 with 2 Axes>"
      ]
     },
     "metadata": {
      "needs_background": "light"
     },
     "output_type": "display_data"
    }
   ],
   "source": [
    "plt.figure(figsize = (20,20))\n",
    "sns.heatmap(leeds.corr(), cmap='Blues')"
   ]
  },
  {
   "cell_type": "markdown",
   "metadata": {},
   "source": [
    "# Test-Train Split"
   ]
  },
  {
   "cell_type": "code",
   "execution_count": 825,
   "metadata": {
    "execution": {
     "iopub.execute_input": "2023-01-21T15:14:57.656759Z",
     "iopub.status.busy": "2023-01-21T15:14:57.656429Z",
     "iopub.status.idle": "2023-01-21T15:14:57.661380Z",
     "shell.execute_reply": "2023-01-21T15:14:57.660353Z",
     "shell.execute_reply.started": "2023-01-21T15:14:57.656732Z"
    }
   },
   "outputs": [],
   "source": [
    "# importing the library\n",
    "from sklearn.model_selection import train_test_split"
   ]
  },
  {
   "cell_type": "code",
   "execution_count": 826,
   "metadata": {
    "execution": {
     "iopub.execute_input": "2023-01-21T15:14:57.662983Z",
     "iopub.status.busy": "2023-01-21T15:14:57.662742Z",
     "iopub.status.idle": "2023-01-21T15:14:57.679401Z",
     "shell.execute_reply": "2023-01-21T15:14:57.678224Z",
     "shell.execute_reply.started": "2023-01-21T15:14:57.662958Z"
    }
   },
   "outputs": [],
   "source": [
    "# spiltting the data set\n",
    "leeds_train,leeds_test = train_test_split(leeds, train_size = 0.7, test_size = 0.3, random_state = 100)"
   ]
  },
  {
   "cell_type": "code",
   "execution_count": 827,
   "metadata": {
    "execution": {
     "iopub.execute_input": "2023-01-21T15:14:57.681876Z",
     "iopub.status.busy": "2023-01-21T15:14:57.681389Z",
     "iopub.status.idle": "2023-01-21T15:14:57.688637Z",
     "shell.execute_reply": "2023-01-21T15:14:57.687382Z",
     "shell.execute_reply.started": "2023-01-21T15:14:57.681834Z"
    }
   },
   "outputs": [],
   "source": [
    "# Scalling of numerical features\n",
    "from sklearn.preprocessing import StandardScaler\n",
    "scaler=StandardScaler()"
   ]
  },
  {
   "cell_type": "code",
   "execution_count": 828,
   "metadata": {
    "execution": {
     "iopub.execute_input": "2023-01-21T15:14:57.690158Z",
     "iopub.status.busy": "2023-01-21T15:14:57.689845Z",
     "iopub.status.idle": "2023-01-21T15:14:57.718052Z",
     "shell.execute_reply": "2023-01-21T15:14:57.717101Z",
     "shell.execute_reply.started": "2023-01-21T15:14:57.690119Z"
    }
   },
   "outputs": [
    {
     "data": {
      "text/html": [
       "<div>\n",
       "<style scoped>\n",
       "    .dataframe tbody tr th:only-of-type {\n",
       "        vertical-align: middle;\n",
       "    }\n",
       "\n",
       "    .dataframe tbody tr th {\n",
       "        vertical-align: top;\n",
       "    }\n",
       "\n",
       "    .dataframe thead th {\n",
       "        text-align: right;\n",
       "    }\n",
       "</style>\n",
       "<table border=\"1\" class=\"dataframe\">\n",
       "  <thead>\n",
       "    <tr style=\"text-align: right;\">\n",
       "      <th></th>\n",
       "      <th>Lead Number</th>\n",
       "      <th>Converted</th>\n",
       "      <th>TotalVisits</th>\n",
       "      <th>Total Time Spent on Website</th>\n",
       "      <th>Page Views Per Visit</th>\n",
       "      <th>Lead Origin_landing page submission</th>\n",
       "      <th>Lead Origin_lead add form</th>\n",
       "      <th>Lead Origin_lead import</th>\n",
       "      <th>Lead Origin_quick add form</th>\n",
       "      <th>Lead Source_blog</th>\n",
       "      <th>...</th>\n",
       "      <th>Last Notable Activity_form submitted on website</th>\n",
       "      <th>Last Notable Activity_had a phone conversation</th>\n",
       "      <th>Last Notable Activity_modified</th>\n",
       "      <th>Last Notable Activity_olark chat conversation</th>\n",
       "      <th>Last Notable Activity_page visited on website</th>\n",
       "      <th>Last Notable Activity_resubscribed to emails</th>\n",
       "      <th>Last Notable Activity_sms sent</th>\n",
       "      <th>Last Notable Activity_unreachable</th>\n",
       "      <th>Last Notable Activity_unsubscribed</th>\n",
       "      <th>Last Notable Activity_view in browser link clicked</th>\n",
       "    </tr>\n",
       "  </thead>\n",
       "  <tbody>\n",
       "    <tr>\n",
       "      <th>8412</th>\n",
       "      <td>585646</td>\n",
       "      <td>1</td>\n",
       "      <td>-0.937999</td>\n",
       "      <td>-0.895783</td>\n",
       "      <td>-1.129528</td>\n",
       "      <td>0</td>\n",
       "      <td>1</td>\n",
       "      <td>0</td>\n",
       "      <td>0</td>\n",
       "      <td>0</td>\n",
       "      <td>...</td>\n",
       "      <td>0</td>\n",
       "      <td>0</td>\n",
       "      <td>1</td>\n",
       "      <td>0</td>\n",
       "      <td>0</td>\n",
       "      <td>0</td>\n",
       "      <td>0</td>\n",
       "      <td>0</td>\n",
       "      <td>0</td>\n",
       "      <td>0</td>\n",
       "    </tr>\n",
       "    <tr>\n",
       "      <th>3291</th>\n",
       "      <td>628478</td>\n",
       "      <td>1</td>\n",
       "      <td>-0.937999</td>\n",
       "      <td>-0.895783</td>\n",
       "      <td>-1.129528</td>\n",
       "      <td>0</td>\n",
       "      <td>1</td>\n",
       "      <td>0</td>\n",
       "      <td>0</td>\n",
       "      <td>0</td>\n",
       "      <td>...</td>\n",
       "      <td>0</td>\n",
       "      <td>0</td>\n",
       "      <td>0</td>\n",
       "      <td>0</td>\n",
       "      <td>0</td>\n",
       "      <td>0</td>\n",
       "      <td>1</td>\n",
       "      <td>0</td>\n",
       "      <td>0</td>\n",
       "      <td>0</td>\n",
       "    </tr>\n",
       "    <tr>\n",
       "      <th>8068</th>\n",
       "      <td>588064</td>\n",
       "      <td>1</td>\n",
       "      <td>-0.937999</td>\n",
       "      <td>-0.895783</td>\n",
       "      <td>-1.129528</td>\n",
       "      <td>0</td>\n",
       "      <td>1</td>\n",
       "      <td>0</td>\n",
       "      <td>0</td>\n",
       "      <td>0</td>\n",
       "      <td>...</td>\n",
       "      <td>0</td>\n",
       "      <td>0</td>\n",
       "      <td>0</td>\n",
       "      <td>0</td>\n",
       "      <td>0</td>\n",
       "      <td>0</td>\n",
       "      <td>0</td>\n",
       "      <td>0</td>\n",
       "      <td>0</td>\n",
       "      <td>0</td>\n",
       "    </tr>\n",
       "    <tr>\n",
       "      <th>987</th>\n",
       "      <td>649586</td>\n",
       "      <td>0</td>\n",
       "      <td>-0.658287</td>\n",
       "      <td>0.587007</td>\n",
       "      <td>-0.649305</td>\n",
       "      <td>0</td>\n",
       "      <td>0</td>\n",
       "      <td>0</td>\n",
       "      <td>0</td>\n",
       "      <td>0</td>\n",
       "      <td>...</td>\n",
       "      <td>0</td>\n",
       "      <td>0</td>\n",
       "      <td>1</td>\n",
       "      <td>0</td>\n",
       "      <td>0</td>\n",
       "      <td>0</td>\n",
       "      <td>0</td>\n",
       "      <td>0</td>\n",
       "      <td>0</td>\n",
       "      <td>0</td>\n",
       "    </tr>\n",
       "    <tr>\n",
       "      <th>7421</th>\n",
       "      <td>592608</td>\n",
       "      <td>1</td>\n",
       "      <td>6.614236</td>\n",
       "      <td>-0.510076</td>\n",
       "      <td>0.047018</td>\n",
       "      <td>1</td>\n",
       "      <td>0</td>\n",
       "      <td>0</td>\n",
       "      <td>0</td>\n",
       "      <td>0</td>\n",
       "      <td>...</td>\n",
       "      <td>0</td>\n",
       "      <td>0</td>\n",
       "      <td>0</td>\n",
       "      <td>0</td>\n",
       "      <td>1</td>\n",
       "      <td>0</td>\n",
       "      <td>0</td>\n",
       "      <td>0</td>\n",
       "      <td>0</td>\n",
       "      <td>0</td>\n",
       "    </tr>\n",
       "  </tbody>\n",
       "</table>\n",
       "<p>5 rows × 66 columns</p>\n",
       "</div>"
      ],
      "text/plain": [
       "      Lead Number  Converted  TotalVisits  Total Time Spent on Website  \\\n",
       "8412       585646          1    -0.937999                    -0.895783   \n",
       "3291       628478          1    -0.937999                    -0.895783   \n",
       "8068       588064          1    -0.937999                    -0.895783   \n",
       "987        649586          0    -0.658287                     0.587007   \n",
       "7421       592608          1     6.614236                    -0.510076   \n",
       "\n",
       "      Page Views Per Visit  Lead Origin_landing page submission  \\\n",
       "8412             -1.129528                                    0   \n",
       "3291             -1.129528                                    0   \n",
       "8068             -1.129528                                    0   \n",
       "987              -0.649305                                    0   \n",
       "7421              0.047018                                    1   \n",
       "\n",
       "      Lead Origin_lead add form  Lead Origin_lead import  \\\n",
       "8412                          1                        0   \n",
       "3291                          1                        0   \n",
       "8068                          1                        0   \n",
       "987                           0                        0   \n",
       "7421                          0                        0   \n",
       "\n",
       "      Lead Origin_quick add form  Lead Source_blog  ...  \\\n",
       "8412                           0                 0  ...   \n",
       "3291                           0                 0  ...   \n",
       "8068                           0                 0  ...   \n",
       "987                            0                 0  ...   \n",
       "7421                           0                 0  ...   \n",
       "\n",
       "      Last Notable Activity_form submitted on website  \\\n",
       "8412                                                0   \n",
       "3291                                                0   \n",
       "8068                                                0   \n",
       "987                                                 0   \n",
       "7421                                                0   \n",
       "\n",
       "      Last Notable Activity_had a phone conversation  \\\n",
       "8412                                               0   \n",
       "3291                                               0   \n",
       "8068                                               0   \n",
       "987                                                0   \n",
       "7421                                               0   \n",
       "\n",
       "      Last Notable Activity_modified  \\\n",
       "8412                               1   \n",
       "3291                               0   \n",
       "8068                               0   \n",
       "987                                1   \n",
       "7421                               0   \n",
       "\n",
       "      Last Notable Activity_olark chat conversation  \\\n",
       "8412                                              0   \n",
       "3291                                              0   \n",
       "8068                                              0   \n",
       "987                                               0   \n",
       "7421                                              0   \n",
       "\n",
       "      Last Notable Activity_page visited on website  \\\n",
       "8412                                              0   \n",
       "3291                                              0   \n",
       "8068                                              0   \n",
       "987                                               0   \n",
       "7421                                              1   \n",
       "\n",
       "      Last Notable Activity_resubscribed to emails  \\\n",
       "8412                                             0   \n",
       "3291                                             0   \n",
       "8068                                             0   \n",
       "987                                              0   \n",
       "7421                                             0   \n",
       "\n",
       "      Last Notable Activity_sms sent  Last Notable Activity_unreachable  \\\n",
       "8412                               0                                  0   \n",
       "3291                               1                                  0   \n",
       "8068                               0                                  0   \n",
       "987                                0                                  0   \n",
       "7421                               0                                  0   \n",
       "\n",
       "      Last Notable Activity_unsubscribed  \\\n",
       "8412                                   0   \n",
       "3291                                   0   \n",
       "8068                                   0   \n",
       "987                                    0   \n",
       "7421                                   0   \n",
       "\n",
       "      Last Notable Activity_view in browser link clicked  \n",
       "8412                                                  0   \n",
       "3291                                                  0   \n",
       "8068                                                  0   \n",
       "987                                                   0   \n",
       "7421                                                  0   \n",
       "\n",
       "[5 rows x 66 columns]"
      ]
     },
     "execution_count": 828,
     "metadata": {},
     "output_type": "execute_result"
    }
   ],
   "source": [
    "leeds_train[['TotalVisits', 'Page Views Per Visit', 'Total Time Spent on Website']] = scaler.fit_transform(leeds_train[['TotalVisits', 'Page Views Per Visit', 'Total Time Spent on Website']])\n",
    "leeds_train.head()"
   ]
  },
  {
   "cell_type": "code",
   "execution_count": 829,
   "metadata": {
    "execution": {
     "iopub.execute_input": "2023-01-21T15:14:57.719479Z",
     "iopub.status.busy": "2023-01-21T15:14:57.719189Z",
     "iopub.status.idle": "2023-01-21T15:14:57.855076Z",
     "shell.execute_reply": "2023-01-21T15:14:57.854060Z",
     "shell.execute_reply.started": "2023-01-21T15:14:57.719453Z"
    }
   },
   "outputs": [
    {
     "data": {
      "text/html": [
       "<div>\n",
       "<style scoped>\n",
       "    .dataframe tbody tr th:only-of-type {\n",
       "        vertical-align: middle;\n",
       "    }\n",
       "\n",
       "    .dataframe tbody tr th {\n",
       "        vertical-align: top;\n",
       "    }\n",
       "\n",
       "    .dataframe thead th {\n",
       "        text-align: right;\n",
       "    }\n",
       "</style>\n",
       "<table border=\"1\" class=\"dataframe\">\n",
       "  <thead>\n",
       "    <tr style=\"text-align: right;\">\n",
       "      <th></th>\n",
       "      <th>Lead Number</th>\n",
       "      <th>Converted</th>\n",
       "      <th>TotalVisits</th>\n",
       "      <th>Total Time Spent on Website</th>\n",
       "      <th>Page Views Per Visit</th>\n",
       "      <th>Lead Origin_landing page submission</th>\n",
       "      <th>Lead Origin_lead add form</th>\n",
       "      <th>Lead Origin_lead import</th>\n",
       "      <th>Lead Origin_quick add form</th>\n",
       "      <th>Lead Source_blog</th>\n",
       "      <th>...</th>\n",
       "      <th>Last Notable Activity_form submitted on website</th>\n",
       "      <th>Last Notable Activity_had a phone conversation</th>\n",
       "      <th>Last Notable Activity_modified</th>\n",
       "      <th>Last Notable Activity_olark chat conversation</th>\n",
       "      <th>Last Notable Activity_page visited on website</th>\n",
       "      <th>Last Notable Activity_resubscribed to emails</th>\n",
       "      <th>Last Notable Activity_sms sent</th>\n",
       "      <th>Last Notable Activity_unreachable</th>\n",
       "      <th>Last Notable Activity_unsubscribed</th>\n",
       "      <th>Last Notable Activity_view in browser link clicked</th>\n",
       "    </tr>\n",
       "  </thead>\n",
       "  <tbody>\n",
       "    <tr>\n",
       "      <th>count</th>\n",
       "      <td>6465.000000</td>\n",
       "      <td>6465.000000</td>\n",
       "      <td>6.465000e+03</td>\n",
       "      <td>6.465000e+03</td>\n",
       "      <td>6.465000e+03</td>\n",
       "      <td>6465.000000</td>\n",
       "      <td>6465.000000</td>\n",
       "      <td>6465.000000</td>\n",
       "      <td>6465.0</td>\n",
       "      <td>6465.000000</td>\n",
       "      <td>...</td>\n",
       "      <td>6465.000000</td>\n",
       "      <td>6465.000000</td>\n",
       "      <td>6465.000000</td>\n",
       "      <td>6465.000000</td>\n",
       "      <td>6465.000000</td>\n",
       "      <td>6465.0</td>\n",
       "      <td>6465.000000</td>\n",
       "      <td>6465.000000</td>\n",
       "      <td>6465.000000</td>\n",
       "      <td>6465.000000</td>\n",
       "    </tr>\n",
       "    <tr>\n",
       "      <th>mean</th>\n",
       "      <td>617162.000309</td>\n",
       "      <td>0.385151</td>\n",
       "      <td>2.857558e-17</td>\n",
       "      <td>3.077370e-17</td>\n",
       "      <td>-7.088941e-17</td>\n",
       "      <td>0.525290</td>\n",
       "      <td>0.081671</td>\n",
       "      <td>0.005104</td>\n",
       "      <td>0.0</td>\n",
       "      <td>0.000155</td>\n",
       "      <td>...</td>\n",
       "      <td>0.000155</td>\n",
       "      <td>0.001547</td>\n",
       "      <td>0.365507</td>\n",
       "      <td>0.019026</td>\n",
       "      <td>0.033411</td>\n",
       "      <td>0.0</td>\n",
       "      <td>0.238051</td>\n",
       "      <td>0.003712</td>\n",
       "      <td>0.004331</td>\n",
       "      <td>0.000155</td>\n",
       "    </tr>\n",
       "    <tr>\n",
       "      <th>std</th>\n",
       "      <td>23343.934983</td>\n",
       "      <td>0.486669</td>\n",
       "      <td>1.000077e+00</td>\n",
       "      <td>1.000077e+00</td>\n",
       "      <td>1.000077e+00</td>\n",
       "      <td>0.499399</td>\n",
       "      <td>0.273883</td>\n",
       "      <td>0.071268</td>\n",
       "      <td>0.0</td>\n",
       "      <td>0.012437</td>\n",
       "      <td>...</td>\n",
       "      <td>0.012437</td>\n",
       "      <td>0.039302</td>\n",
       "      <td>0.481609</td>\n",
       "      <td>0.136625</td>\n",
       "      <td>0.179720</td>\n",
       "      <td>0.0</td>\n",
       "      <td>0.425923</td>\n",
       "      <td>0.060820</td>\n",
       "      <td>0.065673</td>\n",
       "      <td>0.012437</td>\n",
       "    </tr>\n",
       "    <tr>\n",
       "      <th>min</th>\n",
       "      <td>579533.000000</td>\n",
       "      <td>0.000000</td>\n",
       "      <td>-9.379993e-01</td>\n",
       "      <td>-8.957830e-01</td>\n",
       "      <td>-1.129528e+00</td>\n",
       "      <td>0.000000</td>\n",
       "      <td>0.000000</td>\n",
       "      <td>0.000000</td>\n",
       "      <td>0.0</td>\n",
       "      <td>0.000000</td>\n",
       "      <td>...</td>\n",
       "      <td>0.000000</td>\n",
       "      <td>0.000000</td>\n",
       "      <td>0.000000</td>\n",
       "      <td>0.000000</td>\n",
       "      <td>0.000000</td>\n",
       "      <td>0.0</td>\n",
       "      <td>0.000000</td>\n",
       "      <td>0.000000</td>\n",
       "      <td>0.000000</td>\n",
       "      <td>0.000000</td>\n",
       "    </tr>\n",
       "    <tr>\n",
       "      <th>25%</th>\n",
       "      <td>596601.000000</td>\n",
       "      <td>0.000000</td>\n",
       "      <td>-6.582868e-01</td>\n",
       "      <td>-8.703117e-01</td>\n",
       "      <td>-6.493050e-01</td>\n",
       "      <td>0.000000</td>\n",
       "      <td>0.000000</td>\n",
       "      <td>0.000000</td>\n",
       "      <td>0.0</td>\n",
       "      <td>0.000000</td>\n",
       "      <td>...</td>\n",
       "      <td>0.000000</td>\n",
       "      <td>0.000000</td>\n",
       "      <td>0.000000</td>\n",
       "      <td>0.000000</td>\n",
       "      <td>0.000000</td>\n",
       "      <td>0.0</td>\n",
       "      <td>0.000000</td>\n",
       "      <td>0.000000</td>\n",
       "      <td>0.000000</td>\n",
       "      <td>0.000000</td>\n",
       "    </tr>\n",
       "    <tr>\n",
       "      <th>50%</th>\n",
       "      <td>615466.000000</td>\n",
       "      <td>0.000000</td>\n",
       "      <td>-9.886201e-02</td>\n",
       "      <td>-4.391199e-01</td>\n",
       "      <td>-1.690822e-01</td>\n",
       "      <td>1.000000</td>\n",
       "      <td>0.000000</td>\n",
       "      <td>0.000000</td>\n",
       "      <td>0.0</td>\n",
       "      <td>0.000000</td>\n",
       "      <td>...</td>\n",
       "      <td>0.000000</td>\n",
       "      <td>0.000000</td>\n",
       "      <td>0.000000</td>\n",
       "      <td>0.000000</td>\n",
       "      <td>0.000000</td>\n",
       "      <td>0.0</td>\n",
       "      <td>0.000000</td>\n",
       "      <td>0.000000</td>\n",
       "      <td>0.000000</td>\n",
       "      <td>0.000000</td>\n",
       "    </tr>\n",
       "    <tr>\n",
       "      <th>75%</th>\n",
       "      <td>637345.000000</td>\n",
       "      <td>1.000000</td>\n",
       "      <td>4.605628e-01</td>\n",
       "      <td>8.308036e-01</td>\n",
       "      <td>3.111405e-01</td>\n",
       "      <td>1.000000</td>\n",
       "      <td>0.000000</td>\n",
       "      <td>0.000000</td>\n",
       "      <td>0.0</td>\n",
       "      <td>0.000000</td>\n",
       "      <td>...</td>\n",
       "      <td>0.000000</td>\n",
       "      <td>0.000000</td>\n",
       "      <td>1.000000</td>\n",
       "      <td>0.000000</td>\n",
       "      <td>0.000000</td>\n",
       "      <td>0.0</td>\n",
       "      <td>0.000000</td>\n",
       "      <td>0.000000</td>\n",
       "      <td>0.000000</td>\n",
       "      <td>0.000000</td>\n",
       "    </tr>\n",
       "    <tr>\n",
       "      <th>max</th>\n",
       "      <td>660728.000000</td>\n",
       "      <td>1.000000</td>\n",
       "      <td>1.976072e+01</td>\n",
       "      <td>3.237836e+00</td>\n",
       "      <td>1.039582e+01</td>\n",
       "      <td>1.000000</td>\n",
       "      <td>1.000000</td>\n",
       "      <td>1.000000</td>\n",
       "      <td>0.0</td>\n",
       "      <td>1.000000</td>\n",
       "      <td>...</td>\n",
       "      <td>1.000000</td>\n",
       "      <td>1.000000</td>\n",
       "      <td>1.000000</td>\n",
       "      <td>1.000000</td>\n",
       "      <td>1.000000</td>\n",
       "      <td>0.0</td>\n",
       "      <td>1.000000</td>\n",
       "      <td>1.000000</td>\n",
       "      <td>1.000000</td>\n",
       "      <td>1.000000</td>\n",
       "    </tr>\n",
       "  </tbody>\n",
       "</table>\n",
       "<p>8 rows × 66 columns</p>\n",
       "</div>"
      ],
      "text/plain": [
       "         Lead Number    Converted   TotalVisits  Total Time Spent on Website  \\\n",
       "count    6465.000000  6465.000000  6.465000e+03                 6.465000e+03   \n",
       "mean   617162.000309     0.385151  2.857558e-17                 3.077370e-17   \n",
       "std     23343.934983     0.486669  1.000077e+00                 1.000077e+00   \n",
       "min    579533.000000     0.000000 -9.379993e-01                -8.957830e-01   \n",
       "25%    596601.000000     0.000000 -6.582868e-01                -8.703117e-01   \n",
       "50%    615466.000000     0.000000 -9.886201e-02                -4.391199e-01   \n",
       "75%    637345.000000     1.000000  4.605628e-01                 8.308036e-01   \n",
       "max    660728.000000     1.000000  1.976072e+01                 3.237836e+00   \n",
       "\n",
       "       Page Views Per Visit  Lead Origin_landing page submission  \\\n",
       "count          6.465000e+03                          6465.000000   \n",
       "mean          -7.088941e-17                             0.525290   \n",
       "std            1.000077e+00                             0.499399   \n",
       "min           -1.129528e+00                             0.000000   \n",
       "25%           -6.493050e-01                             0.000000   \n",
       "50%           -1.690822e-01                             1.000000   \n",
       "75%            3.111405e-01                             1.000000   \n",
       "max            1.039582e+01                             1.000000   \n",
       "\n",
       "       Lead Origin_lead add form  Lead Origin_lead import  \\\n",
       "count                6465.000000              6465.000000   \n",
       "mean                    0.081671                 0.005104   \n",
       "std                     0.273883                 0.071268   \n",
       "min                     0.000000                 0.000000   \n",
       "25%                     0.000000                 0.000000   \n",
       "50%                     0.000000                 0.000000   \n",
       "75%                     0.000000                 0.000000   \n",
       "max                     1.000000                 1.000000   \n",
       "\n",
       "       Lead Origin_quick add form  Lead Source_blog  ...  \\\n",
       "count                      6465.0       6465.000000  ...   \n",
       "mean                          0.0          0.000155  ...   \n",
       "std                           0.0          0.012437  ...   \n",
       "min                           0.0          0.000000  ...   \n",
       "25%                           0.0          0.000000  ...   \n",
       "50%                           0.0          0.000000  ...   \n",
       "75%                           0.0          0.000000  ...   \n",
       "max                           0.0          1.000000  ...   \n",
       "\n",
       "       Last Notable Activity_form submitted on website  \\\n",
       "count                                      6465.000000   \n",
       "mean                                          0.000155   \n",
       "std                                           0.012437   \n",
       "min                                           0.000000   \n",
       "25%                                           0.000000   \n",
       "50%                                           0.000000   \n",
       "75%                                           0.000000   \n",
       "max                                           1.000000   \n",
       "\n",
       "       Last Notable Activity_had a phone conversation  \\\n",
       "count                                     6465.000000   \n",
       "mean                                         0.001547   \n",
       "std                                          0.039302   \n",
       "min                                          0.000000   \n",
       "25%                                          0.000000   \n",
       "50%                                          0.000000   \n",
       "75%                                          0.000000   \n",
       "max                                          1.000000   \n",
       "\n",
       "       Last Notable Activity_modified  \\\n",
       "count                     6465.000000   \n",
       "mean                         0.365507   \n",
       "std                          0.481609   \n",
       "min                          0.000000   \n",
       "25%                          0.000000   \n",
       "50%                          0.000000   \n",
       "75%                          1.000000   \n",
       "max                          1.000000   \n",
       "\n",
       "       Last Notable Activity_olark chat conversation  \\\n",
       "count                                    6465.000000   \n",
       "mean                                        0.019026   \n",
       "std                                         0.136625   \n",
       "min                                         0.000000   \n",
       "25%                                         0.000000   \n",
       "50%                                         0.000000   \n",
       "75%                                         0.000000   \n",
       "max                                         1.000000   \n",
       "\n",
       "       Last Notable Activity_page visited on website  \\\n",
       "count                                    6465.000000   \n",
       "mean                                        0.033411   \n",
       "std                                         0.179720   \n",
       "min                                         0.000000   \n",
       "25%                                         0.000000   \n",
       "50%                                         0.000000   \n",
       "75%                                         0.000000   \n",
       "max                                         1.000000   \n",
       "\n",
       "       Last Notable Activity_resubscribed to emails  \\\n",
       "count                                        6465.0   \n",
       "mean                                            0.0   \n",
       "std                                             0.0   \n",
       "min                                             0.0   \n",
       "25%                                             0.0   \n",
       "50%                                             0.0   \n",
       "75%                                             0.0   \n",
       "max                                             0.0   \n",
       "\n",
       "       Last Notable Activity_sms sent  Last Notable Activity_unreachable  \\\n",
       "count                     6465.000000                        6465.000000   \n",
       "mean                         0.238051                           0.003712   \n",
       "std                          0.425923                           0.060820   \n",
       "min                          0.000000                           0.000000   \n",
       "25%                          0.000000                           0.000000   \n",
       "50%                          0.000000                           0.000000   \n",
       "75%                          0.000000                           0.000000   \n",
       "max                          1.000000                           1.000000   \n",
       "\n",
       "       Last Notable Activity_unsubscribed  \\\n",
       "count                         6465.000000   \n",
       "mean                             0.004331   \n",
       "std                              0.065673   \n",
       "min                              0.000000   \n",
       "25%                              0.000000   \n",
       "50%                              0.000000   \n",
       "75%                              0.000000   \n",
       "max                              1.000000   \n",
       "\n",
       "       Last Notable Activity_view in browser link clicked  \n",
       "count                                        6465.000000   \n",
       "mean                                            0.000155   \n",
       "std                                             0.012437   \n",
       "min                                             0.000000   \n",
       "25%                                             0.000000   \n",
       "50%                                             0.000000   \n",
       "75%                                             0.000000   \n",
       "max                                             1.000000   \n",
       "\n",
       "[8 rows x 66 columns]"
      ]
     },
     "execution_count": 829,
     "metadata": {},
     "output_type": "execute_result"
    }
   ],
   "source": [
    "# Describing the scalled features\n",
    "leeds_train.describe()"
   ]
  },
  {
   "cell_type": "code",
   "execution_count": 830,
   "metadata": {
    "execution": {
     "iopub.execute_input": "2023-01-21T15:14:57.856682Z",
     "iopub.status.busy": "2023-01-21T15:14:57.856314Z",
     "iopub.status.idle": "2023-01-21T15:14:57.862231Z",
     "shell.execute_reply": "2023-01-21T15:14:57.861171Z",
     "shell.execute_reply.started": "2023-01-21T15:14:57.856647Z"
    }
   },
   "outputs": [],
   "source": [
    "y_train=leeds_train.pop('Converted')\n",
    "X_train=leeds_train"
   ]
  },
  {
   "cell_type": "code",
   "execution_count": 831,
   "metadata": {
    "execution": {
     "iopub.execute_input": "2023-01-21T15:14:57.863752Z",
     "iopub.status.busy": "2023-01-21T15:14:57.863395Z",
     "iopub.status.idle": "2023-01-21T15:14:57.874037Z",
     "shell.execute_reply": "2023-01-21T15:14:57.872632Z",
     "shell.execute_reply.started": "2023-01-21T15:14:57.863720Z"
    }
   },
   "outputs": [],
   "source": [
    "# Import 'LogisticRegression'\n",
    "from sklearn.linear_model import LogisticRegression\n",
    "logreg = LogisticRegression()"
   ]
  },
  {
   "cell_type": "code",
   "execution_count": 832,
   "metadata": {
    "execution": {
     "iopub.execute_input": "2023-01-21T15:14:57.876126Z",
     "iopub.status.busy": "2023-01-21T15:14:57.875740Z",
     "iopub.status.idle": "2023-01-21T15:14:57.885268Z",
     "shell.execute_reply": "2023-01-21T15:14:57.884006Z",
     "shell.execute_reply.started": "2023-01-21T15:14:57.876093Z"
    }
   },
   "outputs": [],
   "source": [
    "# Import RFE\n",
    "from sklearn.feature_selection import RFE\n"
   ]
  },
  {
   "cell_type": "code",
   "execution_count": 833,
   "metadata": {
    "execution": {
     "iopub.execute_input": "2023-01-21T15:14:57.889165Z",
     "iopub.status.busy": "2023-01-21T15:14:57.888813Z",
     "iopub.status.idle": "2023-01-21T15:14:58.482131Z",
     "shell.execute_reply": "2023-01-21T15:14:58.481352Z",
     "shell.execute_reply.started": "2023-01-21T15:14:57.889133Z"
    }
   },
   "outputs": [],
   "source": [
    "# Running RFE with 15 variables as output\n",
    "rfe = RFE(logreg,n_features_to_select=20)\n",
    "rfe = rfe.fit(X_train, y_train)"
   ]
  },
  {
   "cell_type": "code",
   "execution_count": 834,
   "metadata": {
    "execution": {
     "iopub.execute_input": "2023-01-21T15:14:58.483734Z",
     "iopub.status.busy": "2023-01-21T15:14:58.483265Z",
     "iopub.status.idle": "2023-01-21T15:14:58.496102Z",
     "shell.execute_reply": "2023-01-21T15:14:58.495326Z",
     "shell.execute_reply.started": "2023-01-21T15:14:58.483704Z"
    }
   },
   "outputs": [
    {
     "data": {
      "text/plain": [
       "[('Lead Number', True, 1),\n",
       " ('TotalVisits', True, 1),\n",
       " ('Total Time Spent on Website', True, 1),\n",
       " ('Page Views Per Visit', False, 5),\n",
       " ('Lead Origin_landing page submission', True, 1),\n",
       " ('Lead Origin_lead add form', True, 1),\n",
       " ('Lead Origin_lead import', False, 17),\n",
       " ('Lead Origin_quick add form', False, 42),\n",
       " ('Lead Source_blog', False, 41),\n",
       " ('Lead Source_click2call', False, 26),\n",
       " ('Lead Source_direct traffic', True, 1),\n",
       " ('Lead Source_facebook', False, 16),\n",
       " ('Lead Source_google', False, 6),\n",
       " ('Lead Source_live chat', False, 24),\n",
       " ('Lead Source_nc_edm', False, 31),\n",
       " ('Lead Source_olark chat', True, 1),\n",
       " ('Lead Source_organic search', False, 10),\n",
       " ('Lead Source_pay per click ads', False, 39),\n",
       " ('Lead Source_press_release', False, 34),\n",
       " ('Lead Source_reference', True, 1),\n",
       " ('Lead Source_referral sites', False, 12),\n",
       " ('Lead Source_social media', False, 28),\n",
       " ('Lead Source_testone', False, 35),\n",
       " ('Lead Source_welearn', False, 29),\n",
       " ('Lead Source_welearnblog_home', False, 38),\n",
       " ('Lead Source_welingak website', True, 1),\n",
       " ('Lead Source_youtubechannel', False, 43),\n",
       " ('Do Not Email_yes', True, 1),\n",
       " ('Last Activity_converted to lead', True, 1),\n",
       " ('Last Activity_email bounced', True, 1),\n",
       " ('Last Activity_email link clicked', False, 8),\n",
       " ('Last Activity_email marked spam', False, 33),\n",
       " ('Last Activity_email opened', False, 3),\n",
       " ('Last Activity_email received', False, 30),\n",
       " ('Last Activity_form submitted on website', False, 13),\n",
       " ('Last Activity_had a phone conversation', False, 14),\n",
       " ('Last Activity_olark chat conversation', True, 1),\n",
       " ('Last Activity_page visited on website', True, 1),\n",
       " ('Last Activity_resubscribed to emails', False, 44),\n",
       " ('Last Activity_sms sent', True, 1),\n",
       " ('Last Activity_unreachable', False, 27),\n",
       " ('Last Activity_unsubscribed', False, 20),\n",
       " ('Last Activity_view in browser link clicked', False, 25),\n",
       " ('Last Activity_visited booth in tradeshow', False, 40),\n",
       " ('What is your current occupation_housewife', False, 19),\n",
       " ('What is your current occupation_other', False, 22),\n",
       " ('What is your current occupation_student', False, 23),\n",
       " ('What is your current occupation_unemployed', True, 1),\n",
       " ('What is your current occupation_working professional', True, 1),\n",
       " ('A free copy of Mastering The Interview_yes', True, 1),\n",
       " ('Last Notable Activity_email bounced', False, 11),\n",
       " ('Last Notable Activity_email link clicked', False, 9),\n",
       " ('Last Notable Activity_email marked spam', False, 32),\n",
       " ('Last Notable Activity_email opened', False, 2),\n",
       " ('Last Notable Activity_email received', False, 45),\n",
       " ('Last Notable Activity_form submitted on website', False, 36),\n",
       " ('Last Notable Activity_had a phone conversation', False, 18),\n",
       " ('Last Notable Activity_modified', True, 1),\n",
       " ('Last Notable Activity_olark chat conversation', False, 4),\n",
       " ('Last Notable Activity_page visited on website', False, 7),\n",
       " ('Last Notable Activity_resubscribed to emails', False, 46),\n",
       " ('Last Notable Activity_sms sent', True, 1),\n",
       " ('Last Notable Activity_unreachable', False, 15),\n",
       " ('Last Notable Activity_unsubscribed', False, 21),\n",
       " ('Last Notable Activity_view in browser link clicked', False, 37)]"
      ]
     },
     "execution_count": 834,
     "metadata": {},
     "output_type": "execute_result"
    }
   ],
   "source": [
    "# Features that have been selected by RFE\n",
    "list(zip(X_train.columns, rfe.support_, rfe.ranking_))"
   ]
  },
  {
   "cell_type": "code",
   "execution_count": 835,
   "metadata": {
    "execution": {
     "iopub.execute_input": "2023-01-21T15:14:58.497803Z",
     "iopub.status.busy": "2023-01-21T15:14:58.497156Z",
     "iopub.status.idle": "2023-01-21T15:14:58.504322Z",
     "shell.execute_reply": "2023-01-21T15:14:58.503613Z",
     "shell.execute_reply.started": "2023-01-21T15:14:58.497768Z"
    }
   },
   "outputs": [],
   "source": [
    "# Put all the columns selected by RFE in the variable 'col'\n",
    "col = X_train.columns[rfe.support_]"
   ]
  },
  {
   "cell_type": "code",
   "execution_count": 836,
   "metadata": {
    "execution": {
     "iopub.execute_input": "2023-01-21T15:14:58.506049Z",
     "iopub.status.busy": "2023-01-21T15:14:58.505393Z",
     "iopub.status.idle": "2023-01-21T15:14:58.515356Z",
     "shell.execute_reply": "2023-01-21T15:14:58.514680Z",
     "shell.execute_reply.started": "2023-01-21T15:14:58.506017Z"
    }
   },
   "outputs": [],
   "source": [
    "# Selecting columns selected by RFE\n",
    "X_train = X_train[col]"
   ]
  },
  {
   "cell_type": "code",
   "execution_count": 837,
   "metadata": {
    "execution": {
     "iopub.execute_input": "2023-01-21T15:14:58.517019Z",
     "iopub.status.busy": "2023-01-21T15:14:58.516311Z",
     "iopub.status.idle": "2023-01-21T15:14:58.528414Z",
     "shell.execute_reply": "2023-01-21T15:14:58.527295Z",
     "shell.execute_reply.started": "2023-01-21T15:14:58.516988Z"
    }
   },
   "outputs": [],
   "source": [
    "# Importing statsmodels\n",
    "import statsmodels.api as sm"
   ]
  },
  {
   "cell_type": "code",
   "execution_count": 838,
   "metadata": {
    "execution": {
     "iopub.execute_input": "2023-01-21T15:14:58.530758Z",
     "iopub.status.busy": "2023-01-21T15:14:58.529884Z",
     "iopub.status.idle": "2023-01-21T15:14:58.602811Z",
     "shell.execute_reply": "2023-01-21T15:14:58.602080Z",
     "shell.execute_reply.started": "2023-01-21T15:14:58.530727Z"
    }
   },
   "outputs": [
    {
     "data": {
      "text/html": [
       "<table class=\"simpletable\">\n",
       "<caption>Generalized Linear Model Regression Results</caption>\n",
       "<tr>\n",
       "  <th>Dep. Variable:</th>       <td>Converted</td>    <th>  No. Observations:  </th>  <td>  6465</td> \n",
       "</tr>\n",
       "<tr>\n",
       "  <th>Model:</th>                  <td>GLM</td>       <th>  Df Residuals:      </th>  <td>  6444</td> \n",
       "</tr>\n",
       "<tr>\n",
       "  <th>Model Family:</th>        <td>Binomial</td>     <th>  Df Model:          </th>  <td>    20</td> \n",
       "</tr>\n",
       "<tr>\n",
       "  <th>Link Function:</th>         <td>Logit</td>      <th>  Scale:             </th> <td>  1.0000</td>\n",
       "</tr>\n",
       "<tr>\n",
       "  <th>Method:</th>                <td>IRLS</td>       <th>  Log-Likelihood:    </th> <td> -2615.9</td>\n",
       "</tr>\n",
       "<tr>\n",
       "  <th>Date:</th>            <td>Sat, 21 Jan 2023</td> <th>  Deviance:          </th> <td>  5231.8</td>\n",
       "</tr>\n",
       "<tr>\n",
       "  <th>Time:</th>                <td>15:14:58</td>     <th>  Pearson chi2:      </th> <td>6.79e+03</td>\n",
       "</tr>\n",
       "<tr>\n",
       "  <th>No. Iterations:</th>          <td>7</td>        <th>  Pseudo R-squ. (CS):</th>  <td>0.4077</td> \n",
       "</tr>\n",
       "<tr>\n",
       "  <th>Covariance Type:</th>     <td>nonrobust</td>    <th>                     </th>     <td> </td>   \n",
       "</tr>\n",
       "</table>\n",
       "<table class=\"simpletable\">\n",
       "<tr>\n",
       "                            <td></td>                              <th>coef</th>     <th>std err</th>      <th>z</th>      <th>P>|z|</th>  <th>[0.025</th>    <th>0.975]</th>  \n",
       "</tr>\n",
       "<tr>\n",
       "  <th>const</th>                                                <td>   -6.9555</td> <td>    0.993</td> <td>   -7.006</td> <td> 0.000</td> <td>   -8.901</td> <td>   -5.010</td>\n",
       "</tr>\n",
       "<tr>\n",
       "  <th>Lead Number</th>                                          <td>  8.58e-06</td> <td> 1.57e-06</td> <td>    5.464</td> <td> 0.000</td> <td>  5.5e-06</td> <td> 1.17e-05</td>\n",
       "</tr>\n",
       "<tr>\n",
       "  <th>TotalVisits</th>                                          <td>    0.1170</td> <td>    0.039</td> <td>    2.990</td> <td> 0.003</td> <td>    0.040</td> <td>    0.194</td>\n",
       "</tr>\n",
       "<tr>\n",
       "  <th>Total Time Spent on Website</th>                          <td>    1.0926</td> <td>    0.040</td> <td>   27.276</td> <td> 0.000</td> <td>    1.014</td> <td>    1.171</td>\n",
       "</tr>\n",
       "<tr>\n",
       "  <th>Lead Origin_landing page submission</th>                  <td>   -0.2975</td> <td>    0.101</td> <td>   -2.937</td> <td> 0.003</td> <td>   -0.496</td> <td>   -0.099</td>\n",
       "</tr>\n",
       "<tr>\n",
       "  <th>Lead Origin_lead add form</th>                            <td>    2.5252</td> <td>    0.511</td> <td>    4.941</td> <td> 0.000</td> <td>    1.524</td> <td>    3.527</td>\n",
       "</tr>\n",
       "<tr>\n",
       "  <th>Lead Source_direct traffic</th>                           <td>   -0.2284</td> <td>    0.103</td> <td>   -2.221</td> <td> 0.026</td> <td>   -0.430</td> <td>   -0.027</td>\n",
       "</tr>\n",
       "<tr>\n",
       "  <th>Lead Source_olark chat</th>                               <td>    1.0990</td> <td>    0.128</td> <td>    8.594</td> <td> 0.000</td> <td>    0.848</td> <td>    1.350</td>\n",
       "</tr>\n",
       "<tr>\n",
       "  <th>Lead Source_reference</th>                                <td>    0.7419</td> <td>    0.534</td> <td>    1.388</td> <td> 0.165</td> <td>   -0.306</td> <td>    1.789</td>\n",
       "</tr>\n",
       "<tr>\n",
       "  <th>Lead Source_welingak website</th>                         <td>    3.3859</td> <td>    1.128</td> <td>    3.002</td> <td> 0.003</td> <td>    1.176</td> <td>    5.596</td>\n",
       "</tr>\n",
       "<tr>\n",
       "  <th>Do Not Email_yes</th>                                     <td>   -0.9779</td> <td>    0.190</td> <td>   -5.143</td> <td> 0.000</td> <td>   -1.351</td> <td>   -0.605</td>\n",
       "</tr>\n",
       "<tr>\n",
       "  <th>Last Activity_converted to lead</th>                      <td>   -0.8272</td> <td>    0.229</td> <td>   -3.618</td> <td> 0.000</td> <td>   -1.275</td> <td>   -0.379</td>\n",
       "</tr>\n",
       "<tr>\n",
       "  <th>Last Activity_email bounced</th>                          <td>   -0.9849</td> <td>    0.371</td> <td>   -2.652</td> <td> 0.008</td> <td>   -1.713</td> <td>   -0.257</td>\n",
       "</tr>\n",
       "<tr>\n",
       "  <th>Last Activity_olark chat conversation</th>                <td>   -1.1069</td> <td>    0.174</td> <td>   -6.371</td> <td> 0.000</td> <td>   -1.447</td> <td>   -0.766</td>\n",
       "</tr>\n",
       "<tr>\n",
       "  <th>Last Activity_page visited on website</th>                <td>   -0.4100</td> <td>    0.156</td> <td>   -2.622</td> <td> 0.009</td> <td>   -0.717</td> <td>   -0.103</td>\n",
       "</tr>\n",
       "<tr>\n",
       "  <th>Last Activity_sms sent</th>                               <td>    0.6755</td> <td>    0.166</td> <td>    4.057</td> <td> 0.000</td> <td>    0.349</td> <td>    1.002</td>\n",
       "</tr>\n",
       "<tr>\n",
       "  <th>What is your current occupation_unemployed</th>           <td>    0.9446</td> <td>    0.083</td> <td>   11.449</td> <td> 0.000</td> <td>    0.783</td> <td>    1.106</td>\n",
       "</tr>\n",
       "<tr>\n",
       "  <th>What is your current occupation_working professional</th> <td>    3.3858</td> <td>    0.192</td> <td>   17.678</td> <td> 0.000</td> <td>    3.010</td> <td>    3.761</td>\n",
       "</tr>\n",
       "<tr>\n",
       "  <th>A free copy of Mastering The Interview_yes</th>           <td>    0.0191</td> <td>    0.100</td> <td>    0.191</td> <td> 0.849</td> <td>   -0.177</td> <td>    0.215</td>\n",
       "</tr>\n",
       "<tr>\n",
       "  <th>Last Notable Activity_modified</th>                       <td>   -0.4682</td> <td>    0.106</td> <td>   -4.414</td> <td> 0.000</td> <td>   -0.676</td> <td>   -0.260</td>\n",
       "</tr>\n",
       "<tr>\n",
       "  <th>Last Notable Activity_sms sent</th>                       <td>    0.6774</td> <td>    0.184</td> <td>    3.678</td> <td> 0.000</td> <td>    0.316</td> <td>    1.038</td>\n",
       "</tr>\n",
       "</table>"
      ],
      "text/plain": [
       "<class 'statsmodels.iolib.summary.Summary'>\n",
       "\"\"\"\n",
       "                 Generalized Linear Model Regression Results                  \n",
       "==============================================================================\n",
       "Dep. Variable:              Converted   No. Observations:                 6465\n",
       "Model:                            GLM   Df Residuals:                     6444\n",
       "Model Family:                Binomial   Df Model:                           20\n",
       "Link Function:                  Logit   Scale:                          1.0000\n",
       "Method:                          IRLS   Log-Likelihood:                -2615.9\n",
       "Date:                Sat, 21 Jan 2023   Deviance:                       5231.8\n",
       "Time:                        15:14:58   Pearson chi2:                 6.79e+03\n",
       "No. Iterations:                     7   Pseudo R-squ. (CS):             0.4077\n",
       "Covariance Type:            nonrobust                                         \n",
       "========================================================================================================================\n",
       "                                                           coef    std err          z      P>|z|      [0.025      0.975]\n",
       "------------------------------------------------------------------------------------------------------------------------\n",
       "const                                                   -6.9555      0.993     -7.006      0.000      -8.901      -5.010\n",
       "Lead Number                                            8.58e-06   1.57e-06      5.464      0.000     5.5e-06    1.17e-05\n",
       "TotalVisits                                              0.1170      0.039      2.990      0.003       0.040       0.194\n",
       "Total Time Spent on Website                              1.0926      0.040     27.276      0.000       1.014       1.171\n",
       "Lead Origin_landing page submission                     -0.2975      0.101     -2.937      0.003      -0.496      -0.099\n",
       "Lead Origin_lead add form                                2.5252      0.511      4.941      0.000       1.524       3.527\n",
       "Lead Source_direct traffic                              -0.2284      0.103     -2.221      0.026      -0.430      -0.027\n",
       "Lead Source_olark chat                                   1.0990      0.128      8.594      0.000       0.848       1.350\n",
       "Lead Source_reference                                    0.7419      0.534      1.388      0.165      -0.306       1.789\n",
       "Lead Source_welingak website                             3.3859      1.128      3.002      0.003       1.176       5.596\n",
       "Do Not Email_yes                                        -0.9779      0.190     -5.143      0.000      -1.351      -0.605\n",
       "Last Activity_converted to lead                         -0.8272      0.229     -3.618      0.000      -1.275      -0.379\n",
       "Last Activity_email bounced                             -0.9849      0.371     -2.652      0.008      -1.713      -0.257\n",
       "Last Activity_olark chat conversation                   -1.1069      0.174     -6.371      0.000      -1.447      -0.766\n",
       "Last Activity_page visited on website                   -0.4100      0.156     -2.622      0.009      -0.717      -0.103\n",
       "Last Activity_sms sent                                   0.6755      0.166      4.057      0.000       0.349       1.002\n",
       "What is your current occupation_unemployed               0.9446      0.083     11.449      0.000       0.783       1.106\n",
       "What is your current occupation_working professional     3.3858      0.192     17.678      0.000       3.010       3.761\n",
       "A free copy of Mastering The Interview_yes               0.0191      0.100      0.191      0.849      -0.177       0.215\n",
       "Last Notable Activity_modified                          -0.4682      0.106     -4.414      0.000      -0.676      -0.260\n",
       "Last Notable Activity_sms sent                           0.6774      0.184      3.678      0.000       0.316       1.038\n",
       "========================================================================================================================\n",
       "\"\"\""
      ]
     },
     "execution_count": 838,
     "metadata": {},
     "output_type": "execute_result"
    }
   ],
   "source": [
    "X_train_sm = sm.add_constant(X_train)\n",
    "logm1 = sm.GLM(y_train, X_train_sm, family = sm.families.Binomial())\n",
    "logm1.fit().summary()\n"
   ]
  },
  {
   "cell_type": "code",
   "execution_count": 839,
   "metadata": {
    "execution": {
     "iopub.execute_input": "2023-01-21T15:14:58.605061Z",
     "iopub.status.busy": "2023-01-21T15:14:58.603947Z",
     "iopub.status.idle": "2023-01-21T15:14:58.609025Z",
     "shell.execute_reply": "2023-01-21T15:14:58.608153Z",
     "shell.execute_reply.started": "2023-01-21T15:14:58.605031Z"
    }
   },
   "outputs": [],
   "source": [
    "# Importing 'variance_inflation_factor'\n",
    "from statsmodels.stats.outliers_influence import variance_inflation_factor"
   ]
  },
  {
   "cell_type": "code",
   "execution_count": 840,
   "metadata": {
    "execution": {
     "iopub.execute_input": "2023-01-21T15:14:58.611292Z",
     "iopub.status.busy": "2023-01-21T15:14:58.610298Z",
     "iopub.status.idle": "2023-01-21T15:14:58.803485Z",
     "shell.execute_reply": "2023-01-21T15:14:58.802790Z",
     "shell.execute_reply.started": "2023-01-21T15:14:58.611264Z"
    }
   },
   "outputs": [
    {
     "data": {
      "text/html": [
       "<div>\n",
       "<style scoped>\n",
       "    .dataframe tbody tr th:only-of-type {\n",
       "        vertical-align: middle;\n",
       "    }\n",
       "\n",
       "    .dataframe tbody tr th {\n",
       "        vertical-align: top;\n",
       "    }\n",
       "\n",
       "    .dataframe thead th {\n",
       "        text-align: right;\n",
       "    }\n",
       "</style>\n",
       "<table border=\"1\" class=\"dataframe\">\n",
       "  <thead>\n",
       "    <tr style=\"text-align: right;\">\n",
       "      <th></th>\n",
       "      <th>Features</th>\n",
       "      <th>VIF</th>\n",
       "    </tr>\n",
       "  </thead>\n",
       "  <tbody>\n",
       "    <tr>\n",
       "      <th>4</th>\n",
       "      <td>Lead Origin_lead add form</td>\n",
       "      <td>18.85</td>\n",
       "    </tr>\n",
       "    <tr>\n",
       "      <th>7</th>\n",
       "      <td>Lead Source_reference</td>\n",
       "      <td>14.91</td>\n",
       "    </tr>\n",
       "    <tr>\n",
       "      <th>0</th>\n",
       "      <td>Lead Number</td>\n",
       "      <td>8.76</td>\n",
       "    </tr>\n",
       "    <tr>\n",
       "      <th>14</th>\n",
       "      <td>Last Activity_sms sent</td>\n",
       "      <td>7.08</td>\n",
       "    </tr>\n",
       "    <tr>\n",
       "      <th>19</th>\n",
       "      <td>Last Notable Activity_sms sent</td>\n",
       "      <td>6.99</td>\n",
       "    </tr>\n",
       "    <tr>\n",
       "      <th>3</th>\n",
       "      <td>Lead Origin_landing page submission</td>\n",
       "      <td>4.82</td>\n",
       "    </tr>\n",
       "    <tr>\n",
       "      <th>8</th>\n",
       "      <td>Lead Source_welingak website</td>\n",
       "      <td>4.43</td>\n",
       "    </tr>\n",
       "    <tr>\n",
       "      <th>15</th>\n",
       "      <td>What is your current occupation_unemployed</td>\n",
       "      <td>3.24</td>\n",
       "    </tr>\n",
       "    <tr>\n",
       "      <th>18</th>\n",
       "      <td>Last Notable Activity_modified</td>\n",
       "      <td>3.13</td>\n",
       "    </tr>\n",
       "    <tr>\n",
       "      <th>17</th>\n",
       "      <td>A free copy of Mastering The Interview_yes</td>\n",
       "      <td>2.69</td>\n",
       "    </tr>\n",
       "    <tr>\n",
       "      <th>6</th>\n",
       "      <td>Lead Source_olark chat</td>\n",
       "      <td>2.53</td>\n",
       "    </tr>\n",
       "    <tr>\n",
       "      <th>5</th>\n",
       "      <td>Lead Source_direct traffic</td>\n",
       "      <td>2.46</td>\n",
       "    </tr>\n",
       "    <tr>\n",
       "      <th>11</th>\n",
       "      <td>Last Activity_email bounced</td>\n",
       "      <td>1.97</td>\n",
       "    </tr>\n",
       "    <tr>\n",
       "      <th>9</th>\n",
       "      <td>Do Not Email_yes</td>\n",
       "      <td>1.92</td>\n",
       "    </tr>\n",
       "    <tr>\n",
       "      <th>12</th>\n",
       "      <td>Last Activity_olark chat conversation</td>\n",
       "      <td>1.80</td>\n",
       "    </tr>\n",
       "    <tr>\n",
       "      <th>1</th>\n",
       "      <td>TotalVisits</td>\n",
       "      <td>1.50</td>\n",
       "    </tr>\n",
       "    <tr>\n",
       "      <th>16</th>\n",
       "      <td>What is your current occupation_working profes...</td>\n",
       "      <td>1.42</td>\n",
       "    </tr>\n",
       "    <tr>\n",
       "      <th>10</th>\n",
       "      <td>Last Activity_converted to lead</td>\n",
       "      <td>1.39</td>\n",
       "    </tr>\n",
       "    <tr>\n",
       "      <th>13</th>\n",
       "      <td>Last Activity_page visited on website</td>\n",
       "      <td>1.28</td>\n",
       "    </tr>\n",
       "    <tr>\n",
       "      <th>2</th>\n",
       "      <td>Total Time Spent on Website</td>\n",
       "      <td>1.27</td>\n",
       "    </tr>\n",
       "  </tbody>\n",
       "</table>\n",
       "</div>"
      ],
      "text/plain": [
       "                                             Features    VIF\n",
       "4                           Lead Origin_lead add form  18.85\n",
       "7                               Lead Source_reference  14.91\n",
       "0                                         Lead Number   8.76\n",
       "14                             Last Activity_sms sent   7.08\n",
       "19                     Last Notable Activity_sms sent   6.99\n",
       "3                 Lead Origin_landing page submission   4.82\n",
       "8                        Lead Source_welingak website   4.43\n",
       "15         What is your current occupation_unemployed   3.24\n",
       "18                     Last Notable Activity_modified   3.13\n",
       "17         A free copy of Mastering The Interview_yes   2.69\n",
       "6                              Lead Source_olark chat   2.53\n",
       "5                          Lead Source_direct traffic   2.46\n",
       "11                        Last Activity_email bounced   1.97\n",
       "9                                    Do Not Email_yes   1.92\n",
       "12              Last Activity_olark chat conversation   1.80\n",
       "1                                         TotalVisits   1.50\n",
       "16  What is your current occupation_working profes...   1.42\n",
       "10                    Last Activity_converted to lead   1.39\n",
       "13              Last Activity_page visited on website   1.28\n",
       "2                         Total Time Spent on Website   1.27"
      ]
     },
     "execution_count": 840,
     "metadata": {},
     "output_type": "execute_result"
    }
   ],
   "source": [
    "# Make a VIF dataframe for all the variables present\n",
    "vif = pd.DataFrame()\n",
    "vif['Features'] = X_train.columns\n",
    "vif['VIF'] = [variance_inflation_factor(X_train.values, i) for i in range(X_train.shape[1])]\n",
    "vif['VIF'] = round(vif['VIF'], 2)\n",
    "vif = vif.sort_values(by = \"VIF\", ascending = False)\n",
    "vif"
   ]
  },
  {
   "cell_type": "code",
   "execution_count": 841,
   "metadata": {
    "execution": {
     "iopub.execute_input": "2023-01-21T15:14:58.805337Z",
     "iopub.status.busy": "2023-01-21T15:14:58.804667Z",
     "iopub.status.idle": "2023-01-21T15:14:58.810528Z",
     "shell.execute_reply": "2023-01-21T15:14:58.809753Z",
     "shell.execute_reply.started": "2023-01-21T15:14:58.805308Z"
    }
   },
   "outputs": [],
   "source": [
    "X_train_new=X_train.drop('Lead Origin_lead add form', axis = 1,)"
   ]
  },
  {
   "cell_type": "markdown",
   "metadata": {},
   "source": [
    "**Dropping the lead number due to its high VIF**"
   ]
  },
  {
   "cell_type": "code",
   "execution_count": 842,
   "metadata": {
    "execution": {
     "iopub.execute_input": "2023-01-21T15:14:58.812417Z",
     "iopub.status.busy": "2023-01-21T15:14:58.811869Z",
     "iopub.status.idle": "2023-01-21T15:14:58.882490Z",
     "shell.execute_reply": "2023-01-21T15:14:58.881753Z",
     "shell.execute_reply.started": "2023-01-21T15:14:58.812386Z"
    }
   },
   "outputs": [
    {
     "data": {
      "text/html": [
       "<table class=\"simpletable\">\n",
       "<caption>Generalized Linear Model Regression Results</caption>\n",
       "<tr>\n",
       "  <th>Dep. Variable:</th>       <td>Converted</td>    <th>  No. Observations:  </th>  <td>  6465</td> \n",
       "</tr>\n",
       "<tr>\n",
       "  <th>Model:</th>                  <td>GLM</td>       <th>  Df Residuals:      </th>  <td>  6445</td> \n",
       "</tr>\n",
       "<tr>\n",
       "  <th>Model Family:</th>        <td>Binomial</td>     <th>  Df Model:          </th>  <td>    19</td> \n",
       "</tr>\n",
       "<tr>\n",
       "  <th>Link Function:</th>         <td>Logit</td>      <th>  Scale:             </th> <td>  1.0000</td>\n",
       "</tr>\n",
       "<tr>\n",
       "  <th>Method:</th>                <td>IRLS</td>       <th>  Log-Likelihood:    </th> <td> -2631.5</td>\n",
       "</tr>\n",
       "<tr>\n",
       "  <th>Date:</th>            <td>Sat, 21 Jan 2023</td> <th>  Deviance:          </th> <td>  5263.1</td>\n",
       "</tr>\n",
       "<tr>\n",
       "  <th>Time:</th>                <td>15:14:58</td>     <th>  Pearson chi2:      </th> <td>6.76e+03</td>\n",
       "</tr>\n",
       "<tr>\n",
       "  <th>No. Iterations:</th>          <td>7</td>        <th>  Pseudo R-squ. (CS):</th>  <td>0.4049</td> \n",
       "</tr>\n",
       "<tr>\n",
       "  <th>Covariance Type:</th>     <td>nonrobust</td>    <th>                     </th>     <td> </td>   \n",
       "</tr>\n",
       "</table>\n",
       "<table class=\"simpletable\">\n",
       "<tr>\n",
       "                            <td></td>                              <th>coef</th>     <th>std err</th>      <th>z</th>      <th>P>|z|</th>  <th>[0.025</th>    <th>0.975]</th>  \n",
       "</tr>\n",
       "<tr>\n",
       "  <th>const</th>                                                <td>   -6.9030</td> <td>    0.989</td> <td>   -6.981</td> <td> 0.000</td> <td>   -8.841</td> <td>   -4.965</td>\n",
       "</tr>\n",
       "<tr>\n",
       "  <th>Lead Number</th>                                          <td> 8.584e-06</td> <td> 1.56e-06</td> <td>    5.488</td> <td> 0.000</td> <td> 5.52e-06</td> <td> 1.16e-05</td>\n",
       "</tr>\n",
       "<tr>\n",
       "  <th>TotalVisits</th>                                          <td>    0.0989</td> <td>    0.039</td> <td>    2.549</td> <td> 0.011</td> <td>    0.023</td> <td>    0.175</td>\n",
       "</tr>\n",
       "<tr>\n",
       "  <th>Total Time Spent on Website</th>                          <td>    1.0766</td> <td>    0.040</td> <td>   27.089</td> <td> 0.000</td> <td>    0.999</td> <td>    1.154</td>\n",
       "</tr>\n",
       "<tr>\n",
       "  <th>Lead Origin_landing page submission</th>                  <td>   -0.3618</td> <td>    0.100</td> <td>   -3.608</td> <td> 0.000</td> <td>   -0.558</td> <td>   -0.165</td>\n",
       "</tr>\n",
       "<tr>\n",
       "  <th>Lead Source_direct traffic</th>                           <td>   -0.2403</td> <td>    0.102</td> <td>   -2.345</td> <td> 0.019</td> <td>   -0.441</td> <td>   -0.039</td>\n",
       "</tr>\n",
       "<tr>\n",
       "  <th>Lead Source_olark chat</th>                               <td>    1.0018</td> <td>    0.126</td> <td>    7.975</td> <td> 0.000</td> <td>    0.756</td> <td>    1.248</td>\n",
       "</tr>\n",
       "<tr>\n",
       "  <th>Lead Source_reference</th>                                <td>    3.1570</td> <td>    0.204</td> <td>   15.443</td> <td> 0.000</td> <td>    2.756</td> <td>    3.558</td>\n",
       "</tr>\n",
       "<tr>\n",
       "  <th>Lead Source_welingak website</th>                         <td>    5.7866</td> <td>    1.015</td> <td>    5.703</td> <td> 0.000</td> <td>    3.798</td> <td>    7.775</td>\n",
       "</tr>\n",
       "<tr>\n",
       "  <th>Do Not Email_yes</th>                                     <td>   -0.9112</td> <td>    0.187</td> <td>   -4.864</td> <td> 0.000</td> <td>   -1.278</td> <td>   -0.544</td>\n",
       "</tr>\n",
       "<tr>\n",
       "  <th>Last Activity_converted to lead</th>                      <td>   -0.8570</td> <td>    0.228</td> <td>   -3.763</td> <td> 0.000</td> <td>   -1.303</td> <td>   -0.411</td>\n",
       "</tr>\n",
       "<tr>\n",
       "  <th>Last Activity_email bounced</th>                          <td>   -0.9295</td> <td>    0.363</td> <td>   -2.562</td> <td> 0.010</td> <td>   -1.641</td> <td>   -0.218</td>\n",
       "</tr>\n",
       "<tr>\n",
       "  <th>Last Activity_olark chat conversation</th>                <td>   -1.1243</td> <td>    0.173</td> <td>   -6.486</td> <td> 0.000</td> <td>   -1.464</td> <td>   -0.784</td>\n",
       "</tr>\n",
       "<tr>\n",
       "  <th>Last Activity_page visited on website</th>                <td>   -0.3988</td> <td>    0.155</td> <td>   -2.570</td> <td> 0.010</td> <td>   -0.703</td> <td>   -0.095</td>\n",
       "</tr>\n",
       "<tr>\n",
       "  <th>Last Activity_sms sent</th>                               <td>    0.6789</td> <td>    0.166</td> <td>    4.091</td> <td> 0.000</td> <td>    0.354</td> <td>    1.004</td>\n",
       "</tr>\n",
       "<tr>\n",
       "  <th>What is your current occupation_unemployed</th>           <td>    0.9654</td> <td>    0.082</td> <td>   11.739</td> <td> 0.000</td> <td>    0.804</td> <td>    1.127</td>\n",
       "</tr>\n",
       "<tr>\n",
       "  <th>What is your current occupation_working professional</th> <td>    3.4007</td> <td>    0.191</td> <td>   17.790</td> <td> 0.000</td> <td>    3.026</td> <td>    3.775</td>\n",
       "</tr>\n",
       "<tr>\n",
       "  <th>A free copy of Mastering The Interview_yes</th>           <td>    0.0234</td> <td>    0.100</td> <td>    0.234</td> <td> 0.815</td> <td>   -0.172</td> <td>    0.219</td>\n",
       "</tr>\n",
       "<tr>\n",
       "  <th>Last Notable Activity_modified</th>                       <td>   -0.4618</td> <td>    0.106</td> <td>   -4.375</td> <td> 0.000</td> <td>   -0.669</td> <td>   -0.255</td>\n",
       "</tr>\n",
       "<tr>\n",
       "  <th>Last Notable Activity_sms sent</th>                       <td>    0.6909</td> <td>    0.184</td> <td>    3.765</td> <td> 0.000</td> <td>    0.331</td> <td>    1.051</td>\n",
       "</tr>\n",
       "</table>"
      ],
      "text/plain": [
       "<class 'statsmodels.iolib.summary.Summary'>\n",
       "\"\"\"\n",
       "                 Generalized Linear Model Regression Results                  \n",
       "==============================================================================\n",
       "Dep. Variable:              Converted   No. Observations:                 6465\n",
       "Model:                            GLM   Df Residuals:                     6445\n",
       "Model Family:                Binomial   Df Model:                           19\n",
       "Link Function:                  Logit   Scale:                          1.0000\n",
       "Method:                          IRLS   Log-Likelihood:                -2631.5\n",
       "Date:                Sat, 21 Jan 2023   Deviance:                       5263.1\n",
       "Time:                        15:14:58   Pearson chi2:                 6.76e+03\n",
       "No. Iterations:                     7   Pseudo R-squ. (CS):             0.4049\n",
       "Covariance Type:            nonrobust                                         \n",
       "========================================================================================================================\n",
       "                                                           coef    std err          z      P>|z|      [0.025      0.975]\n",
       "------------------------------------------------------------------------------------------------------------------------\n",
       "const                                                   -6.9030      0.989     -6.981      0.000      -8.841      -4.965\n",
       "Lead Number                                           8.584e-06   1.56e-06      5.488      0.000    5.52e-06    1.16e-05\n",
       "TotalVisits                                              0.0989      0.039      2.549      0.011       0.023       0.175\n",
       "Total Time Spent on Website                              1.0766      0.040     27.089      0.000       0.999       1.154\n",
       "Lead Origin_landing page submission                     -0.3618      0.100     -3.608      0.000      -0.558      -0.165\n",
       "Lead Source_direct traffic                              -0.2403      0.102     -2.345      0.019      -0.441      -0.039\n",
       "Lead Source_olark chat                                   1.0018      0.126      7.975      0.000       0.756       1.248\n",
       "Lead Source_reference                                    3.1570      0.204     15.443      0.000       2.756       3.558\n",
       "Lead Source_welingak website                             5.7866      1.015      5.703      0.000       3.798       7.775\n",
       "Do Not Email_yes                                        -0.9112      0.187     -4.864      0.000      -1.278      -0.544\n",
       "Last Activity_converted to lead                         -0.8570      0.228     -3.763      0.000      -1.303      -0.411\n",
       "Last Activity_email bounced                             -0.9295      0.363     -2.562      0.010      -1.641      -0.218\n",
       "Last Activity_olark chat conversation                   -1.1243      0.173     -6.486      0.000      -1.464      -0.784\n",
       "Last Activity_page visited on website                   -0.3988      0.155     -2.570      0.010      -0.703      -0.095\n",
       "Last Activity_sms sent                                   0.6789      0.166      4.091      0.000       0.354       1.004\n",
       "What is your current occupation_unemployed               0.9654      0.082     11.739      0.000       0.804       1.127\n",
       "What is your current occupation_working professional     3.4007      0.191     17.790      0.000       3.026       3.775\n",
       "A free copy of Mastering The Interview_yes               0.0234      0.100      0.234      0.815      -0.172       0.219\n",
       "Last Notable Activity_modified                          -0.4618      0.106     -4.375      0.000      -0.669      -0.255\n",
       "Last Notable Activity_sms sent                           0.6909      0.184      3.765      0.000       0.331       1.051\n",
       "========================================================================================================================\n",
       "\"\"\""
      ]
     },
     "execution_count": 842,
     "metadata": {},
     "output_type": "execute_result"
    }
   ],
   "source": [
    "X_train_sm = sm.add_constant(X_train_new)\n",
    "logm2 = sm.GLM(y_train, X_train_sm, family = sm.families.Binomial())\n",
    "logm2.fit().summary()"
   ]
  },
  {
   "cell_type": "code",
   "execution_count": 843,
   "metadata": {
    "execution": {
     "iopub.execute_input": "2023-01-21T15:14:58.884307Z",
     "iopub.status.busy": "2023-01-21T15:14:58.883800Z",
     "iopub.status.idle": "2023-01-21T15:14:59.053223Z",
     "shell.execute_reply": "2023-01-21T15:14:59.052474Z",
     "shell.execute_reply.started": "2023-01-21T15:14:58.884277Z"
    }
   },
   "outputs": [
    {
     "data": {
      "text/html": [
       "<div>\n",
       "<style scoped>\n",
       "    .dataframe tbody tr th:only-of-type {\n",
       "        vertical-align: middle;\n",
       "    }\n",
       "\n",
       "    .dataframe tbody tr th {\n",
       "        vertical-align: top;\n",
       "    }\n",
       "\n",
       "    .dataframe thead th {\n",
       "        text-align: right;\n",
       "    }\n",
       "</style>\n",
       "<table border=\"1\" class=\"dataframe\">\n",
       "  <thead>\n",
       "    <tr style=\"text-align: right;\">\n",
       "      <th></th>\n",
       "      <th>Features</th>\n",
       "      <th>VIF</th>\n",
       "    </tr>\n",
       "  </thead>\n",
       "  <tbody>\n",
       "    <tr>\n",
       "      <th>0</th>\n",
       "      <td>Lead Number</td>\n",
       "      <td>8.72</td>\n",
       "    </tr>\n",
       "    <tr>\n",
       "      <th>13</th>\n",
       "      <td>Last Activity_sms sent</td>\n",
       "      <td>7.08</td>\n",
       "    </tr>\n",
       "    <tr>\n",
       "      <th>18</th>\n",
       "      <td>Last Notable Activity_sms sent</td>\n",
       "      <td>6.99</td>\n",
       "    </tr>\n",
       "    <tr>\n",
       "      <th>3</th>\n",
       "      <td>Lead Origin_landing page submission</td>\n",
       "      <td>4.78</td>\n",
       "    </tr>\n",
       "    <tr>\n",
       "      <th>14</th>\n",
       "      <td>What is your current occupation_unemployed</td>\n",
       "      <td>3.24</td>\n",
       "    </tr>\n",
       "    <tr>\n",
       "      <th>17</th>\n",
       "      <td>Last Notable Activity_modified</td>\n",
       "      <td>3.13</td>\n",
       "    </tr>\n",
       "    <tr>\n",
       "      <th>16</th>\n",
       "      <td>A free copy of Mastering The Interview_yes</td>\n",
       "      <td>2.69</td>\n",
       "    </tr>\n",
       "    <tr>\n",
       "      <th>5</th>\n",
       "      <td>Lead Source_olark chat</td>\n",
       "      <td>2.51</td>\n",
       "    </tr>\n",
       "    <tr>\n",
       "      <th>4</th>\n",
       "      <td>Lead Source_direct traffic</td>\n",
       "      <td>2.46</td>\n",
       "    </tr>\n",
       "    <tr>\n",
       "      <th>10</th>\n",
       "      <td>Last Activity_email bounced</td>\n",
       "      <td>1.97</td>\n",
       "    </tr>\n",
       "    <tr>\n",
       "      <th>8</th>\n",
       "      <td>Do Not Email_yes</td>\n",
       "      <td>1.91</td>\n",
       "    </tr>\n",
       "    <tr>\n",
       "      <th>11</th>\n",
       "      <td>Last Activity_olark chat conversation</td>\n",
       "      <td>1.80</td>\n",
       "    </tr>\n",
       "    <tr>\n",
       "      <th>6</th>\n",
       "      <td>Lead Source_reference</td>\n",
       "      <td>1.51</td>\n",
       "    </tr>\n",
       "    <tr>\n",
       "      <th>1</th>\n",
       "      <td>TotalVisits</td>\n",
       "      <td>1.49</td>\n",
       "    </tr>\n",
       "    <tr>\n",
       "      <th>15</th>\n",
       "      <td>What is your current occupation_working profes...</td>\n",
       "      <td>1.42</td>\n",
       "    </tr>\n",
       "    <tr>\n",
       "      <th>9</th>\n",
       "      <td>Last Activity_converted to lead</td>\n",
       "      <td>1.39</td>\n",
       "    </tr>\n",
       "    <tr>\n",
       "      <th>12</th>\n",
       "      <td>Last Activity_page visited on website</td>\n",
       "      <td>1.28</td>\n",
       "    </tr>\n",
       "    <tr>\n",
       "      <th>2</th>\n",
       "      <td>Total Time Spent on Website</td>\n",
       "      <td>1.27</td>\n",
       "    </tr>\n",
       "    <tr>\n",
       "      <th>7</th>\n",
       "      <td>Lead Source_welingak website</td>\n",
       "      <td>1.13</td>\n",
       "    </tr>\n",
       "  </tbody>\n",
       "</table>\n",
       "</div>"
      ],
      "text/plain": [
       "                                             Features   VIF\n",
       "0                                         Lead Number  8.72\n",
       "13                             Last Activity_sms sent  7.08\n",
       "18                     Last Notable Activity_sms sent  6.99\n",
       "3                 Lead Origin_landing page submission  4.78\n",
       "14         What is your current occupation_unemployed  3.24\n",
       "17                     Last Notable Activity_modified  3.13\n",
       "16         A free copy of Mastering The Interview_yes  2.69\n",
       "5                              Lead Source_olark chat  2.51\n",
       "4                          Lead Source_direct traffic  2.46\n",
       "10                        Last Activity_email bounced  1.97\n",
       "8                                    Do Not Email_yes  1.91\n",
       "11              Last Activity_olark chat conversation  1.80\n",
       "6                               Lead Source_reference  1.51\n",
       "1                                         TotalVisits  1.49\n",
       "15  What is your current occupation_working profes...  1.42\n",
       "9                     Last Activity_converted to lead  1.39\n",
       "12              Last Activity_page visited on website  1.28\n",
       "2                         Total Time Spent on Website  1.27\n",
       "7                        Lead Source_welingak website  1.13"
      ]
     },
     "execution_count": 843,
     "metadata": {},
     "output_type": "execute_result"
    }
   ],
   "source": [
    "vif = pd.DataFrame()\n",
    "X_train=X_train_new\n",
    "vif['Features'] = X_train.columns\n",
    "vif['VIF'] = [variance_inflation_factor(X_train.values, i) for i in range(X_train.shape[1])]\n",
    "vif['VIF'] = round(vif['VIF'], 2)\n",
    "vif = vif.sort_values(by = \"VIF\", ascending = False)\n",
    "vif"
   ]
  },
  {
   "cell_type": "code",
   "execution_count": 844,
   "metadata": {
    "execution": {
     "iopub.execute_input": "2023-01-21T15:14:59.055065Z",
     "iopub.status.busy": "2023-01-21T15:14:59.054562Z",
     "iopub.status.idle": "2023-01-21T15:14:59.060034Z",
     "shell.execute_reply": "2023-01-21T15:14:59.059287Z",
     "shell.execute_reply.started": "2023-01-21T15:14:59.055035Z"
    }
   },
   "outputs": [],
   "source": [
    "X_train1=X_train_new.drop('Lead Number', axis = 1)"
   ]
  },
  {
   "cell_type": "markdown",
   "metadata": {},
   "source": [
    "**Dropping the Last Notable Activity_sms sent due to its high VIF**"
   ]
  },
  {
   "cell_type": "code",
   "execution_count": 845,
   "metadata": {
    "execution": {
     "iopub.execute_input": "2023-01-21T15:14:59.074759Z",
     "iopub.status.busy": "2023-01-21T15:14:59.072374Z",
     "iopub.status.idle": "2023-01-21T15:14:59.144150Z",
     "shell.execute_reply": "2023-01-21T15:14:59.143356Z",
     "shell.execute_reply.started": "2023-01-21T15:14:59.074719Z"
    }
   },
   "outputs": [
    {
     "data": {
      "text/html": [
       "<table class=\"simpletable\">\n",
       "<caption>Generalized Linear Model Regression Results</caption>\n",
       "<tr>\n",
       "  <th>Dep. Variable:</th>       <td>Converted</td>    <th>  No. Observations:  </th>  <td>  6465</td> \n",
       "</tr>\n",
       "<tr>\n",
       "  <th>Model:</th>                  <td>GLM</td>       <th>  Df Residuals:      </th>  <td>  6446</td> \n",
       "</tr>\n",
       "<tr>\n",
       "  <th>Model Family:</th>        <td>Binomial</td>     <th>  Df Model:          </th>  <td>    18</td> \n",
       "</tr>\n",
       "<tr>\n",
       "  <th>Link Function:</th>         <td>Logit</td>      <th>  Scale:             </th> <td>  1.0000</td>\n",
       "</tr>\n",
       "<tr>\n",
       "  <th>Method:</th>                <td>IRLS</td>       <th>  Log-Likelihood:    </th> <td> -2646.7</td>\n",
       "</tr>\n",
       "<tr>\n",
       "  <th>Date:</th>            <td>Sat, 21 Jan 2023</td> <th>  Deviance:          </th> <td>  5293.4</td>\n",
       "</tr>\n",
       "<tr>\n",
       "  <th>Time:</th>                <td>15:14:59</td>     <th>  Pearson chi2:      </th> <td>6.86e+03</td>\n",
       "</tr>\n",
       "<tr>\n",
       "  <th>No. Iterations:</th>          <td>7</td>        <th>  Pseudo R-squ. (CS):</th>  <td>0.4021</td> \n",
       "</tr>\n",
       "<tr>\n",
       "  <th>Covariance Type:</th>     <td>nonrobust</td>    <th>                     </th>     <td> </td>   \n",
       "</tr>\n",
       "</table>\n",
       "<table class=\"simpletable\">\n",
       "<tr>\n",
       "                            <td></td>                              <th>coef</th>     <th>std err</th>      <th>z</th>      <th>P>|z|</th>  <th>[0.025</th>    <th>0.975]</th>  \n",
       "</tr>\n",
       "<tr>\n",
       "  <th>const</th>                                                <td>   -1.5186</td> <td>    0.105</td> <td>  -14.523</td> <td> 0.000</td> <td>   -1.724</td> <td>   -1.314</td>\n",
       "</tr>\n",
       "<tr>\n",
       "  <th>TotalVisits</th>                                          <td>    0.0982</td> <td>    0.039</td> <td>    2.526</td> <td> 0.012</td> <td>    0.022</td> <td>    0.174</td>\n",
       "</tr>\n",
       "<tr>\n",
       "  <th>Total Time Spent on Website</th>                          <td>    1.0757</td> <td>    0.040</td> <td>   27.106</td> <td> 0.000</td> <td>    0.998</td> <td>    1.154</td>\n",
       "</tr>\n",
       "<tr>\n",
       "  <th>Lead Origin_landing page submission</th>                  <td>   -0.3898</td> <td>    0.100</td> <td>   -3.891</td> <td> 0.000</td> <td>   -0.586</td> <td>   -0.193</td>\n",
       "</tr>\n",
       "<tr>\n",
       "  <th>Lead Source_direct traffic</th>                           <td>   -0.2990</td> <td>    0.102</td> <td>   -2.936</td> <td> 0.003</td> <td>   -0.499</td> <td>   -0.099</td>\n",
       "</tr>\n",
       "<tr>\n",
       "  <th>Lead Source_olark chat</th>                               <td>    0.9174</td> <td>    0.124</td> <td>    7.390</td> <td> 0.000</td> <td>    0.674</td> <td>    1.161</td>\n",
       "</tr>\n",
       "<tr>\n",
       "  <th>Lead Source_reference</th>                                <td>    3.1176</td> <td>    0.203</td> <td>   15.338</td> <td> 0.000</td> <td>    2.719</td> <td>    3.516</td>\n",
       "</tr>\n",
       "<tr>\n",
       "  <th>Lead Source_welingak website</th>                         <td>    5.7636</td> <td>    1.015</td> <td>    5.676</td> <td> 0.000</td> <td>    3.773</td> <td>    7.754</td>\n",
       "</tr>\n",
       "<tr>\n",
       "  <th>Do Not Email_yes</th>                                     <td>   -0.9694</td> <td>    0.187</td> <td>   -5.189</td> <td> 0.000</td> <td>   -1.336</td> <td>   -0.603</td>\n",
       "</tr>\n",
       "<tr>\n",
       "  <th>Last Activity_converted to lead</th>                      <td>   -0.8707</td> <td>    0.226</td> <td>   -3.861</td> <td> 0.000</td> <td>   -1.313</td> <td>   -0.429</td>\n",
       "</tr>\n",
       "<tr>\n",
       "  <th>Last Activity_email bounced</th>                          <td>   -0.9181</td> <td>    0.363</td> <td>   -2.528</td> <td> 0.011</td> <td>   -1.630</td> <td>   -0.206</td>\n",
       "</tr>\n",
       "<tr>\n",
       "  <th>Last Activity_olark chat conversation</th>                <td>   -1.1567</td> <td>    0.173</td> <td>   -6.697</td> <td> 0.000</td> <td>   -1.495</td> <td>   -0.818</td>\n",
       "</tr>\n",
       "<tr>\n",
       "  <th>Last Activity_page visited on website</th>                <td>   -0.4021</td> <td>    0.154</td> <td>   -2.604</td> <td> 0.009</td> <td>   -0.705</td> <td>   -0.099</td>\n",
       "</tr>\n",
       "<tr>\n",
       "  <th>Last Activity_sms sent</th>                               <td>    0.6533</td> <td>    0.165</td> <td>    3.949</td> <td> 0.000</td> <td>    0.329</td> <td>    0.978</td>\n",
       "</tr>\n",
       "<tr>\n",
       "  <th>What is your current occupation_unemployed</th>           <td>    0.9554</td> <td>    0.082</td> <td>   11.623</td> <td> 0.000</td> <td>    0.794</td> <td>    1.117</td>\n",
       "</tr>\n",
       "<tr>\n",
       "  <th>What is your current occupation_working professional</th> <td>    3.3676</td> <td>    0.190</td> <td>   17.715</td> <td> 0.000</td> <td>    2.995</td> <td>    3.740</td>\n",
       "</tr>\n",
       "<tr>\n",
       "  <th>A free copy of Mastering The Interview_yes</th>           <td>    0.0147</td> <td>    0.100</td> <td>    0.148</td> <td> 0.882</td> <td>   -0.180</td> <td>    0.210</td>\n",
       "</tr>\n",
       "<tr>\n",
       "  <th>Last Notable Activity_modified</th>                       <td>   -0.4306</td> <td>    0.105</td> <td>   -4.082</td> <td> 0.000</td> <td>   -0.637</td> <td>   -0.224</td>\n",
       "</tr>\n",
       "<tr>\n",
       "  <th>Last Notable Activity_sms sent</th>                       <td>    0.6177</td> <td>    0.182</td> <td>    3.386</td> <td> 0.001</td> <td>    0.260</td> <td>    0.975</td>\n",
       "</tr>\n",
       "</table>"
      ],
      "text/plain": [
       "<class 'statsmodels.iolib.summary.Summary'>\n",
       "\"\"\"\n",
       "                 Generalized Linear Model Regression Results                  \n",
       "==============================================================================\n",
       "Dep. Variable:              Converted   No. Observations:                 6465\n",
       "Model:                            GLM   Df Residuals:                     6446\n",
       "Model Family:                Binomial   Df Model:                           18\n",
       "Link Function:                  Logit   Scale:                          1.0000\n",
       "Method:                          IRLS   Log-Likelihood:                -2646.7\n",
       "Date:                Sat, 21 Jan 2023   Deviance:                       5293.4\n",
       "Time:                        15:14:59   Pearson chi2:                 6.86e+03\n",
       "No. Iterations:                     7   Pseudo R-squ. (CS):             0.4021\n",
       "Covariance Type:            nonrobust                                         \n",
       "========================================================================================================================\n",
       "                                                           coef    std err          z      P>|z|      [0.025      0.975]\n",
       "------------------------------------------------------------------------------------------------------------------------\n",
       "const                                                   -1.5186      0.105    -14.523      0.000      -1.724      -1.314\n",
       "TotalVisits                                              0.0982      0.039      2.526      0.012       0.022       0.174\n",
       "Total Time Spent on Website                              1.0757      0.040     27.106      0.000       0.998       1.154\n",
       "Lead Origin_landing page submission                     -0.3898      0.100     -3.891      0.000      -0.586      -0.193\n",
       "Lead Source_direct traffic                              -0.2990      0.102     -2.936      0.003      -0.499      -0.099\n",
       "Lead Source_olark chat                                   0.9174      0.124      7.390      0.000       0.674       1.161\n",
       "Lead Source_reference                                    3.1176      0.203     15.338      0.000       2.719       3.516\n",
       "Lead Source_welingak website                             5.7636      1.015      5.676      0.000       3.773       7.754\n",
       "Do Not Email_yes                                        -0.9694      0.187     -5.189      0.000      -1.336      -0.603\n",
       "Last Activity_converted to lead                         -0.8707      0.226     -3.861      0.000      -1.313      -0.429\n",
       "Last Activity_email bounced                             -0.9181      0.363     -2.528      0.011      -1.630      -0.206\n",
       "Last Activity_olark chat conversation                   -1.1567      0.173     -6.697      0.000      -1.495      -0.818\n",
       "Last Activity_page visited on website                   -0.4021      0.154     -2.604      0.009      -0.705      -0.099\n",
       "Last Activity_sms sent                                   0.6533      0.165      3.949      0.000       0.329       0.978\n",
       "What is your current occupation_unemployed               0.9554      0.082     11.623      0.000       0.794       1.117\n",
       "What is your current occupation_working professional     3.3676      0.190     17.715      0.000       2.995       3.740\n",
       "A free copy of Mastering The Interview_yes               0.0147      0.100      0.148      0.882      -0.180       0.210\n",
       "Last Notable Activity_modified                          -0.4306      0.105     -4.082      0.000      -0.637      -0.224\n",
       "Last Notable Activity_sms sent                           0.6177      0.182      3.386      0.001       0.260       0.975\n",
       "========================================================================================================================\n",
       "\"\"\""
      ]
     },
     "execution_count": 845,
     "metadata": {},
     "output_type": "execute_result"
    }
   ],
   "source": [
    "X_train_sm = sm.add_constant(X_train1)\n",
    "logm3 = sm.GLM(y_train, X_train_sm, family = sm.families.Binomial())\n",
    "logm3.fit().summary()"
   ]
  },
  {
   "cell_type": "code",
   "execution_count": 846,
   "metadata": {
    "execution": {
     "iopub.execute_input": "2023-01-21T15:14:59.149557Z",
     "iopub.status.busy": "2023-01-21T15:14:59.147752Z",
     "iopub.status.idle": "2023-01-21T15:14:59.303292Z",
     "shell.execute_reply": "2023-01-21T15:14:59.302532Z",
     "shell.execute_reply.started": "2023-01-21T15:14:59.149512Z"
    }
   },
   "outputs": [
    {
     "data": {
      "text/html": [
       "<div>\n",
       "<style scoped>\n",
       "    .dataframe tbody tr th:only-of-type {\n",
       "        vertical-align: middle;\n",
       "    }\n",
       "\n",
       "    .dataframe tbody tr th {\n",
       "        vertical-align: top;\n",
       "    }\n",
       "\n",
       "    .dataframe thead th {\n",
       "        text-align: right;\n",
       "    }\n",
       "</style>\n",
       "<table border=\"1\" class=\"dataframe\">\n",
       "  <thead>\n",
       "    <tr style=\"text-align: right;\">\n",
       "      <th></th>\n",
       "      <th>Features</th>\n",
       "      <th>VIF</th>\n",
       "    </tr>\n",
       "  </thead>\n",
       "  <tbody>\n",
       "    <tr>\n",
       "      <th>12</th>\n",
       "      <td>Last Activity_sms sent</td>\n",
       "      <td>7.04</td>\n",
       "    </tr>\n",
       "    <tr>\n",
       "      <th>17</th>\n",
       "      <td>Last Notable Activity_sms sent</td>\n",
       "      <td>6.97</td>\n",
       "    </tr>\n",
       "    <tr>\n",
       "      <th>2</th>\n",
       "      <td>Lead Origin_landing page submission</td>\n",
       "      <td>3.64</td>\n",
       "    </tr>\n",
       "    <tr>\n",
       "      <th>16</th>\n",
       "      <td>Last Notable Activity_modified</td>\n",
       "      <td>2.93</td>\n",
       "    </tr>\n",
       "    <tr>\n",
       "      <th>15</th>\n",
       "      <td>A free copy of Mastering The Interview_yes</td>\n",
       "      <td>2.69</td>\n",
       "    </tr>\n",
       "    <tr>\n",
       "      <th>3</th>\n",
       "      <td>Lead Source_direct traffic</td>\n",
       "      <td>2.46</td>\n",
       "    </tr>\n",
       "    <tr>\n",
       "      <th>13</th>\n",
       "      <td>What is your current occupation_unemployed</td>\n",
       "      <td>2.43</td>\n",
       "    </tr>\n",
       "    <tr>\n",
       "      <th>9</th>\n",
       "      <td>Last Activity_email bounced</td>\n",
       "      <td>1.97</td>\n",
       "    </tr>\n",
       "    <tr>\n",
       "      <th>7</th>\n",
       "      <td>Do Not Email_yes</td>\n",
       "      <td>1.91</td>\n",
       "    </tr>\n",
       "    <tr>\n",
       "      <th>4</th>\n",
       "      <td>Lead Source_olark chat</td>\n",
       "      <td>1.91</td>\n",
       "    </tr>\n",
       "    <tr>\n",
       "      <th>10</th>\n",
       "      <td>Last Activity_olark chat conversation</td>\n",
       "      <td>1.76</td>\n",
       "    </tr>\n",
       "    <tr>\n",
       "      <th>0</th>\n",
       "      <td>TotalVisits</td>\n",
       "      <td>1.48</td>\n",
       "    </tr>\n",
       "    <tr>\n",
       "      <th>5</th>\n",
       "      <td>Lead Source_reference</td>\n",
       "      <td>1.39</td>\n",
       "    </tr>\n",
       "    <tr>\n",
       "      <th>8</th>\n",
       "      <td>Last Activity_converted to lead</td>\n",
       "      <td>1.37</td>\n",
       "    </tr>\n",
       "    <tr>\n",
       "      <th>14</th>\n",
       "      <td>What is your current occupation_working profes...</td>\n",
       "      <td>1.32</td>\n",
       "    </tr>\n",
       "    <tr>\n",
       "      <th>1</th>\n",
       "      <td>Total Time Spent on Website</td>\n",
       "      <td>1.26</td>\n",
       "    </tr>\n",
       "    <tr>\n",
       "      <th>11</th>\n",
       "      <td>Last Activity_page visited on website</td>\n",
       "      <td>1.26</td>\n",
       "    </tr>\n",
       "    <tr>\n",
       "      <th>6</th>\n",
       "      <td>Lead Source_welingak website</td>\n",
       "      <td>1.10</td>\n",
       "    </tr>\n",
       "  </tbody>\n",
       "</table>\n",
       "</div>"
      ],
      "text/plain": [
       "                                             Features   VIF\n",
       "12                             Last Activity_sms sent  7.04\n",
       "17                     Last Notable Activity_sms sent  6.97\n",
       "2                 Lead Origin_landing page submission  3.64\n",
       "16                     Last Notable Activity_modified  2.93\n",
       "15         A free copy of Mastering The Interview_yes  2.69\n",
       "3                          Lead Source_direct traffic  2.46\n",
       "13         What is your current occupation_unemployed  2.43\n",
       "9                         Last Activity_email bounced  1.97\n",
       "7                                    Do Not Email_yes  1.91\n",
       "4                              Lead Source_olark chat  1.91\n",
       "10              Last Activity_olark chat conversation  1.76\n",
       "0                                         TotalVisits  1.48\n",
       "5                               Lead Source_reference  1.39\n",
       "8                     Last Activity_converted to lead  1.37\n",
       "14  What is your current occupation_working profes...  1.32\n",
       "1                         Total Time Spent on Website  1.26\n",
       "11              Last Activity_page visited on website  1.26\n",
       "6                        Lead Source_welingak website  1.10"
      ]
     },
     "execution_count": 846,
     "metadata": {},
     "output_type": "execute_result"
    }
   ],
   "source": [
    "vif = pd.DataFrame()\n",
    "X_train=X_train1\n",
    "vif['Features'] = X_train.columns\n",
    "vif['VIF'] = [variance_inflation_factor(X_train.values, i) for i in range(X_train.shape[1])]\n",
    "vif['VIF'] = round(vif['VIF'], 2)\n",
    "vif = vif.sort_values(by = \"VIF\", ascending = False)\n",
    "vif"
   ]
  },
  {
   "cell_type": "code",
   "execution_count": 847,
   "metadata": {
    "execution": {
     "iopub.execute_input": "2023-01-21T15:14:59.308552Z",
     "iopub.status.busy": "2023-01-21T15:14:59.306794Z",
     "iopub.status.idle": "2023-01-21T15:14:59.314878Z",
     "shell.execute_reply": "2023-01-21T15:14:59.314104Z",
     "shell.execute_reply.started": "2023-01-21T15:14:59.308520Z"
    }
   },
   "outputs": [],
   "source": [
    "X_train2=X_train1.drop('Last Activity_sms sent', axis = 1)"
   ]
  },
  {
   "cell_type": "markdown",
   "metadata": {},
   "source": [
    "**Dropping Lead Source_reference because of high p value**"
   ]
  },
  {
   "cell_type": "code",
   "execution_count": 848,
   "metadata": {
    "execution": {
     "iopub.execute_input": "2023-01-21T15:14:59.320266Z",
     "iopub.status.busy": "2023-01-21T15:14:59.318416Z",
     "iopub.status.idle": "2023-01-21T15:14:59.386834Z",
     "shell.execute_reply": "2023-01-21T15:14:59.385634Z",
     "shell.execute_reply.started": "2023-01-21T15:14:59.320235Z"
    }
   },
   "outputs": [
    {
     "data": {
      "text/html": [
       "<table class=\"simpletable\">\n",
       "<caption>Generalized Linear Model Regression Results</caption>\n",
       "<tr>\n",
       "  <th>Dep. Variable:</th>       <td>Converted</td>    <th>  No. Observations:  </th>  <td>  6465</td> \n",
       "</tr>\n",
       "<tr>\n",
       "  <th>Model:</th>                  <td>GLM</td>       <th>  Df Residuals:      </th>  <td>  6447</td> \n",
       "</tr>\n",
       "<tr>\n",
       "  <th>Model Family:</th>        <td>Binomial</td>     <th>  Df Model:          </th>  <td>    17</td> \n",
       "</tr>\n",
       "<tr>\n",
       "  <th>Link Function:</th>         <td>Logit</td>      <th>  Scale:             </th> <td>  1.0000</td>\n",
       "</tr>\n",
       "<tr>\n",
       "  <th>Method:</th>                <td>IRLS</td>       <th>  Log-Likelihood:    </th> <td> -2654.4</td>\n",
       "</tr>\n",
       "<tr>\n",
       "  <th>Date:</th>            <td>Sat, 21 Jan 2023</td> <th>  Deviance:          </th> <td>  5308.9</td>\n",
       "</tr>\n",
       "<tr>\n",
       "  <th>Time:</th>                <td>15:14:59</td>     <th>  Pearson chi2:      </th> <td>6.96e+03</td>\n",
       "</tr>\n",
       "<tr>\n",
       "  <th>No. Iterations:</th>          <td>7</td>        <th>  Pseudo R-squ. (CS):</th>  <td>0.4006</td> \n",
       "</tr>\n",
       "<tr>\n",
       "  <th>Covariance Type:</th>     <td>nonrobust</td>    <th>                     </th>     <td> </td>   \n",
       "</tr>\n",
       "</table>\n",
       "<table class=\"simpletable\">\n",
       "<tr>\n",
       "                            <td></td>                              <th>coef</th>     <th>std err</th>      <th>z</th>      <th>P>|z|</th>  <th>[0.025</th>    <th>0.975]</th>  \n",
       "</tr>\n",
       "<tr>\n",
       "  <th>const</th>                                                <td>   -1.4905</td> <td>    0.104</td> <td>  -14.337</td> <td> 0.000</td> <td>   -1.694</td> <td>   -1.287</td>\n",
       "</tr>\n",
       "<tr>\n",
       "  <th>TotalVisits</th>                                          <td>    0.1024</td> <td>    0.039</td> <td>    2.634</td> <td> 0.008</td> <td>    0.026</td> <td>    0.179</td>\n",
       "</tr>\n",
       "<tr>\n",
       "  <th>Total Time Spent on Website</th>                          <td>    1.0762</td> <td>    0.040</td> <td>   27.134</td> <td> 0.000</td> <td>    0.998</td> <td>    1.154</td>\n",
       "</tr>\n",
       "<tr>\n",
       "  <th>Lead Origin_landing page submission</th>                  <td>   -0.3879</td> <td>    0.100</td> <td>   -3.878</td> <td> 0.000</td> <td>   -0.584</td> <td>   -0.192</td>\n",
       "</tr>\n",
       "<tr>\n",
       "  <th>Lead Source_direct traffic</th>                           <td>   -0.2982</td> <td>    0.102</td> <td>   -2.932</td> <td> 0.003</td> <td>   -0.498</td> <td>   -0.099</td>\n",
       "</tr>\n",
       "<tr>\n",
       "  <th>Lead Source_olark chat</th>                               <td>    0.9110</td> <td>    0.124</td> <td>    7.362</td> <td> 0.000</td> <td>    0.668</td> <td>    1.153</td>\n",
       "</tr>\n",
       "<tr>\n",
       "  <th>Lead Source_reference</th>                                <td>    3.1203</td> <td>    0.203</td> <td>   15.369</td> <td> 0.000</td> <td>    2.722</td> <td>    3.518</td>\n",
       "</tr>\n",
       "<tr>\n",
       "  <th>Lead Source_welingak website</th>                         <td>    5.8504</td> <td>    1.016</td> <td>    5.758</td> <td> 0.000</td> <td>    3.859</td> <td>    7.842</td>\n",
       "</tr>\n",
       "<tr>\n",
       "  <th>Do Not Email_yes</th>                                     <td>   -0.9230</td> <td>    0.186</td> <td>   -4.949</td> <td> 0.000</td> <td>   -1.289</td> <td>   -0.558</td>\n",
       "</tr>\n",
       "<tr>\n",
       "  <th>Last Activity_converted to lead</th>                      <td>   -1.0841</td> <td>    0.218</td> <td>   -4.965</td> <td> 0.000</td> <td>   -1.512</td> <td>   -0.656</td>\n",
       "</tr>\n",
       "<tr>\n",
       "  <th>Last Activity_email bounced</th>                          <td>   -1.1073</td> <td>    0.360</td> <td>   -3.079</td> <td> 0.002</td> <td>   -1.812</td> <td>   -0.402</td>\n",
       "</tr>\n",
       "<tr>\n",
       "  <th>Last Activity_olark chat conversation</th>                <td>   -1.3214</td> <td>    0.167</td> <td>   -7.905</td> <td> 0.000</td> <td>   -1.649</td> <td>   -0.994</td>\n",
       "</tr>\n",
       "<tr>\n",
       "  <th>Last Activity_page visited on website</th>                <td>   -0.5184</td> <td>    0.151</td> <td>   -3.429</td> <td> 0.001</td> <td>   -0.815</td> <td>   -0.222</td>\n",
       "</tr>\n",
       "<tr>\n",
       "  <th>What is your current occupation_unemployed</th>           <td>    0.9323</td> <td>    0.082</td> <td>   11.396</td> <td> 0.000</td> <td>    0.772</td> <td>    1.093</td>\n",
       "</tr>\n",
       "<tr>\n",
       "  <th>What is your current occupation_working professional</th> <td>    3.3462</td> <td>    0.190</td> <td>   17.636</td> <td> 0.000</td> <td>    2.974</td> <td>    3.718</td>\n",
       "</tr>\n",
       "<tr>\n",
       "  <th>A free copy of Mastering The Interview_yes</th>           <td>    0.0194</td> <td>    0.099</td> <td>    0.195</td> <td> 0.846</td> <td>   -0.176</td> <td>    0.214</td>\n",
       "</tr>\n",
       "<tr>\n",
       "  <th>Last Notable Activity_modified</th>                       <td>   -0.2289</td> <td>    0.091</td> <td>   -2.515</td> <td> 0.012</td> <td>   -0.407</td> <td>   -0.050</td>\n",
       "</tr>\n",
       "<tr>\n",
       "  <th>Last Notable Activity_sms sent</th>                       <td>    1.2563</td> <td>    0.085</td> <td>   14.732</td> <td> 0.000</td> <td>    1.089</td> <td>    1.423</td>\n",
       "</tr>\n",
       "</table>"
      ],
      "text/plain": [
       "<class 'statsmodels.iolib.summary.Summary'>\n",
       "\"\"\"\n",
       "                 Generalized Linear Model Regression Results                  \n",
       "==============================================================================\n",
       "Dep. Variable:              Converted   No. Observations:                 6465\n",
       "Model:                            GLM   Df Residuals:                     6447\n",
       "Model Family:                Binomial   Df Model:                           17\n",
       "Link Function:                  Logit   Scale:                          1.0000\n",
       "Method:                          IRLS   Log-Likelihood:                -2654.4\n",
       "Date:                Sat, 21 Jan 2023   Deviance:                       5308.9\n",
       "Time:                        15:14:59   Pearson chi2:                 6.96e+03\n",
       "No. Iterations:                     7   Pseudo R-squ. (CS):             0.4006\n",
       "Covariance Type:            nonrobust                                         \n",
       "========================================================================================================================\n",
       "                                                           coef    std err          z      P>|z|      [0.025      0.975]\n",
       "------------------------------------------------------------------------------------------------------------------------\n",
       "const                                                   -1.4905      0.104    -14.337      0.000      -1.694      -1.287\n",
       "TotalVisits                                              0.1024      0.039      2.634      0.008       0.026       0.179\n",
       "Total Time Spent on Website                              1.0762      0.040     27.134      0.000       0.998       1.154\n",
       "Lead Origin_landing page submission                     -0.3879      0.100     -3.878      0.000      -0.584      -0.192\n",
       "Lead Source_direct traffic                              -0.2982      0.102     -2.932      0.003      -0.498      -0.099\n",
       "Lead Source_olark chat                                   0.9110      0.124      7.362      0.000       0.668       1.153\n",
       "Lead Source_reference                                    3.1203      0.203     15.369      0.000       2.722       3.518\n",
       "Lead Source_welingak website                             5.8504      1.016      5.758      0.000       3.859       7.842\n",
       "Do Not Email_yes                                        -0.9230      0.186     -4.949      0.000      -1.289      -0.558\n",
       "Last Activity_converted to lead                         -1.0841      0.218     -4.965      0.000      -1.512      -0.656\n",
       "Last Activity_email bounced                             -1.1073      0.360     -3.079      0.002      -1.812      -0.402\n",
       "Last Activity_olark chat conversation                   -1.3214      0.167     -7.905      0.000      -1.649      -0.994\n",
       "Last Activity_page visited on website                   -0.5184      0.151     -3.429      0.001      -0.815      -0.222\n",
       "What is your current occupation_unemployed               0.9323      0.082     11.396      0.000       0.772       1.093\n",
       "What is your current occupation_working professional     3.3462      0.190     17.636      0.000       2.974       3.718\n",
       "A free copy of Mastering The Interview_yes               0.0194      0.099      0.195      0.846      -0.176       0.214\n",
       "Last Notable Activity_modified                          -0.2289      0.091     -2.515      0.012      -0.407      -0.050\n",
       "Last Notable Activity_sms sent                           1.2563      0.085     14.732      0.000       1.089       1.423\n",
       "========================================================================================================================\n",
       "\"\"\""
      ]
     },
     "execution_count": 848,
     "metadata": {},
     "output_type": "execute_result"
    }
   ],
   "source": [
    "X_train_sm = sm.add_constant(X_train2)\n",
    "logm4 = sm.GLM(y_train, X_train_sm, family = sm.families.Binomial())\n",
    "logm4.fit().summary()"
   ]
  },
  {
   "cell_type": "code",
   "execution_count": 849,
   "metadata": {
    "execution": {
     "iopub.execute_input": "2023-01-21T15:14:59.393290Z",
     "iopub.status.busy": "2023-01-21T15:14:59.391246Z",
     "iopub.status.idle": "2023-01-21T15:14:59.538048Z",
     "shell.execute_reply": "2023-01-21T15:14:59.537286Z",
     "shell.execute_reply.started": "2023-01-21T15:14:59.393250Z"
    }
   },
   "outputs": [
    {
     "data": {
      "text/html": [
       "<div>\n",
       "<style scoped>\n",
       "    .dataframe tbody tr th:only-of-type {\n",
       "        vertical-align: middle;\n",
       "    }\n",
       "\n",
       "    .dataframe tbody tr th {\n",
       "        vertical-align: top;\n",
       "    }\n",
       "\n",
       "    .dataframe thead th {\n",
       "        text-align: right;\n",
       "    }\n",
       "</style>\n",
       "<table border=\"1\" class=\"dataframe\">\n",
       "  <thead>\n",
       "    <tr style=\"text-align: right;\">\n",
       "      <th></th>\n",
       "      <th>Features</th>\n",
       "      <th>VIF</th>\n",
       "    </tr>\n",
       "  </thead>\n",
       "  <tbody>\n",
       "    <tr>\n",
       "      <th>2</th>\n",
       "      <td>Lead Origin_landing page submission</td>\n",
       "      <td>3.63</td>\n",
       "    </tr>\n",
       "    <tr>\n",
       "      <th>14</th>\n",
       "      <td>A free copy of Mastering The Interview_yes</td>\n",
       "      <td>2.69</td>\n",
       "    </tr>\n",
       "    <tr>\n",
       "      <th>3</th>\n",
       "      <td>Lead Source_direct traffic</td>\n",
       "      <td>2.46</td>\n",
       "    </tr>\n",
       "    <tr>\n",
       "      <th>12</th>\n",
       "      <td>What is your current occupation_unemployed</td>\n",
       "      <td>2.43</td>\n",
       "    </tr>\n",
       "    <tr>\n",
       "      <th>15</th>\n",
       "      <td>Last Notable Activity_modified</td>\n",
       "      <td>2.24</td>\n",
       "    </tr>\n",
       "    <tr>\n",
       "      <th>4</th>\n",
       "      <td>Lead Source_olark chat</td>\n",
       "      <td>1.91</td>\n",
       "    </tr>\n",
       "    <tr>\n",
       "      <th>7</th>\n",
       "      <td>Do Not Email_yes</td>\n",
       "      <td>1.90</td>\n",
       "    </tr>\n",
       "    <tr>\n",
       "      <th>9</th>\n",
       "      <td>Last Activity_email bounced</td>\n",
       "      <td>1.88</td>\n",
       "    </tr>\n",
       "    <tr>\n",
       "      <th>10</th>\n",
       "      <td>Last Activity_olark chat conversation</td>\n",
       "      <td>1.62</td>\n",
       "    </tr>\n",
       "    <tr>\n",
       "      <th>16</th>\n",
       "      <td>Last Notable Activity_sms sent</td>\n",
       "      <td>1.61</td>\n",
       "    </tr>\n",
       "    <tr>\n",
       "      <th>0</th>\n",
       "      <td>TotalVisits</td>\n",
       "      <td>1.48</td>\n",
       "    </tr>\n",
       "    <tr>\n",
       "      <th>5</th>\n",
       "      <td>Lead Source_reference</td>\n",
       "      <td>1.39</td>\n",
       "    </tr>\n",
       "    <tr>\n",
       "      <th>13</th>\n",
       "      <td>What is your current occupation_working profes...</td>\n",
       "      <td>1.32</td>\n",
       "    </tr>\n",
       "    <tr>\n",
       "      <th>8</th>\n",
       "      <td>Last Activity_converted to lead</td>\n",
       "      <td>1.28</td>\n",
       "    </tr>\n",
       "    <tr>\n",
       "      <th>1</th>\n",
       "      <td>Total Time Spent on Website</td>\n",
       "      <td>1.26</td>\n",
       "    </tr>\n",
       "    <tr>\n",
       "      <th>11</th>\n",
       "      <td>Last Activity_page visited on website</td>\n",
       "      <td>1.21</td>\n",
       "    </tr>\n",
       "    <tr>\n",
       "      <th>6</th>\n",
       "      <td>Lead Source_welingak website</td>\n",
       "      <td>1.10</td>\n",
       "    </tr>\n",
       "  </tbody>\n",
       "</table>\n",
       "</div>"
      ],
      "text/plain": [
       "                                             Features   VIF\n",
       "2                 Lead Origin_landing page submission  3.63\n",
       "14         A free copy of Mastering The Interview_yes  2.69\n",
       "3                          Lead Source_direct traffic  2.46\n",
       "12         What is your current occupation_unemployed  2.43\n",
       "15                     Last Notable Activity_modified  2.24\n",
       "4                              Lead Source_olark chat  1.91\n",
       "7                                    Do Not Email_yes  1.90\n",
       "9                         Last Activity_email bounced  1.88\n",
       "10              Last Activity_olark chat conversation  1.62\n",
       "16                     Last Notable Activity_sms sent  1.61\n",
       "0                                         TotalVisits  1.48\n",
       "5                               Lead Source_reference  1.39\n",
       "13  What is your current occupation_working profes...  1.32\n",
       "8                     Last Activity_converted to lead  1.28\n",
       "1                         Total Time Spent on Website  1.26\n",
       "11              Last Activity_page visited on website  1.21\n",
       "6                        Lead Source_welingak website  1.10"
      ]
     },
     "execution_count": 849,
     "metadata": {},
     "output_type": "execute_result"
    }
   ],
   "source": [
    "vif = pd.DataFrame()\n",
    "X_train=X_train2\n",
    "vif['Features'] = X_train.columns\n",
    "vif['VIF'] = [variance_inflation_factor(X_train.values, i) for i in range(X_train.shape[1])]\n",
    "vif['VIF'] = round(vif['VIF'], 2)\n",
    "vif = vif.sort_values(by = \"VIF\", ascending = False)\n",
    "vif"
   ]
  },
  {
   "cell_type": "code",
   "execution_count": 850,
   "metadata": {
    "execution": {
     "iopub.execute_input": "2023-01-21T15:14:59.543430Z",
     "iopub.status.busy": "2023-01-21T15:14:59.541542Z",
     "iopub.status.idle": "2023-01-21T15:14:59.549920Z",
     "shell.execute_reply": "2023-01-21T15:14:59.549155Z",
     "shell.execute_reply.started": "2023-01-21T15:14:59.543393Z"
    }
   },
   "outputs": [],
   "source": [
    "X_train3=X_train2.drop('A free copy of Mastering The Interview_yes', axis = 1)"
   ]
  },
  {
   "cell_type": "code",
   "execution_count": 851,
   "metadata": {
    "execution": {
     "iopub.execute_input": "2023-01-21T15:14:59.555729Z",
     "iopub.status.busy": "2023-01-21T15:14:59.553701Z",
     "iopub.status.idle": "2023-01-21T15:14:59.615225Z",
     "shell.execute_reply": "2023-01-21T15:14:59.614477Z",
     "shell.execute_reply.started": "2023-01-21T15:14:59.555693Z"
    }
   },
   "outputs": [
    {
     "data": {
      "text/html": [
       "<table class=\"simpletable\">\n",
       "<caption>Generalized Linear Model Regression Results</caption>\n",
       "<tr>\n",
       "  <th>Dep. Variable:</th>       <td>Converted</td>    <th>  No. Observations:  </th>  <td>  6465</td> \n",
       "</tr>\n",
       "<tr>\n",
       "  <th>Model:</th>                  <td>GLM</td>       <th>  Df Residuals:      </th>  <td>  6448</td> \n",
       "</tr>\n",
       "<tr>\n",
       "  <th>Model Family:</th>        <td>Binomial</td>     <th>  Df Model:          </th>  <td>    16</td> \n",
       "</tr>\n",
       "<tr>\n",
       "  <th>Link Function:</th>         <td>Logit</td>      <th>  Scale:             </th> <td>  1.0000</td>\n",
       "</tr>\n",
       "<tr>\n",
       "  <th>Method:</th>                <td>IRLS</td>       <th>  Log-Likelihood:    </th> <td> -2654.4</td>\n",
       "</tr>\n",
       "<tr>\n",
       "  <th>Date:</th>            <td>Sat, 21 Jan 2023</td> <th>  Deviance:          </th> <td>  5308.9</td>\n",
       "</tr>\n",
       "<tr>\n",
       "  <th>Time:</th>                <td>15:14:59</td>     <th>  Pearson chi2:      </th> <td>6.97e+03</td>\n",
       "</tr>\n",
       "<tr>\n",
       "  <th>No. Iterations:</th>          <td>7</td>        <th>  Pseudo R-squ. (CS):</th>  <td>0.4006</td> \n",
       "</tr>\n",
       "<tr>\n",
       "  <th>Covariance Type:</th>     <td>nonrobust</td>    <th>                     </th>     <td> </td>   \n",
       "</tr>\n",
       "</table>\n",
       "<table class=\"simpletable\">\n",
       "<tr>\n",
       "                            <td></td>                              <th>coef</th>     <th>std err</th>      <th>z</th>      <th>P>|z|</th>  <th>[0.025</th>    <th>0.975]</th>  \n",
       "</tr>\n",
       "<tr>\n",
       "  <th>const</th>                                                <td>   -1.4904</td> <td>    0.104</td> <td>  -14.336</td> <td> 0.000</td> <td>   -1.694</td> <td>   -1.287</td>\n",
       "</tr>\n",
       "<tr>\n",
       "  <th>TotalVisits</th>                                          <td>    0.1033</td> <td>    0.039</td> <td>    2.676</td> <td> 0.007</td> <td>    0.028</td> <td>    0.179</td>\n",
       "</tr>\n",
       "<tr>\n",
       "  <th>Total Time Spent on Website</th>                          <td>    1.0761</td> <td>    0.040</td> <td>   27.134</td> <td> 0.000</td> <td>    0.998</td> <td>    1.154</td>\n",
       "</tr>\n",
       "<tr>\n",
       "  <th>Lead Origin_landing page submission</th>                  <td>   -0.3822</td> <td>    0.096</td> <td>   -3.998</td> <td> 0.000</td> <td>   -0.570</td> <td>   -0.195</td>\n",
       "</tr>\n",
       "<tr>\n",
       "  <th>Lead Source_direct traffic</th>                           <td>   -0.2890</td> <td>    0.090</td> <td>   -3.208</td> <td> 0.001</td> <td>   -0.466</td> <td>   -0.112</td>\n",
       "</tr>\n",
       "<tr>\n",
       "  <th>Lead Source_olark chat</th>                               <td>    0.9124</td> <td>    0.124</td> <td>    7.386</td> <td> 0.000</td> <td>    0.670</td> <td>    1.154</td>\n",
       "</tr>\n",
       "<tr>\n",
       "  <th>Lead Source_reference</th>                                <td>    3.1212</td> <td>    0.203</td> <td>   15.377</td> <td> 0.000</td> <td>    2.723</td> <td>    3.519</td>\n",
       "</tr>\n",
       "<tr>\n",
       "  <th>Lead Source_welingak website</th>                         <td>    5.8510</td> <td>    1.016</td> <td>    5.759</td> <td> 0.000</td> <td>    3.860</td> <td>    7.842</td>\n",
       "</tr>\n",
       "<tr>\n",
       "  <th>Do Not Email_yes</th>                                     <td>   -0.9241</td> <td>    0.186</td> <td>   -4.956</td> <td> 0.000</td> <td>   -1.290</td> <td>   -0.559</td>\n",
       "</tr>\n",
       "<tr>\n",
       "  <th>Last Activity_converted to lead</th>                      <td>   -1.0837</td> <td>    0.218</td> <td>   -4.964</td> <td> 0.000</td> <td>   -1.512</td> <td>   -0.656</td>\n",
       "</tr>\n",
       "<tr>\n",
       "  <th>Last Activity_email bounced</th>                          <td>   -1.1075</td> <td>    0.360</td> <td>   -3.078</td> <td> 0.002</td> <td>   -1.813</td> <td>   -0.402</td>\n",
       "</tr>\n",
       "<tr>\n",
       "  <th>Last Activity_olark chat conversation</th>                <td>   -1.3217</td> <td>    0.167</td> <td>   -7.909</td> <td> 0.000</td> <td>   -1.649</td> <td>   -0.994</td>\n",
       "</tr>\n",
       "<tr>\n",
       "  <th>Last Activity_page visited on website</th>                <td>   -0.5187</td> <td>    0.151</td> <td>   -3.431</td> <td> 0.001</td> <td>   -0.815</td> <td>   -0.222</td>\n",
       "</tr>\n",
       "<tr>\n",
       "  <th>What is your current occupation_unemployed</th>           <td>    0.9326</td> <td>    0.082</td> <td>   11.402</td> <td> 0.000</td> <td>    0.772</td> <td>    1.093</td>\n",
       "</tr>\n",
       "<tr>\n",
       "  <th>What is your current occupation_working professional</th> <td>    3.3457</td> <td>    0.190</td> <td>   17.638</td> <td> 0.000</td> <td>    2.974</td> <td>    3.717</td>\n",
       "</tr>\n",
       "<tr>\n",
       "  <th>Last Notable Activity_modified</th>                       <td>   -0.2291</td> <td>    0.091</td> <td>   -2.517</td> <td> 0.012</td> <td>   -0.407</td> <td>   -0.051</td>\n",
       "</tr>\n",
       "<tr>\n",
       "  <th>Last Notable Activity_sms sent</th>                       <td>    1.2562</td> <td>    0.085</td> <td>   14.731</td> <td> 0.000</td> <td>    1.089</td> <td>    1.423</td>\n",
       "</tr>\n",
       "</table>"
      ],
      "text/plain": [
       "<class 'statsmodels.iolib.summary.Summary'>\n",
       "\"\"\"\n",
       "                 Generalized Linear Model Regression Results                  \n",
       "==============================================================================\n",
       "Dep. Variable:              Converted   No. Observations:                 6465\n",
       "Model:                            GLM   Df Residuals:                     6448\n",
       "Model Family:                Binomial   Df Model:                           16\n",
       "Link Function:                  Logit   Scale:                          1.0000\n",
       "Method:                          IRLS   Log-Likelihood:                -2654.4\n",
       "Date:                Sat, 21 Jan 2023   Deviance:                       5308.9\n",
       "Time:                        15:14:59   Pearson chi2:                 6.97e+03\n",
       "No. Iterations:                     7   Pseudo R-squ. (CS):             0.4006\n",
       "Covariance Type:            nonrobust                                         \n",
       "========================================================================================================================\n",
       "                                                           coef    std err          z      P>|z|      [0.025      0.975]\n",
       "------------------------------------------------------------------------------------------------------------------------\n",
       "const                                                   -1.4904      0.104    -14.336      0.000      -1.694      -1.287\n",
       "TotalVisits                                              0.1033      0.039      2.676      0.007       0.028       0.179\n",
       "Total Time Spent on Website                              1.0761      0.040     27.134      0.000       0.998       1.154\n",
       "Lead Origin_landing page submission                     -0.3822      0.096     -3.998      0.000      -0.570      -0.195\n",
       "Lead Source_direct traffic                              -0.2890      0.090     -3.208      0.001      -0.466      -0.112\n",
       "Lead Source_olark chat                                   0.9124      0.124      7.386      0.000       0.670       1.154\n",
       "Lead Source_reference                                    3.1212      0.203     15.377      0.000       2.723       3.519\n",
       "Lead Source_welingak website                             5.8510      1.016      5.759      0.000       3.860       7.842\n",
       "Do Not Email_yes                                        -0.9241      0.186     -4.956      0.000      -1.290      -0.559\n",
       "Last Activity_converted to lead                         -1.0837      0.218     -4.964      0.000      -1.512      -0.656\n",
       "Last Activity_email bounced                             -1.1075      0.360     -3.078      0.002      -1.813      -0.402\n",
       "Last Activity_olark chat conversation                   -1.3217      0.167     -7.909      0.000      -1.649      -0.994\n",
       "Last Activity_page visited on website                   -0.5187      0.151     -3.431      0.001      -0.815      -0.222\n",
       "What is your current occupation_unemployed               0.9326      0.082     11.402      0.000       0.772       1.093\n",
       "What is your current occupation_working professional     3.3457      0.190     17.638      0.000       2.974       3.717\n",
       "Last Notable Activity_modified                          -0.2291      0.091     -2.517      0.012      -0.407      -0.051\n",
       "Last Notable Activity_sms sent                           1.2562      0.085     14.731      0.000       1.089       1.423\n",
       "========================================================================================================================\n",
       "\"\"\""
      ]
     },
     "execution_count": 851,
     "metadata": {},
     "output_type": "execute_result"
    }
   ],
   "source": [
    "X_train_sm = sm.add_constant(X_train3)\n",
    "logm5 = sm.GLM(y_train, X_train_sm, family = sm.families.Binomial())\n",
    "logm5.fit().summary()"
   ]
  },
  {
   "cell_type": "code",
   "execution_count": 852,
   "metadata": {
    "execution": {
     "iopub.execute_input": "2023-01-21T15:14:59.620542Z",
     "iopub.status.busy": "2023-01-21T15:14:59.618678Z",
     "iopub.status.idle": "2023-01-21T15:14:59.862842Z",
     "shell.execute_reply": "2023-01-21T15:14:59.862005Z",
     "shell.execute_reply.started": "2023-01-21T15:14:59.620506Z"
    }
   },
   "outputs": [
    {
     "data": {
      "text/html": [
       "<div>\n",
       "<style scoped>\n",
       "    .dataframe tbody tr th:only-of-type {\n",
       "        vertical-align: middle;\n",
       "    }\n",
       "\n",
       "    .dataframe tbody tr th {\n",
       "        vertical-align: top;\n",
       "    }\n",
       "\n",
       "    .dataframe thead th {\n",
       "        text-align: right;\n",
       "    }\n",
       "</style>\n",
       "<table border=\"1\" class=\"dataframe\">\n",
       "  <thead>\n",
       "    <tr style=\"text-align: right;\">\n",
       "      <th></th>\n",
       "      <th>Features</th>\n",
       "      <th>VIF</th>\n",
       "    </tr>\n",
       "  </thead>\n",
       "  <tbody>\n",
       "    <tr>\n",
       "      <th>2</th>\n",
       "      <td>Lead Origin_landing page submission</td>\n",
       "      <td>3.18</td>\n",
       "    </tr>\n",
       "    <tr>\n",
       "      <th>12</th>\n",
       "      <td>What is your current occupation_unemployed</td>\n",
       "      <td>2.43</td>\n",
       "    </tr>\n",
       "    <tr>\n",
       "      <th>14</th>\n",
       "      <td>Last Notable Activity_modified</td>\n",
       "      <td>2.24</td>\n",
       "    </tr>\n",
       "    <tr>\n",
       "      <th>3</th>\n",
       "      <td>Lead Source_direct traffic</td>\n",
       "      <td>1.96</td>\n",
       "    </tr>\n",
       "    <tr>\n",
       "      <th>4</th>\n",
       "      <td>Lead Source_olark chat</td>\n",
       "      <td>1.90</td>\n",
       "    </tr>\n",
       "    <tr>\n",
       "      <th>7</th>\n",
       "      <td>Do Not Email_yes</td>\n",
       "      <td>1.90</td>\n",
       "    </tr>\n",
       "    <tr>\n",
       "      <th>9</th>\n",
       "      <td>Last Activity_email bounced</td>\n",
       "      <td>1.88</td>\n",
       "    </tr>\n",
       "    <tr>\n",
       "      <th>10</th>\n",
       "      <td>Last Activity_olark chat conversation</td>\n",
       "      <td>1.62</td>\n",
       "    </tr>\n",
       "    <tr>\n",
       "      <th>15</th>\n",
       "      <td>Last Notable Activity_sms sent</td>\n",
       "      <td>1.61</td>\n",
       "    </tr>\n",
       "    <tr>\n",
       "      <th>0</th>\n",
       "      <td>TotalVisits</td>\n",
       "      <td>1.46</td>\n",
       "    </tr>\n",
       "    <tr>\n",
       "      <th>5</th>\n",
       "      <td>Lead Source_reference</td>\n",
       "      <td>1.38</td>\n",
       "    </tr>\n",
       "    <tr>\n",
       "      <th>13</th>\n",
       "      <td>What is your current occupation_working profes...</td>\n",
       "      <td>1.32</td>\n",
       "    </tr>\n",
       "    <tr>\n",
       "      <th>8</th>\n",
       "      <td>Last Activity_converted to lead</td>\n",
       "      <td>1.28</td>\n",
       "    </tr>\n",
       "    <tr>\n",
       "      <th>1</th>\n",
       "      <td>Total Time Spent on Website</td>\n",
       "      <td>1.26</td>\n",
       "    </tr>\n",
       "    <tr>\n",
       "      <th>11</th>\n",
       "      <td>Last Activity_page visited on website</td>\n",
       "      <td>1.21</td>\n",
       "    </tr>\n",
       "    <tr>\n",
       "      <th>6</th>\n",
       "      <td>Lead Source_welingak website</td>\n",
       "      <td>1.10</td>\n",
       "    </tr>\n",
       "  </tbody>\n",
       "</table>\n",
       "</div>"
      ],
      "text/plain": [
       "                                             Features   VIF\n",
       "2                 Lead Origin_landing page submission  3.18\n",
       "12         What is your current occupation_unemployed  2.43\n",
       "14                     Last Notable Activity_modified  2.24\n",
       "3                          Lead Source_direct traffic  1.96\n",
       "4                              Lead Source_olark chat  1.90\n",
       "7                                    Do Not Email_yes  1.90\n",
       "9                         Last Activity_email bounced  1.88\n",
       "10              Last Activity_olark chat conversation  1.62\n",
       "15                     Last Notable Activity_sms sent  1.61\n",
       "0                                         TotalVisits  1.46\n",
       "5                               Lead Source_reference  1.38\n",
       "13  What is your current occupation_working profes...  1.32\n",
       "8                     Last Activity_converted to lead  1.28\n",
       "1                         Total Time Spent on Website  1.26\n",
       "11              Last Activity_page visited on website  1.21\n",
       "6                        Lead Source_welingak website  1.10"
      ]
     },
     "execution_count": 852,
     "metadata": {},
     "output_type": "execute_result"
    }
   ],
   "source": [
    "vif = pd.DataFrame()\n",
    "X_train=X_train3\n",
    "vif['Features'] = X_train.columns\n",
    "vif['VIF'] = [variance_inflation_factor(X_train.values, i) for i in range(X_train.shape[1])]\n",
    "vif['VIF'] = round(vif['VIF'], 2)\n",
    "vif = vif.sort_values(by = \"VIF\", ascending = False)\n",
    "vif"
   ]
  },
  {
   "cell_type": "code",
   "execution_count": 853,
   "metadata": {
    "execution": {
     "iopub.execute_input": "2023-01-21T15:14:59.868750Z",
     "iopub.status.busy": "2023-01-21T15:14:59.866657Z",
     "iopub.status.idle": "2023-01-21T15:14:59.909611Z",
     "shell.execute_reply": "2023-01-21T15:14:59.908795Z",
     "shell.execute_reply.started": "2023-01-21T15:14:59.868709Z"
    }
   },
   "outputs": [
    {
     "data": {
      "text/plain": [
       "8412    0.982073\n",
       "3291    0.862326\n",
       "8068    0.817955\n",
       "987     0.096265\n",
       "7421    0.073267\n",
       "1032    0.862449\n",
       "8684    0.624719\n",
       "4318    0.437425\n",
       "7296    0.370199\n",
       "712     0.068698\n",
       "3954    0.039110\n",
       "3936    0.320591\n",
       "5166    0.049237\n",
       "4689    0.086415\n",
       "5905    0.390269\n",
       "3671    0.904897\n",
       "1050    0.547143\n",
       "8706    0.048946\n",
       "3172    0.993664\n",
       "6567    0.781340\n",
       "dtype: float64"
      ]
     },
     "execution_count": 853,
     "metadata": {},
     "output_type": "execute_result"
    }
   ],
   "source": [
    "# Predicting the probabilities on the train set\n",
    "y_train_pred = logm5.fit().predict(X_train_sm)\n",
    "y_train_pred[:20]"
   ]
  },
  {
   "cell_type": "code",
   "execution_count": 854,
   "metadata": {
    "execution": {
     "iopub.execute_input": "2023-01-21T15:14:59.915369Z",
     "iopub.status.busy": "2023-01-21T15:14:59.913404Z",
     "iopub.status.idle": "2023-01-21T15:14:59.926071Z",
     "shell.execute_reply": "2023-01-21T15:14:59.925016Z",
     "shell.execute_reply.started": "2023-01-21T15:14:59.915331Z"
    }
   },
   "outputs": [
    {
     "data": {
      "text/plain": [
       "array([0.98207268, 0.8623259 , 0.81795526, 0.09626513, 0.07326674,\n",
       "       0.86244931, 0.62471948, 0.43742533, 0.37019854, 0.06869813,\n",
       "       0.03911046, 0.32059107, 0.04923718, 0.08641503, 0.39026913,\n",
       "       0.90489724, 0.54714324, 0.04894634, 0.9936636 , 0.78134001])"
      ]
     },
     "execution_count": 854,
     "metadata": {},
     "output_type": "execute_result"
    }
   ],
   "source": [
    "# Reshaping to an array\n",
    "y_train_pred = y_train_pred.values.reshape(-1)\n",
    "y_train_pred[:20]"
   ]
  },
  {
   "cell_type": "code",
   "execution_count": 855,
   "metadata": {
    "execution": {
     "iopub.execute_input": "2023-01-21T15:14:59.942793Z",
     "iopub.status.busy": "2023-01-21T15:14:59.931005Z",
     "iopub.status.idle": "2023-01-21T15:14:59.959286Z",
     "shell.execute_reply": "2023-01-21T15:14:59.958490Z",
     "shell.execute_reply.started": "2023-01-21T15:14:59.942736Z"
    }
   },
   "outputs": [
    {
     "data": {
      "text/html": [
       "<div>\n",
       "<style scoped>\n",
       "    .dataframe tbody tr th:only-of-type {\n",
       "        vertical-align: middle;\n",
       "    }\n",
       "\n",
       "    .dataframe tbody tr th {\n",
       "        vertical-align: top;\n",
       "    }\n",
       "\n",
       "    .dataframe thead th {\n",
       "        text-align: right;\n",
       "    }\n",
       "</style>\n",
       "<table border=\"1\" class=\"dataframe\">\n",
       "  <thead>\n",
       "    <tr style=\"text-align: right;\">\n",
       "      <th></th>\n",
       "      <th>Converted</th>\n",
       "      <th>Conversion_Prob</th>\n",
       "    </tr>\n",
       "  </thead>\n",
       "  <tbody>\n",
       "    <tr>\n",
       "      <th>0</th>\n",
       "      <td>1</td>\n",
       "      <td>0.982073</td>\n",
       "    </tr>\n",
       "    <tr>\n",
       "      <th>1</th>\n",
       "      <td>1</td>\n",
       "      <td>0.862326</td>\n",
       "    </tr>\n",
       "    <tr>\n",
       "      <th>2</th>\n",
       "      <td>1</td>\n",
       "      <td>0.817955</td>\n",
       "    </tr>\n",
       "    <tr>\n",
       "      <th>3</th>\n",
       "      <td>0</td>\n",
       "      <td>0.096265</td>\n",
       "    </tr>\n",
       "    <tr>\n",
       "      <th>4</th>\n",
       "      <td>1</td>\n",
       "      <td>0.073267</td>\n",
       "    </tr>\n",
       "  </tbody>\n",
       "</table>\n",
       "</div>"
      ],
      "text/plain": [
       "   Converted  Conversion_Prob\n",
       "0          1         0.982073\n",
       "1          1         0.862326\n",
       "2          1         0.817955\n",
       "3          0         0.096265\n",
       "4          1         0.073267"
      ]
     },
     "execution_count": 855,
     "metadata": {},
     "output_type": "execute_result"
    }
   ],
   "source": [
    "# Data frame with given convertion rate and probablity of predicted ones\n",
    "y_train_pred_final = pd.DataFrame({'Converted':y_train.values, 'Conversion_Prob':y_train_pred})\n",
    "y_train_pred_final.head()"
   ]
  },
  {
   "cell_type": "code",
   "execution_count": 856,
   "metadata": {
    "execution": {
     "iopub.execute_input": "2023-01-21T15:14:59.972168Z",
     "iopub.status.busy": "2023-01-21T15:14:59.969973Z",
     "iopub.status.idle": "2023-01-21T15:14:59.991382Z",
     "shell.execute_reply": "2023-01-21T15:14:59.990586Z",
     "shell.execute_reply.started": "2023-01-21T15:14:59.972124Z"
    }
   },
   "outputs": [
    {
     "data": {
      "text/html": [
       "<div>\n",
       "<style scoped>\n",
       "    .dataframe tbody tr th:only-of-type {\n",
       "        vertical-align: middle;\n",
       "    }\n",
       "\n",
       "    .dataframe tbody tr th {\n",
       "        vertical-align: top;\n",
       "    }\n",
       "\n",
       "    .dataframe thead th {\n",
       "        text-align: right;\n",
       "    }\n",
       "</style>\n",
       "<table border=\"1\" class=\"dataframe\">\n",
       "  <thead>\n",
       "    <tr style=\"text-align: right;\">\n",
       "      <th></th>\n",
       "      <th>Converted</th>\n",
       "      <th>Conversion_Prob</th>\n",
       "      <th>Predicted</th>\n",
       "    </tr>\n",
       "  </thead>\n",
       "  <tbody>\n",
       "    <tr>\n",
       "      <th>0</th>\n",
       "      <td>1</td>\n",
       "      <td>0.982073</td>\n",
       "      <td>1</td>\n",
       "    </tr>\n",
       "    <tr>\n",
       "      <th>1</th>\n",
       "      <td>1</td>\n",
       "      <td>0.862326</td>\n",
       "      <td>1</td>\n",
       "    </tr>\n",
       "    <tr>\n",
       "      <th>2</th>\n",
       "      <td>1</td>\n",
       "      <td>0.817955</td>\n",
       "      <td>1</td>\n",
       "    </tr>\n",
       "    <tr>\n",
       "      <th>3</th>\n",
       "      <td>0</td>\n",
       "      <td>0.096265</td>\n",
       "      <td>0</td>\n",
       "    </tr>\n",
       "    <tr>\n",
       "      <th>4</th>\n",
       "      <td>1</td>\n",
       "      <td>0.073267</td>\n",
       "      <td>0</td>\n",
       "    </tr>\n",
       "  </tbody>\n",
       "</table>\n",
       "</div>"
      ],
      "text/plain": [
       "   Converted  Conversion_Prob  Predicted\n",
       "0          1         0.982073          1\n",
       "1          1         0.862326          1\n",
       "2          1         0.817955          1\n",
       "3          0         0.096265          0\n",
       "4          1         0.073267          0"
      ]
     },
     "execution_count": 856,
     "metadata": {},
     "output_type": "execute_result"
    }
   ],
   "source": [
    "# Substituting 0 or 1 with the cut off as 0.5\n",
    "y_train_pred_final['Predicted'] = y_train_pred_final.Conversion_Prob.map(lambda x: 1 if x > 0.5 else 0)\n",
    "y_train_pred_final.head()"
   ]
  },
  {
   "cell_type": "code",
   "execution_count": 857,
   "metadata": {
    "execution": {
     "iopub.execute_input": "2023-01-21T15:14:59.997269Z",
     "iopub.status.busy": "2023-01-21T15:14:59.995166Z",
     "iopub.status.idle": "2023-01-21T15:15:00.002981Z",
     "shell.execute_reply": "2023-01-21T15:15:00.002114Z",
     "shell.execute_reply.started": "2023-01-21T15:14:59.997233Z"
    }
   },
   "outputs": [],
   "source": [
    "# Importing metrics from sklearn for evaluation\n",
    "from sklearn import metrics"
   ]
  },
  {
   "cell_type": "code",
   "execution_count": 858,
   "metadata": {
    "execution": {
     "iopub.execute_input": "2023-01-21T15:15:00.009889Z",
     "iopub.status.busy": "2023-01-21T15:15:00.007525Z",
     "iopub.status.idle": "2023-01-21T15:15:00.022729Z",
     "shell.execute_reply": "2023-01-21T15:15:00.021875Z",
     "shell.execute_reply.started": "2023-01-21T15:15:00.009846Z"
    }
   },
   "outputs": [
    {
     "data": {
      "text/plain": [
       "array([[3530,  445],\n",
       "       [ 732, 1758]])"
      ]
     },
     "execution_count": 858,
     "metadata": {},
     "output_type": "execute_result"
    }
   ],
   "source": [
    "# Creating confusion matrix \n",
    "confusion = metrics.confusion_matrix(y_train_pred_final.Converted, y_train_pred_final.Predicted )\n",
    "confusion"
   ]
  },
  {
   "cell_type": "code",
   "execution_count": 859,
   "metadata": {
    "execution": {
     "iopub.execute_input": "2023-01-21T15:15:00.025413Z",
     "iopub.status.busy": "2023-01-21T15:15:00.025011Z",
     "iopub.status.idle": "2023-01-21T15:15:00.038364Z",
     "shell.execute_reply": "2023-01-21T15:15:00.037466Z",
     "shell.execute_reply.started": "2023-01-21T15:15:00.025381Z"
    }
   },
   "outputs": [
    {
     "data": {
      "text/plain": [
       "0.8179427687548337"
      ]
     },
     "execution_count": 859,
     "metadata": {},
     "output_type": "execute_result"
    }
   ],
   "source": [
    "# Check the overall accuracy\n",
    "metrics.accuracy_score(y_train_pred_final.Converted, y_train_pred_final.Predicted)"
   ]
  },
  {
   "cell_type": "code",
   "execution_count": 860,
   "metadata": {
    "execution": {
     "iopub.execute_input": "2023-01-21T15:15:00.041992Z",
     "iopub.status.busy": "2023-01-21T15:15:00.040118Z",
     "iopub.status.idle": "2023-01-21T15:15:00.047237Z",
     "shell.execute_reply": "2023-01-21T15:15:00.046030Z",
     "shell.execute_reply.started": "2023-01-21T15:15:00.041935Z"
    }
   },
   "outputs": [],
   "source": [
    "# Substituting the value of true positive\n",
    "TP = confusion[1,1]\n",
    "# Substituting the value of true negatives\n",
    "TN = confusion[0,0]\n",
    "# Substituting the value of false positives\n",
    "FP = confusion[0,1] \n",
    "# Substituting the value of false negatives\n",
    "FN = confusion[1,0]"
   ]
  },
  {
   "cell_type": "code",
   "execution_count": 861,
   "metadata": {
    "execution": {
     "iopub.execute_input": "2023-01-21T15:15:00.048966Z",
     "iopub.status.busy": "2023-01-21T15:15:00.048617Z",
     "iopub.status.idle": "2023-01-21T15:15:00.067792Z",
     "shell.execute_reply": "2023-01-21T15:15:00.066450Z",
     "shell.execute_reply.started": "2023-01-21T15:15:00.048939Z"
    }
   },
   "outputs": [
    {
     "data": {
      "text/plain": [
       "0.7060240963855422"
      ]
     },
     "execution_count": 861,
     "metadata": {},
     "output_type": "execute_result"
    }
   ],
   "source": [
    "# Calculating True possitive rate\n",
    "TP/(TP+FN)"
   ]
  },
  {
   "cell_type": "code",
   "execution_count": 862,
   "metadata": {
    "execution": {
     "iopub.execute_input": "2023-01-21T15:15:00.070411Z",
     "iopub.status.busy": "2023-01-21T15:15:00.069523Z",
     "iopub.status.idle": "2023-01-21T15:15:00.080083Z",
     "shell.execute_reply": "2023-01-21T15:15:00.079052Z",
     "shell.execute_reply.started": "2023-01-21T15:15:00.070369Z"
    }
   },
   "outputs": [
    {
     "data": {
      "text/plain": [
       "0.11194968553459117"
      ]
     },
     "execution_count": 862,
     "metadata": {},
     "output_type": "execute_result"
    }
   ],
   "source": [
    "# Calculating the false positive rate\n",
    "1-TN/(TN+FP)"
   ]
  },
  {
   "cell_type": "markdown",
   "metadata": {},
   "source": [
    "# ROC Curve"
   ]
  },
  {
   "cell_type": "code",
   "execution_count": 863,
   "metadata": {
    "execution": {
     "iopub.execute_input": "2023-01-21T15:15:00.081566Z",
     "iopub.status.busy": "2023-01-21T15:15:00.081292Z",
     "iopub.status.idle": "2023-01-21T15:15:00.092851Z",
     "shell.execute_reply": "2023-01-21T15:15:00.091656Z",
     "shell.execute_reply.started": "2023-01-21T15:15:00.081535Z"
    }
   },
   "outputs": [],
   "source": [
    "# ROC function\n",
    "def draw_roc( actual, probs ):\n",
    "    fpr, tpr, thresholds = metrics.roc_curve( actual, probs,\n",
    "                                              drop_intermediate = False )\n",
    "    auc_score = metrics.roc_auc_score( actual, probs )\n",
    "    plt.figure(figsize=(5, 5))\n",
    "    plt.plot( fpr, tpr, label='ROC curve (area = %0.2f)' % auc_score )\n",
    "    plt.plot([0, 1], [0, 1], 'k--')\n",
    "    plt.xlim([0.0, 1.0])\n",
    "    plt.ylim([0.0, 1.05])\n",
    "    plt.xlabel('False Positive Rate or [1 - True Negative Rate]')\n",
    "    plt.ylabel('True Positive Rate')\n",
    "    plt.title('Receiver operating characteristic example')\n",
    "    plt.legend(loc=\"lower right\")\n",
    "    plt.show()\n",
    "\n",
    "    return None"
   ]
  },
  {
   "cell_type": "code",
   "execution_count": 864,
   "metadata": {
    "execution": {
     "iopub.execute_input": "2023-01-21T15:15:00.095196Z",
     "iopub.status.busy": "2023-01-21T15:15:00.094620Z",
     "iopub.status.idle": "2023-01-21T15:15:00.106138Z",
     "shell.execute_reply": "2023-01-21T15:15:00.105269Z",
     "shell.execute_reply.started": "2023-01-21T15:15:00.095159Z"
    }
   },
   "outputs": [],
   "source": [
    "fpr, tpr, thresholds = metrics.roc_curve( y_train_pred_final.Converted, y_train_pred_final.Conversion_Prob, drop_intermediate = False )\n"
   ]
  },
  {
   "cell_type": "code",
   "execution_count": 865,
   "metadata": {
    "execution": {
     "iopub.execute_input": "2023-01-21T15:15:00.110952Z",
     "iopub.status.busy": "2023-01-21T15:15:00.109713Z",
     "iopub.status.idle": "2023-01-21T15:15:00.269169Z",
     "shell.execute_reply": "2023-01-21T15:15:00.268263Z",
     "shell.execute_reply.started": "2023-01-21T15:15:00.110896Z"
    }
   },
   "outputs": [
    {
     "data": {
      "image/png": "[encoded data removed]",
      "text/plain": [
       "<Figure size 360x360 with 1 Axes>"
      ]
     },
     "metadata": {
      "needs_background": "light"
     },
     "output_type": "display_data"
    }
   ],
   "source": [
    "# Call the ROC function\n",
    "draw_roc(y_train_pred_final.Converted, y_train_pred_final.Conversion_Prob)"
   ]
  },
  {
   "cell_type": "code",
   "execution_count": 866,
   "metadata": {
    "execution": {
     "iopub.execute_input": "2023-01-21T15:15:00.270668Z",
     "iopub.status.busy": "2023-01-21T15:15:00.270363Z",
     "iopub.status.idle": "2023-01-21T15:15:00.320468Z",
     "shell.execute_reply": "2023-01-21T15:15:00.319369Z",
     "shell.execute_reply.started": "2023-01-21T15:15:00.270642Z"
    }
   },
   "outputs": [
    {
     "data": {
      "text/html": [
       "<div>\n",
       "<style scoped>\n",
       "    .dataframe tbody tr th:only-of-type {\n",
       "        vertical-align: middle;\n",
       "    }\n",
       "\n",
       "    .dataframe tbody tr th {\n",
       "        vertical-align: top;\n",
       "    }\n",
       "\n",
       "    .dataframe thead th {\n",
       "        text-align: right;\n",
       "    }\n",
       "</style>\n",
       "<table border=\"1\" class=\"dataframe\">\n",
       "  <thead>\n",
       "    <tr style=\"text-align: right;\">\n",
       "      <th></th>\n",
       "      <th>Converted</th>\n",
       "      <th>Conversion_Prob</th>\n",
       "      <th>Predicted</th>\n",
       "      <th>0.0</th>\n",
       "      <th>0.1</th>\n",
       "      <th>0.2</th>\n",
       "      <th>0.3</th>\n",
       "      <th>0.4</th>\n",
       "      <th>0.5</th>\n",
       "      <th>0.6</th>\n",
       "      <th>0.7</th>\n",
       "      <th>0.8</th>\n",
       "      <th>0.9</th>\n",
       "    </tr>\n",
       "  </thead>\n",
       "  <tbody>\n",
       "    <tr>\n",
       "      <th>0</th>\n",
       "      <td>1</td>\n",
       "      <td>0.982073</td>\n",
       "      <td>1</td>\n",
       "      <td>1</td>\n",
       "      <td>1</td>\n",
       "      <td>1</td>\n",
       "      <td>1</td>\n",
       "      <td>1</td>\n",
       "      <td>1</td>\n",
       "      <td>1</td>\n",
       "      <td>1</td>\n",
       "      <td>1</td>\n",
       "      <td>1</td>\n",
       "    </tr>\n",
       "    <tr>\n",
       "      <th>1</th>\n",
       "      <td>1</td>\n",
       "      <td>0.862326</td>\n",
       "      <td>1</td>\n",
       "      <td>1</td>\n",
       "      <td>1</td>\n",
       "      <td>1</td>\n",
       "      <td>1</td>\n",
       "      <td>1</td>\n",
       "      <td>1</td>\n",
       "      <td>1</td>\n",
       "      <td>1</td>\n",
       "      <td>1</td>\n",
       "      <td>0</td>\n",
       "    </tr>\n",
       "    <tr>\n",
       "      <th>2</th>\n",
       "      <td>1</td>\n",
       "      <td>0.817955</td>\n",
       "      <td>1</td>\n",
       "      <td>1</td>\n",
       "      <td>1</td>\n",
       "      <td>1</td>\n",
       "      <td>1</td>\n",
       "      <td>1</td>\n",
       "      <td>1</td>\n",
       "      <td>1</td>\n",
       "      <td>1</td>\n",
       "      <td>1</td>\n",
       "      <td>0</td>\n",
       "    </tr>\n",
       "    <tr>\n",
       "      <th>3</th>\n",
       "      <td>0</td>\n",
       "      <td>0.096265</td>\n",
       "      <td>0</td>\n",
       "      <td>1</td>\n",
       "      <td>0</td>\n",
       "      <td>0</td>\n",
       "      <td>0</td>\n",
       "      <td>0</td>\n",
       "      <td>0</td>\n",
       "      <td>0</td>\n",
       "      <td>0</td>\n",
       "      <td>0</td>\n",
       "      <td>0</td>\n",
       "    </tr>\n",
       "    <tr>\n",
       "      <th>4</th>\n",
       "      <td>1</td>\n",
       "      <td>0.073267</td>\n",
       "      <td>0</td>\n",
       "      <td>1</td>\n",
       "      <td>0</td>\n",
       "      <td>0</td>\n",
       "      <td>0</td>\n",
       "      <td>0</td>\n",
       "      <td>0</td>\n",
       "      <td>0</td>\n",
       "      <td>0</td>\n",
       "      <td>0</td>\n",
       "      <td>0</td>\n",
       "    </tr>\n",
       "  </tbody>\n",
       "</table>\n",
       "</div>"
      ],
      "text/plain": [
       "   Converted  Conversion_Prob  Predicted  0.0  0.1  0.2  0.3  0.4  0.5  0.6  \\\n",
       "0          1         0.982073          1    1    1    1    1    1    1    1   \n",
       "1          1         0.862326          1    1    1    1    1    1    1    1   \n",
       "2          1         0.817955          1    1    1    1    1    1    1    1   \n",
       "3          0         0.096265          0    1    0    0    0    0    0    0   \n",
       "4          1         0.073267          0    1    0    0    0    0    0    0   \n",
       "\n",
       "   0.7  0.8  0.9  \n",
       "0    1    1    1  \n",
       "1    1    1    0  \n",
       "2    1    1    0  \n",
       "3    0    0    0  \n",
       "4    0    0    0  "
      ]
     },
     "execution_count": 866,
     "metadata": {},
     "output_type": "execute_result"
    }
   ],
   "source": [
    "# Creating columns with different probability cutoffs \n",
    "numbers = [float(x)/10 for x in range(10)]\n",
    "for i in numbers:\n",
    "    y_train_pred_final[i]= y_train_pred_final.Conversion_Prob.map(lambda x: 1 if x > i else 0)\n",
    "y_train_pred_final.head()"
   ]
  },
  {
   "cell_type": "code",
   "execution_count": 867,
   "metadata": {
    "execution": {
     "iopub.execute_input": "2023-01-21T15:15:00.322075Z",
     "iopub.status.busy": "2023-01-21T15:15:00.321698Z",
     "iopub.status.idle": "2023-01-21T15:15:00.371218Z",
     "shell.execute_reply": "2023-01-21T15:15:00.370454Z",
     "shell.execute_reply.started": "2023-01-21T15:15:00.322039Z"
    }
   },
   "outputs": [
    {
     "data": {
      "text/html": [
       "<div>\n",
       "<style scoped>\n",
       "    .dataframe tbody tr th:only-of-type {\n",
       "        vertical-align: middle;\n",
       "    }\n",
       "\n",
       "    .dataframe tbody tr th {\n",
       "        vertical-align: top;\n",
       "    }\n",
       "\n",
       "    .dataframe thead th {\n",
       "        text-align: right;\n",
       "    }\n",
       "</style>\n",
       "<table border=\"1\" class=\"dataframe\">\n",
       "  <thead>\n",
       "    <tr style=\"text-align: right;\">\n",
       "      <th></th>\n",
       "      <th>prob</th>\n",
       "      <th>accuracy</th>\n",
       "      <th>sensi</th>\n",
       "      <th>speci</th>\n",
       "    </tr>\n",
       "  </thead>\n",
       "  <tbody>\n",
       "    <tr>\n",
       "      <th>0.0</th>\n",
       "      <td>0.0</td>\n",
       "      <td>0.385151</td>\n",
       "      <td>1.000000</td>\n",
       "      <td>0.000000</td>\n",
       "    </tr>\n",
       "    <tr>\n",
       "      <th>0.1</th>\n",
       "      <td>0.1</td>\n",
       "      <td>0.620418</td>\n",
       "      <td>0.972691</td>\n",
       "      <td>0.399748</td>\n",
       "    </tr>\n",
       "    <tr>\n",
       "      <th>0.2</th>\n",
       "      <td>0.2</td>\n",
       "      <td>0.759783</td>\n",
       "      <td>0.914859</td>\n",
       "      <td>0.662642</td>\n",
       "    </tr>\n",
       "    <tr>\n",
       "      <th>0.3</th>\n",
       "      <td>0.3</td>\n",
       "      <td>0.797061</td>\n",
       "      <td>0.864659</td>\n",
       "      <td>0.754717</td>\n",
       "    </tr>\n",
       "    <tr>\n",
       "      <th>0.4</th>\n",
       "      <td>0.4</td>\n",
       "      <td>0.813921</td>\n",
       "      <td>0.784739</td>\n",
       "      <td>0.832201</td>\n",
       "    </tr>\n",
       "    <tr>\n",
       "      <th>0.5</th>\n",
       "      <td>0.5</td>\n",
       "      <td>0.817943</td>\n",
       "      <td>0.706024</td>\n",
       "      <td>0.888050</td>\n",
       "    </tr>\n",
       "    <tr>\n",
       "      <th>0.6</th>\n",
       "      <td>0.6</td>\n",
       "      <td>0.806651</td>\n",
       "      <td>0.628112</td>\n",
       "      <td>0.918491</td>\n",
       "    </tr>\n",
       "    <tr>\n",
       "      <th>0.7</th>\n",
       "      <td>0.7</td>\n",
       "      <td>0.781593</td>\n",
       "      <td>0.517269</td>\n",
       "      <td>0.947170</td>\n",
       "    </tr>\n",
       "    <tr>\n",
       "      <th>0.8</th>\n",
       "      <td>0.8</td>\n",
       "      <td>0.755452</td>\n",
       "      <td>0.417671</td>\n",
       "      <td>0.967044</td>\n",
       "    </tr>\n",
       "    <tr>\n",
       "      <th>0.9</th>\n",
       "      <td>0.9</td>\n",
       "      <td>0.711833</td>\n",
       "      <td>0.273896</td>\n",
       "      <td>0.986164</td>\n",
       "    </tr>\n",
       "  </tbody>\n",
       "</table>\n",
       "</div>"
      ],
      "text/plain": [
       "     prob  accuracy     sensi     speci\n",
       "0.0   0.0  0.385151  1.000000  0.000000\n",
       "0.1   0.1  0.620418  0.972691  0.399748\n",
       "0.2   0.2  0.759783  0.914859  0.662642\n",
       "0.3   0.3  0.797061  0.864659  0.754717\n",
       "0.4   0.4  0.813921  0.784739  0.832201\n",
       "0.5   0.5  0.817943  0.706024  0.888050\n",
       "0.6   0.6  0.806651  0.628112  0.918491\n",
       "0.7   0.7  0.781593  0.517269  0.947170\n",
       "0.8   0.8  0.755452  0.417671  0.967044\n",
       "0.9   0.9  0.711833  0.273896  0.986164"
      ]
     },
     "execution_count": 867,
     "metadata": {},
     "output_type": "execute_result"
    }
   ],
   "source": [
    "# Creating a dataframe to see the values of accuracy, sensitivity, and specificity at different values of probabiity cutoffs\n",
    "cutoff_df = pd.DataFrame( columns = ['prob','accuracy','sensi','speci'])\n",
    "# Making confusing matrix to find values of sensitivity, accurace and specificity for each level of probablity\n",
    "from sklearn.metrics import confusion_matrix\n",
    "num = [0.0,0.1,0.2,0.3,0.4,0.5,0.6,0.7,0.8,0.9]\n",
    "for i in num:\n",
    "    cm1 = metrics.confusion_matrix(y_train_pred_final.Converted, y_train_pred_final[i] )\n",
    "    total1=sum(sum(cm1))\n",
    "    accuracy = (cm1[0,0]+cm1[1,1])/total1\n",
    "    \n",
    "    speci = cm1[0,0]/(cm1[0,0]+cm1[0,1])\n",
    "    sensi = cm1[1,1]/(cm1[1,0]+cm1[1,1])\n",
    "    cutoff_df.loc[i] =[ i ,accuracy,sensi,speci]\n",
    "cutoff_df"
   ]
  },
  {
   "cell_type": "code",
   "execution_count": 868,
   "metadata": {
    "execution": {
     "iopub.execute_input": "2023-01-21T15:15:00.372849Z",
     "iopub.status.busy": "2023-01-21T15:15:00.372381Z",
     "iopub.status.idle": "2023-01-21T15:15:00.528524Z",
     "shell.execute_reply": "2023-01-21T15:15:00.527647Z",
     "shell.execute_reply.started": "2023-01-21T15:15:00.372822Z"
    }
   },
   "outputs": [
    {
     "data": {
      "image/png": "[encoded data removed]",
      "text/plain": [
       "<Figure size 432x288 with 1 Axes>"
      ]
     },
     "metadata": {
      "needs_background": "light"
     },
     "output_type": "display_data"
    }
   ],
   "source": [
    "# Plotting it\n",
    "cutoff_df.plot.line(x='prob', y=['accuracy','sensi','speci'])\n",
    "plt.show()"
   ]
  },
  {
   "cell_type": "code",
   "execution_count": 869,
   "metadata": {
    "execution": {
     "iopub.execute_input": "2023-01-21T15:15:00.530535Z",
     "iopub.status.busy": "2023-01-21T15:15:00.530002Z",
     "iopub.status.idle": "2023-01-21T15:15:00.549448Z",
     "shell.execute_reply": "2023-01-21T15:15:00.548170Z",
     "shell.execute_reply.started": "2023-01-21T15:15:00.530501Z"
    }
   },
   "outputs": [
    {
     "data": {
      "text/html": [
       "<div>\n",
       "<style scoped>\n",
       "    .dataframe tbody tr th:only-of-type {\n",
       "        vertical-align: middle;\n",
       "    }\n",
       "\n",
       "    .dataframe tbody tr th {\n",
       "        vertical-align: top;\n",
       "    }\n",
       "\n",
       "    .dataframe thead th {\n",
       "        text-align: right;\n",
       "    }\n",
       "</style>\n",
       "<table border=\"1\" class=\"dataframe\">\n",
       "  <thead>\n",
       "    <tr style=\"text-align: right;\">\n",
       "      <th></th>\n",
       "      <th>Converted</th>\n",
       "      <th>Conversion_Prob</th>\n",
       "      <th>Predicted</th>\n",
       "      <th>0.0</th>\n",
       "      <th>0.1</th>\n",
       "      <th>0.2</th>\n",
       "      <th>0.3</th>\n",
       "      <th>0.4</th>\n",
       "      <th>0.5</th>\n",
       "      <th>0.6</th>\n",
       "      <th>0.7</th>\n",
       "      <th>0.8</th>\n",
       "      <th>0.9</th>\n",
       "      <th>final_predicted</th>\n",
       "    </tr>\n",
       "  </thead>\n",
       "  <tbody>\n",
       "    <tr>\n",
       "      <th>0</th>\n",
       "      <td>1</td>\n",
       "      <td>0.982073</td>\n",
       "      <td>1</td>\n",
       "      <td>1</td>\n",
       "      <td>1</td>\n",
       "      <td>1</td>\n",
       "      <td>1</td>\n",
       "      <td>1</td>\n",
       "      <td>1</td>\n",
       "      <td>1</td>\n",
       "      <td>1</td>\n",
       "      <td>1</td>\n",
       "      <td>1</td>\n",
       "      <td>1</td>\n",
       "    </tr>\n",
       "    <tr>\n",
       "      <th>1</th>\n",
       "      <td>1</td>\n",
       "      <td>0.862326</td>\n",
       "      <td>1</td>\n",
       "      <td>1</td>\n",
       "      <td>1</td>\n",
       "      <td>1</td>\n",
       "      <td>1</td>\n",
       "      <td>1</td>\n",
       "      <td>1</td>\n",
       "      <td>1</td>\n",
       "      <td>1</td>\n",
       "      <td>1</td>\n",
       "      <td>0</td>\n",
       "      <td>1</td>\n",
       "    </tr>\n",
       "    <tr>\n",
       "      <th>2</th>\n",
       "      <td>1</td>\n",
       "      <td>0.817955</td>\n",
       "      <td>1</td>\n",
       "      <td>1</td>\n",
       "      <td>1</td>\n",
       "      <td>1</td>\n",
       "      <td>1</td>\n",
       "      <td>1</td>\n",
       "      <td>1</td>\n",
       "      <td>1</td>\n",
       "      <td>1</td>\n",
       "      <td>1</td>\n",
       "      <td>0</td>\n",
       "      <td>1</td>\n",
       "    </tr>\n",
       "    <tr>\n",
       "      <th>3</th>\n",
       "      <td>0</td>\n",
       "      <td>0.096265</td>\n",
       "      <td>0</td>\n",
       "      <td>1</td>\n",
       "      <td>0</td>\n",
       "      <td>0</td>\n",
       "      <td>0</td>\n",
       "      <td>0</td>\n",
       "      <td>0</td>\n",
       "      <td>0</td>\n",
       "      <td>0</td>\n",
       "      <td>0</td>\n",
       "      <td>0</td>\n",
       "      <td>0</td>\n",
       "    </tr>\n",
       "    <tr>\n",
       "      <th>4</th>\n",
       "      <td>1</td>\n",
       "      <td>0.073267</td>\n",
       "      <td>0</td>\n",
       "      <td>1</td>\n",
       "      <td>0</td>\n",
       "      <td>0</td>\n",
       "      <td>0</td>\n",
       "      <td>0</td>\n",
       "      <td>0</td>\n",
       "      <td>0</td>\n",
       "      <td>0</td>\n",
       "      <td>0</td>\n",
       "      <td>0</td>\n",
       "      <td>0</td>\n",
       "    </tr>\n",
       "  </tbody>\n",
       "</table>\n",
       "</div>"
      ],
      "text/plain": [
       "   Converted  Conversion_Prob  Predicted  0.0  0.1  0.2  0.3  0.4  0.5  0.6  \\\n",
       "0          1         0.982073          1    1    1    1    1    1    1    1   \n",
       "1          1         0.862326          1    1    1    1    1    1    1    1   \n",
       "2          1         0.817955          1    1    1    1    1    1    1    1   \n",
       "3          0         0.096265          0    1    0    0    0    0    0    0   \n",
       "4          1         0.073267          0    1    0    0    0    0    0    0   \n",
       "\n",
       "   0.7  0.8  0.9  final_predicted  \n",
       "0    1    1    1                1  \n",
       "1    1    1    0                1  \n",
       "2    1    1    0                1  \n",
       "3    0    0    0                0  \n",
       "4    0    0    0                0  "
      ]
     },
     "execution_count": 869,
     "metadata": {},
     "output_type": "execute_result"
    }
   ],
   "source": [
    "y_train_pred_final['final_predicted'] = y_train_pred_final.Conversion_Prob.map( lambda x: 1 if x > 0.37 else 0)\n",
    "y_train_pred_final.head()"
   ]
  },
  {
   "cell_type": "code",
   "execution_count": 870,
   "metadata": {
    "execution": {
     "iopub.execute_input": "2023-01-21T15:15:00.551434Z",
     "iopub.status.busy": "2023-01-21T15:15:00.551064Z",
     "iopub.status.idle": "2023-01-21T15:15:00.560618Z",
     "shell.execute_reply": "2023-01-21T15:15:00.559896Z",
     "shell.execute_reply.started": "2023-01-21T15:15:00.551399Z"
    }
   },
   "outputs": [
    {
     "data": {
      "text/plain": [
       "0.8085073472544471"
      ]
     },
     "execution_count": 870,
     "metadata": {},
     "output_type": "execute_result"
    }
   ],
   "source": [
    "# Check the overall accuracy\n",
    "metrics.accuracy_score(y_train_pred_final.Converted, y_train_pred_final.final_predicted)"
   ]
  },
  {
   "cell_type": "code",
   "execution_count": 871,
   "metadata": {
    "execution": {
     "iopub.execute_input": "2023-01-21T15:15:00.562050Z",
     "iopub.status.busy": "2023-01-21T15:15:00.561680Z",
     "iopub.status.idle": "2023-01-21T15:15:00.574246Z",
     "shell.execute_reply": "2023-01-21T15:15:00.573178Z",
     "shell.execute_reply.started": "2023-01-21T15:15:00.562022Z"
    }
   },
   "outputs": [
    {
     "data": {
      "text/plain": [
       "array([[3239,  736],\n",
       "       [ 502, 1988]])"
      ]
     },
     "execution_count": 871,
     "metadata": {},
     "output_type": "execute_result"
    }
   ],
   "source": [
    "# Creating confusion matrix \n",
    "confusion2 = metrics.confusion_matrix(y_train_pred_final.Converted, y_train_pred_final.final_predicted )\n",
    "confusion2"
   ]
  },
  {
   "cell_type": "code",
   "execution_count": 872,
   "metadata": {
    "execution": {
     "iopub.execute_input": "2023-01-21T15:15:00.576826Z",
     "iopub.status.busy": "2023-01-21T15:15:00.576309Z",
     "iopub.status.idle": "2023-01-21T15:15:00.582790Z",
     "shell.execute_reply": "2023-01-21T15:15:00.581281Z",
     "shell.execute_reply.started": "2023-01-21T15:15:00.576786Z"
    }
   },
   "outputs": [],
   "source": [
    "# Substituting the value of true positive\n",
    "TP = confusion2[1,1]\n",
    "# Substituting the value of true negatives\n",
    "TN = confusion2[0,0]\n",
    "# Substituting the value of false positives\n",
    "FP = confusion2[0,1] \n",
    "# Substituting the value of false negatives\n",
    "FN = confusion2[1,0]"
   ]
  },
  {
   "cell_type": "code",
   "execution_count": 873,
   "metadata": {
    "execution": {
     "iopub.execute_input": "2023-01-21T15:15:00.584881Z",
     "iopub.status.busy": "2023-01-21T15:15:00.584378Z",
     "iopub.status.idle": "2023-01-21T15:15:00.596222Z",
     "shell.execute_reply": "2023-01-21T15:15:00.594839Z",
     "shell.execute_reply.started": "2023-01-21T15:15:00.584847Z"
    }
   },
   "outputs": [
    {
     "data": {
      "text/plain": [
       "0.7983935742971887"
      ]
     },
     "execution_count": 873,
     "metadata": {},
     "output_type": "execute_result"
    }
   ],
   "source": [
    "# Calculating the true positive rate\n",
    "TP/(TP+FN)"
   ]
  },
  {
   "cell_type": "code",
   "execution_count": 874,
   "metadata": {
    "execution": {
     "iopub.execute_input": "2023-01-21T15:15:00.598482Z",
     "iopub.status.busy": "2023-01-21T15:15:00.597969Z",
     "iopub.status.idle": "2023-01-21T15:15:00.607631Z",
     "shell.execute_reply": "2023-01-21T15:15:00.606780Z",
     "shell.execute_reply.started": "2023-01-21T15:15:00.598442Z"
    }
   },
   "outputs": [
    {
     "data": {
      "text/plain": [
       "0.18515723270440254"
      ]
     },
     "execution_count": 874,
     "metadata": {},
     "output_type": "execute_result"
    }
   ],
   "source": [
    "# Calculating the False positive rate\n",
    "1-TN/(TN+FP)"
   ]
  },
  {
   "cell_type": "markdown",
   "metadata": {},
   "source": [
    "# For Test Set"
   ]
  },
  {
   "cell_type": "code",
   "execution_count": 875,
   "metadata": {
    "execution": {
     "iopub.execute_input": "2023-01-21T15:15:00.608933Z",
     "iopub.status.busy": "2023-01-21T15:15:00.608653Z",
     "iopub.status.idle": "2023-01-21T15:15:00.618937Z",
     "shell.execute_reply": "2023-01-21T15:15:00.617883Z",
     "shell.execute_reply.started": "2023-01-21T15:15:00.608906Z"
    }
   },
   "outputs": [],
   "source": [
    "y_test=leeds_test.pop('Converted')\n",
    "X_test=leeds_test\n"
   ]
  },
  {
   "cell_type": "code",
   "execution_count": 876,
   "metadata": {
    "execution": {
     "iopub.execute_input": "2023-01-21T15:15:00.620445Z",
     "iopub.status.busy": "2023-01-21T15:15:00.620182Z",
     "iopub.status.idle": "2023-01-21T15:15:00.634000Z",
     "shell.execute_reply": "2023-01-21T15:15:00.632538Z",
     "shell.execute_reply.started": "2023-01-21T15:15:00.620415Z"
    }
   },
   "outputs": [],
   "source": [
    "X_test[['TotalVisits', 'Page Views Per Visit', 'Total Time Spent on Website']] = scaler.transform(X_test[['TotalVisits', 'Page Views Per Visit', 'Total Time Spent on Website']])\n"
   ]
  },
  {
   "cell_type": "code",
   "execution_count": 877,
   "metadata": {
    "execution": {
     "iopub.execute_input": "2023-01-21T15:15:00.635838Z",
     "iopub.status.busy": "2023-01-21T15:15:00.635497Z",
     "iopub.status.idle": "2023-01-21T15:15:00.641656Z",
     "shell.execute_reply": "2023-01-21T15:15:00.640680Z",
     "shell.execute_reply.started": "2023-01-21T15:15:00.635806Z"
    }
   },
   "outputs": [],
   "source": [
    "# Substituting all the columns in the final train model\n",
    "col = X_train3.columns"
   ]
  },
  {
   "cell_type": "code",
   "execution_count": 878,
   "metadata": {
    "execution": {
     "iopub.execute_input": "2023-01-21T15:15:00.643075Z",
     "iopub.status.busy": "2023-01-21T15:15:00.642733Z",
     "iopub.status.idle": "2023-01-21T15:15:00.659329Z",
     "shell.execute_reply": "2023-01-21T15:15:00.658524Z",
     "shell.execute_reply.started": "2023-01-21T15:15:00.642983Z"
    }
   },
   "outputs": [],
   "source": [
    "# Select the columns in X_train for X_test as well\n",
    "X_test = X_test[col]\n",
    "# Add a constant to X_test\n",
    "X_test_sm = sm.add_constant(X_test[col])"
   ]
  },
  {
   "cell_type": "code",
   "execution_count": 879,
   "metadata": {
    "execution": {
     "iopub.execute_input": "2023-01-21T15:15:00.660464Z",
     "iopub.status.busy": "2023-01-21T15:15:00.660180Z",
     "iopub.status.idle": "2023-01-21T15:15:00.707939Z",
     "shell.execute_reply": "2023-01-21T15:15:00.707107Z",
     "shell.execute_reply.started": "2023-01-21T15:15:00.660438Z"
    }
   },
   "outputs": [
    {
     "data": {
      "text/html": [
       "<div>\n",
       "<style scoped>\n",
       "    .dataframe tbody tr th:only-of-type {\n",
       "        vertical-align: middle;\n",
       "    }\n",
       "\n",
       "    .dataframe tbody tr th {\n",
       "        vertical-align: top;\n",
       "    }\n",
       "\n",
       "    .dataframe thead th {\n",
       "        text-align: right;\n",
       "    }\n",
       "</style>\n",
       "<table border=\"1\" class=\"dataframe\">\n",
       "  <thead>\n",
       "    <tr style=\"text-align: right;\">\n",
       "      <th></th>\n",
       "      <th>Converted</th>\n",
       "      <th>Conversion_Prob</th>\n",
       "    </tr>\n",
       "  </thead>\n",
       "  <tbody>\n",
       "    <tr>\n",
       "      <th>0</th>\n",
       "      <td>0</td>\n",
       "      <td>0.067886</td>\n",
       "    </tr>\n",
       "    <tr>\n",
       "      <th>1</th>\n",
       "      <td>0</td>\n",
       "      <td>0.058999</td>\n",
       "    </tr>\n",
       "    <tr>\n",
       "      <th>2</th>\n",
       "      <td>0</td>\n",
       "      <td>0.224654</td>\n",
       "    </tr>\n",
       "    <tr>\n",
       "      <th>3</th>\n",
       "      <td>1</td>\n",
       "      <td>0.133779</td>\n",
       "    </tr>\n",
       "    <tr>\n",
       "      <th>4</th>\n",
       "      <td>0</td>\n",
       "      <td>0.183554</td>\n",
       "    </tr>\n",
       "  </tbody>\n",
       "</table>\n",
       "</div>"
      ],
      "text/plain": [
       "   Converted  Conversion_Prob\n",
       "0          0         0.067886\n",
       "1          0         0.058999\n",
       "2          0         0.224654\n",
       "3          1         0.133779\n",
       "4          0         0.183554"
      ]
     },
     "execution_count": 879,
     "metadata": {},
     "output_type": "execute_result"
    }
   ],
   "source": [
    "# Storing prediction of test set in the variable 'y_test_pred'\n",
    "y_test_pred = logm5.fit().predict(X_test_sm)\n",
    "# Coverting it to df\n",
    "y_pred_df = pd.DataFrame(y_test_pred)\n",
    "# Converting y_test to dataframe\n",
    "y_test_df = pd.DataFrame(y_test)\n",
    "# Remove index for both dataframes to append them side by side \n",
    "y_pred_df.reset_index(drop=True, inplace=True)\n",
    "y_test_df.reset_index(drop=True, inplace=True)\n",
    "# Append y_test_df and y_pred_df\n",
    "y_pred_final = pd.concat([y_test_df, y_pred_df],axis=1)\n",
    "# Renaming column \n",
    "y_pred_final= y_pred_final.rename(columns = {0 : 'Conversion_Prob'})\n",
    "y_pred_final.head()"
   ]
  },
  {
   "cell_type": "code",
   "execution_count": 880,
   "metadata": {
    "execution": {
     "iopub.execute_input": "2023-01-21T15:15:00.709209Z",
     "iopub.status.busy": "2023-01-21T15:15:00.708953Z",
     "iopub.status.idle": "2023-01-21T15:15:00.724673Z",
     "shell.execute_reply": "2023-01-21T15:15:00.723927Z",
     "shell.execute_reply.started": "2023-01-21T15:15:00.709183Z"
    }
   },
   "outputs": [
    {
     "data": {
      "text/html": [
       "<div>\n",
       "<style scoped>\n",
       "    .dataframe tbody tr th:only-of-type {\n",
       "        vertical-align: middle;\n",
       "    }\n",
       "\n",
       "    .dataframe tbody tr th {\n",
       "        vertical-align: top;\n",
       "    }\n",
       "\n",
       "    .dataframe thead th {\n",
       "        text-align: right;\n",
       "    }\n",
       "</style>\n",
       "<table border=\"1\" class=\"dataframe\">\n",
       "  <thead>\n",
       "    <tr style=\"text-align: right;\">\n",
       "      <th></th>\n",
       "      <th>Converted</th>\n",
       "      <th>Conversion_Prob</th>\n",
       "      <th>final_predicted</th>\n",
       "    </tr>\n",
       "  </thead>\n",
       "  <tbody>\n",
       "    <tr>\n",
       "      <th>0</th>\n",
       "      <td>0</td>\n",
       "      <td>0.067886</td>\n",
       "      <td>0</td>\n",
       "    </tr>\n",
       "    <tr>\n",
       "      <th>1</th>\n",
       "      <td>0</td>\n",
       "      <td>0.058999</td>\n",
       "      <td>0</td>\n",
       "    </tr>\n",
       "    <tr>\n",
       "      <th>2</th>\n",
       "      <td>0</td>\n",
       "      <td>0.224654</td>\n",
       "      <td>0</td>\n",
       "    </tr>\n",
       "    <tr>\n",
       "      <th>3</th>\n",
       "      <td>1</td>\n",
       "      <td>0.133779</td>\n",
       "      <td>0</td>\n",
       "    </tr>\n",
       "    <tr>\n",
       "      <th>4</th>\n",
       "      <td>0</td>\n",
       "      <td>0.183554</td>\n",
       "      <td>0</td>\n",
       "    </tr>\n",
       "    <tr>\n",
       "      <th>...</th>\n",
       "      <td>...</td>\n",
       "      <td>...</td>\n",
       "      <td>...</td>\n",
       "    </tr>\n",
       "    <tr>\n",
       "      <th>2766</th>\n",
       "      <td>0</td>\n",
       "      <td>0.330425</td>\n",
       "      <td>0</td>\n",
       "    </tr>\n",
       "    <tr>\n",
       "      <th>2767</th>\n",
       "      <td>0</td>\n",
       "      <td>0.111167</td>\n",
       "      <td>0</td>\n",
       "    </tr>\n",
       "    <tr>\n",
       "      <th>2768</th>\n",
       "      <td>0</td>\n",
       "      <td>0.062475</td>\n",
       "      <td>0</td>\n",
       "    </tr>\n",
       "    <tr>\n",
       "      <th>2769</th>\n",
       "      <td>1</td>\n",
       "      <td>0.746449</td>\n",
       "      <td>1</td>\n",
       "    </tr>\n",
       "    <tr>\n",
       "      <th>2770</th>\n",
       "      <td>0</td>\n",
       "      <td>0.023976</td>\n",
       "      <td>0</td>\n",
       "    </tr>\n",
       "  </tbody>\n",
       "</table>\n",
       "<p>2771 rows × 3 columns</p>\n",
       "</div>"
      ],
      "text/plain": [
       "      Converted  Conversion_Prob  final_predicted\n",
       "0             0         0.067886                0\n",
       "1             0         0.058999                0\n",
       "2             0         0.224654                0\n",
       "3             1         0.133779                0\n",
       "4             0         0.183554                0\n",
       "...         ...              ...              ...\n",
       "2766          0         0.330425                0\n",
       "2767          0         0.111167                0\n",
       "2768          0         0.062475                0\n",
       "2769          1         0.746449                1\n",
       "2770          0         0.023976                0\n",
       "\n",
       "[2771 rows x 3 columns]"
      ]
     },
     "execution_count": 880,
     "metadata": {},
     "output_type": "execute_result"
    }
   ],
   "source": [
    "y_pred_final['final_predicted'] = y_pred_final.Conversion_Prob.map(lambda x: 1 if x > 0.35 else 0)\n",
    "y_pred_final"
   ]
  },
  {
   "cell_type": "code",
   "execution_count": 881,
   "metadata": {
    "execution": {
     "iopub.execute_input": "2023-01-21T15:15:00.726465Z",
     "iopub.status.busy": "2023-01-21T15:15:00.726031Z",
     "iopub.status.idle": "2023-01-21T15:15:00.733243Z",
     "shell.execute_reply": "2023-01-21T15:15:00.732431Z",
     "shell.execute_reply.started": "2023-01-21T15:15:00.726437Z"
    }
   },
   "outputs": [
    {
     "data": {
      "text/plain": [
       "0.8163118007939372"
      ]
     },
     "execution_count": 881,
     "metadata": {},
     "output_type": "execute_result"
    }
   ],
   "source": [
    "# Check the overall accuracy\n",
    "metrics.accuracy_score(y_pred_final.Converted, y_pred_final.final_predicted)"
   ]
  },
  {
   "cell_type": "code",
   "execution_count": 882,
   "metadata": {
    "execution": {
     "iopub.execute_input": "2023-01-21T15:15:00.736039Z",
     "iopub.status.busy": "2023-01-21T15:15:00.735176Z",
     "iopub.status.idle": "2023-01-21T15:15:00.744829Z",
     "shell.execute_reply": "2023-01-21T15:15:00.744064Z",
     "shell.execute_reply.started": "2023-01-21T15:15:00.735998Z"
    }
   },
   "outputs": [
    {
     "data": {
      "text/plain": [
       "array([[1410,  291],\n",
       "       [ 218,  852]])"
      ]
     },
     "execution_count": 882,
     "metadata": {},
     "output_type": "execute_result"
    }
   ],
   "source": [
    "# Creating confusion matrix \n",
    "confusion2 = metrics.confusion_matrix(y_pred_final.Converted, y_pred_final.final_predicted )\n",
    "confusion2"
   ]
  },
  {
   "cell_type": "code",
   "execution_count": 883,
   "metadata": {
    "execution": {
     "iopub.execute_input": "2023-01-21T15:15:00.746910Z",
     "iopub.status.busy": "2023-01-21T15:15:00.746308Z",
     "iopub.status.idle": "2023-01-21T15:15:00.751798Z",
     "shell.execute_reply": "2023-01-21T15:15:00.751022Z",
     "shell.execute_reply.started": "2023-01-21T15:15:00.746751Z"
    }
   },
   "outputs": [],
   "source": [
    "# Substituting the value of true positive\n",
    "TP = confusion2[1,1]\n",
    "# Substituting the value of true negatives\n",
    "TN = confusion2[0,0]\n",
    "# Substituting the value of false positives\n",
    "FP = confusion2[0,1] \n",
    "# Substituting the value of false negatives\n",
    "FN = confusion2[1,0]"
   ]
  },
  {
   "cell_type": "code",
   "execution_count": 884,
   "metadata": {
    "execution": {
     "iopub.execute_input": "2023-01-21T15:15:00.753476Z",
     "iopub.status.busy": "2023-01-21T15:15:00.753038Z",
     "iopub.status.idle": "2023-01-21T15:15:00.763658Z",
     "shell.execute_reply": "2023-01-21T15:15:00.762901Z",
     "shell.execute_reply.started": "2023-01-21T15:15:00.753447Z"
    }
   },
   "outputs": [
    {
     "data": {
      "text/plain": [
       "0.7962616822429907"
      ]
     },
     "execution_count": 884,
     "metadata": {},
     "output_type": "execute_result"
    }
   ],
   "source": [
    "# Calculating True positive rate\n",
    "TP/(TP+FN)"
   ]
  },
  {
   "cell_type": "code",
   "execution_count": 885,
   "metadata": {
    "execution": {
     "iopub.execute_input": "2023-01-21T15:15:00.765572Z",
     "iopub.status.busy": "2023-01-21T15:15:00.765034Z",
     "iopub.status.idle": "2023-01-21T15:15:00.775311Z",
     "shell.execute_reply": "2023-01-21T15:15:00.774459Z",
     "shell.execute_reply.started": "2023-01-21T15:15:00.765542Z"
    }
   },
   "outputs": [
    {
     "data": {
      "text/plain": [
       "0.17107583774250446"
      ]
     },
     "execution_count": 885,
     "metadata": {},
     "output_type": "execute_result"
    }
   ],
   "source": [
    "# Calculating the False postive rate\n",
    "1-TN/(TN+FP)"
   ]
  },
  {
   "cell_type": "code",
   "execution_count": 886,
   "metadata": {
    "execution": {
     "iopub.execute_input": "2023-01-21T15:15:00.777288Z",
     "iopub.status.busy": "2023-01-21T15:15:00.776767Z",
     "iopub.status.idle": "2023-01-21T15:15:00.787939Z",
     "shell.execute_reply": "2023-01-21T15:15:00.787132Z",
     "shell.execute_reply.started": "2023-01-21T15:15:00.777257Z"
    }
   },
   "outputs": [
    {
     "data": {
      "text/plain": [
       "array([[3530,  445],\n",
       "       [ 732, 1758]])"
      ]
     },
     "execution_count": 886,
     "metadata": {},
     "output_type": "execute_result"
    }
   ],
   "source": [
    "confusion = metrics.confusion_matrix(y_train_pred_final.Converted, y_train_pred_final.Predicted )\n",
    "confusion"
   ]
  },
  {
   "cell_type": "code",
   "execution_count": 887,
   "metadata": {
    "execution": {
     "iopub.execute_input": "2023-01-21T15:15:00.789869Z",
     "iopub.status.busy": "2023-01-21T15:15:00.789371Z",
     "iopub.status.idle": "2023-01-21T15:15:00.796594Z",
     "shell.execute_reply": "2023-01-21T15:15:00.795860Z",
     "shell.execute_reply.started": "2023-01-21T15:15:00.789838Z"
    }
   },
   "outputs": [
    {
     "data": {
      "text/plain": [
       "0.7454068241469817"
      ]
     },
     "execution_count": 887,
     "metadata": {},
     "output_type": "execute_result"
    }
   ],
   "source": [
    "# Precision \n",
    "TP / (TP + FP)"
   ]
  },
  {
   "cell_type": "code",
   "execution_count": 888,
   "metadata": {
    "execution": {
     "iopub.execute_input": "2023-01-21T15:15:00.798556Z",
     "iopub.status.busy": "2023-01-21T15:15:00.797991Z",
     "iopub.status.idle": "2023-01-21T15:15:00.808011Z",
     "shell.execute_reply": "2023-01-21T15:15:00.807324Z",
     "shell.execute_reply.started": "2023-01-21T15:15:00.798464Z"
    }
   },
   "outputs": [
    {
     "data": {
      "text/plain": [
       "0.7962616822429907"
      ]
     },
     "execution_count": 888,
     "metadata": {},
     "output_type": "execute_result"
    }
   ],
   "source": [
    "#Recall \n",
    "TP /(TP + FN)"
   ]
  },
  {
   "cell_type": "markdown",
   "metadata": {},
   "source": [
    "# Precision-Recall"
   ]
  },
  {
   "cell_type": "code",
   "execution_count": 889,
   "metadata": {
    "execution": {
     "iopub.execute_input": "2023-01-21T15:15:00.809964Z",
     "iopub.status.busy": "2023-01-21T15:15:00.809425Z",
     "iopub.status.idle": "2023-01-21T15:15:00.817293Z",
     "shell.execute_reply": "2023-01-21T15:15:00.816511Z",
     "shell.execute_reply.started": "2023-01-21T15:15:00.809933Z"
    }
   },
   "outputs": [],
   "source": [
    "from sklearn.metrics import precision_recall_curve"
   ]
  },
  {
   "cell_type": "code",
   "execution_count": 890,
   "metadata": {
    "execution": {
     "iopub.execute_input": "2023-01-21T15:15:00.818870Z",
     "iopub.status.busy": "2023-01-21T15:15:00.818445Z",
     "iopub.status.idle": "2023-01-21T15:15:00.832412Z",
     "shell.execute_reply": "2023-01-21T15:15:00.830963Z",
     "shell.execute_reply.started": "2023-01-21T15:15:00.818845Z"
    }
   },
   "outputs": [],
   "source": [
    "p, r, thresholds = precision_recall_curve(y_train_pred_final.Converted, y_train_pred_final.Conversion_Prob)"
   ]
  },
  {
   "cell_type": "code",
   "execution_count": 891,
   "metadata": {
    "execution": {
     "iopub.execute_input": "2023-01-21T15:15:00.834029Z",
     "iopub.status.busy": "2023-01-21T15:15:00.833688Z",
     "iopub.status.idle": "2023-01-21T15:15:00.969634Z",
     "shell.execute_reply": "2023-01-21T15:15:00.968585Z",
     "shell.execute_reply.started": "2023-01-21T15:15:00.833991Z"
    }
   },
   "outputs": [
    {
     "data": {
      "image/png": "[encoded data removed]",
      "text/plain": [
       "<Figure size 432x288 with 1 Axes>"
      ]
     },
     "metadata": {
      "needs_background": "light"
     },
     "output_type": "display_data"
    }
   ],
   "source": [
    "plt.plot(thresholds, p[:-1], \"g-\")\n",
    "plt.plot(thresholds, r[:-1], \"r-\")\n",
    "plt.show()"
   ]
  },
  {
   "cell_type": "code",
   "execution_count": 892,
   "metadata": {
    "execution": {
     "iopub.execute_input": "2023-01-21T15:15:00.971771Z",
     "iopub.status.busy": "2023-01-21T15:15:00.971157Z",
     "iopub.status.idle": "2023-01-21T15:15:00.989217Z",
     "shell.execute_reply": "2023-01-21T15:15:00.988490Z",
     "shell.execute_reply.started": "2023-01-21T15:15:00.971739Z"
    }
   },
   "outputs": [
    {
     "data": {
      "text/html": [
       "<div>\n",
       "<style scoped>\n",
       "    .dataframe tbody tr th:only-of-type {\n",
       "        vertical-align: middle;\n",
       "    }\n",
       "\n",
       "    .dataframe tbody tr th {\n",
       "        vertical-align: top;\n",
       "    }\n",
       "\n",
       "    .dataframe thead th {\n",
       "        text-align: right;\n",
       "    }\n",
       "</style>\n",
       "<table border=\"1\" class=\"dataframe\">\n",
       "  <thead>\n",
       "    <tr style=\"text-align: right;\">\n",
       "      <th></th>\n",
       "      <th>Converted</th>\n",
       "      <th>Conversion_Prob</th>\n",
       "      <th>Predicted</th>\n",
       "      <th>0.0</th>\n",
       "      <th>0.1</th>\n",
       "      <th>0.2</th>\n",
       "      <th>0.3</th>\n",
       "      <th>0.4</th>\n",
       "      <th>0.5</th>\n",
       "      <th>0.6</th>\n",
       "      <th>0.7</th>\n",
       "      <th>0.8</th>\n",
       "      <th>0.9</th>\n",
       "      <th>final_predicted</th>\n",
       "    </tr>\n",
       "  </thead>\n",
       "  <tbody>\n",
       "    <tr>\n",
       "      <th>0</th>\n",
       "      <td>1</td>\n",
       "      <td>0.982073</td>\n",
       "      <td>1</td>\n",
       "      <td>1</td>\n",
       "      <td>1</td>\n",
       "      <td>1</td>\n",
       "      <td>1</td>\n",
       "      <td>1</td>\n",
       "      <td>1</td>\n",
       "      <td>1</td>\n",
       "      <td>1</td>\n",
       "      <td>1</td>\n",
       "      <td>1</td>\n",
       "      <td>1</td>\n",
       "    </tr>\n",
       "    <tr>\n",
       "      <th>1</th>\n",
       "      <td>1</td>\n",
       "      <td>0.862326</td>\n",
       "      <td>1</td>\n",
       "      <td>1</td>\n",
       "      <td>1</td>\n",
       "      <td>1</td>\n",
       "      <td>1</td>\n",
       "      <td>1</td>\n",
       "      <td>1</td>\n",
       "      <td>1</td>\n",
       "      <td>1</td>\n",
       "      <td>1</td>\n",
       "      <td>0</td>\n",
       "      <td>1</td>\n",
       "    </tr>\n",
       "    <tr>\n",
       "      <th>2</th>\n",
       "      <td>1</td>\n",
       "      <td>0.817955</td>\n",
       "      <td>1</td>\n",
       "      <td>1</td>\n",
       "      <td>1</td>\n",
       "      <td>1</td>\n",
       "      <td>1</td>\n",
       "      <td>1</td>\n",
       "      <td>1</td>\n",
       "      <td>1</td>\n",
       "      <td>1</td>\n",
       "      <td>1</td>\n",
       "      <td>0</td>\n",
       "      <td>1</td>\n",
       "    </tr>\n",
       "    <tr>\n",
       "      <th>3</th>\n",
       "      <td>0</td>\n",
       "      <td>0.096265</td>\n",
       "      <td>0</td>\n",
       "      <td>1</td>\n",
       "      <td>0</td>\n",
       "      <td>0</td>\n",
       "      <td>0</td>\n",
       "      <td>0</td>\n",
       "      <td>0</td>\n",
       "      <td>0</td>\n",
       "      <td>0</td>\n",
       "      <td>0</td>\n",
       "      <td>0</td>\n",
       "      <td>0</td>\n",
       "    </tr>\n",
       "    <tr>\n",
       "      <th>4</th>\n",
       "      <td>1</td>\n",
       "      <td>0.073267</td>\n",
       "      <td>0</td>\n",
       "      <td>1</td>\n",
       "      <td>0</td>\n",
       "      <td>0</td>\n",
       "      <td>0</td>\n",
       "      <td>0</td>\n",
       "      <td>0</td>\n",
       "      <td>0</td>\n",
       "      <td>0</td>\n",
       "      <td>0</td>\n",
       "      <td>0</td>\n",
       "      <td>0</td>\n",
       "    </tr>\n",
       "  </tbody>\n",
       "</table>\n",
       "</div>"
      ],
      "text/plain": [
       "   Converted  Conversion_Prob  Predicted  0.0  0.1  0.2  0.3  0.4  0.5  0.6  \\\n",
       "0          1         0.982073          1    1    1    1    1    1    1    1   \n",
       "1          1         0.862326          1    1    1    1    1    1    1    1   \n",
       "2          1         0.817955          1    1    1    1    1    1    1    1   \n",
       "3          0         0.096265          0    1    0    0    0    0    0    0   \n",
       "4          1         0.073267          0    1    0    0    0    0    0    0   \n",
       "\n",
       "   0.7  0.8  0.9  final_predicted  \n",
       "0    1    1    1                1  \n",
       "1    1    1    0                1  \n",
       "2    1    1    0                1  \n",
       "3    0    0    0                0  \n",
       "4    0    0    0                0  "
      ]
     },
     "execution_count": 892,
     "metadata": {},
     "output_type": "execute_result"
    }
   ],
   "source": [
    "y_train_pred_final['final_predicted'] = y_train_pred_final.Conversion_Prob.map(lambda x: 1 if x > 0.41 else 0)\n",
    "y_train_pred_final.head()"
   ]
  },
  {
   "cell_type": "code",
   "execution_count": 893,
   "metadata": {
    "execution": {
     "iopub.execute_input": "2023-01-21T15:15:00.991122Z",
     "iopub.status.busy": "2023-01-21T15:15:00.990380Z",
     "iopub.status.idle": "2023-01-21T15:15:01.007647Z",
     "shell.execute_reply": "2023-01-21T15:15:01.006276Z",
     "shell.execute_reply.started": "2023-01-21T15:15:00.991094Z"
    }
   },
   "outputs": [
    {
     "data": {
      "text/plain": [
       "0.8100541376643465"
      ]
     },
     "execution_count": 893,
     "metadata": {},
     "output_type": "execute_result"
    }
   ],
   "source": [
    "# Accuracy\n",
    "metrics.accuracy_score(y_train_pred_final.Converted, y_train_pred_final.final_predicted)\n"
   ]
  },
  {
   "cell_type": "code",
   "execution_count": 894,
   "metadata": {
    "execution": {
     "iopub.execute_input": "2023-01-21T15:15:01.009245Z",
     "iopub.status.busy": "2023-01-21T15:15:01.008930Z",
     "iopub.status.idle": "2023-01-21T15:15:01.020763Z",
     "shell.execute_reply": "2023-01-21T15:15:01.019626Z",
     "shell.execute_reply.started": "2023-01-21T15:15:01.009218Z"
    }
   },
   "outputs": [
    {
     "data": {
      "text/plain": [
       "array([[3329,  646],\n",
       "       [ 582, 1908]])"
      ]
     },
     "execution_count": 894,
     "metadata": {},
     "output_type": "execute_result"
    }
   ],
   "source": [
    "# Creating confusion matrix again\n",
    "confusion2 = metrics.confusion_matrix(y_train_pred_final.Converted, y_train_pred_final.final_predicted )\n",
    "confusion2"
   ]
  },
  {
   "cell_type": "code",
   "execution_count": 895,
   "metadata": {
    "execution": {
     "iopub.execute_input": "2023-01-21T15:15:01.022702Z",
     "iopub.status.busy": "2023-01-21T15:15:01.021782Z",
     "iopub.status.idle": "2023-01-21T15:15:01.029722Z",
     "shell.execute_reply": "2023-01-21T15:15:01.028413Z",
     "shell.execute_reply.started": "2023-01-21T15:15:01.022666Z"
    }
   },
   "outputs": [],
   "source": [
    "# Substituting the value of true positive\n",
    "TP = confusion2[1,1]\n",
    "# Substituting the value of true negatives\n",
    "TN = confusion2[0,0]\n",
    "# Substituting the value of false positives\n",
    "FP = confusion2[0,1] \n",
    "# Substituting the value of false negatives\n",
    "FN = confusion2[1,0]"
   ]
  },
  {
   "cell_type": "code",
   "execution_count": 896,
   "metadata": {
    "execution": {
     "iopub.execute_input": "2023-01-21T15:15:01.031431Z",
     "iopub.status.busy": "2023-01-21T15:15:01.031120Z",
     "iopub.status.idle": "2023-01-21T15:15:01.041208Z",
     "shell.execute_reply": "2023-01-21T15:15:01.040480Z",
     "shell.execute_reply.started": "2023-01-21T15:15:01.031406Z"
    }
   },
   "outputs": [
    {
     "data": {
      "text/plain": [
       "0.7470634299138607"
      ]
     },
     "execution_count": 896,
     "metadata": {},
     "output_type": "execute_result"
    }
   ],
   "source": [
    "# Precision = TP / TP + FP\n",
    "TP / (TP + FP)\n"
   ]
  },
  {
   "cell_type": "code",
   "execution_count": 897,
   "metadata": {
    "execution": {
     "iopub.execute_input": "2023-01-21T15:15:01.042992Z",
     "iopub.status.busy": "2023-01-21T15:15:01.042459Z",
     "iopub.status.idle": "2023-01-21T15:15:01.054270Z",
     "shell.execute_reply": "2023-01-21T15:15:01.053528Z",
     "shell.execute_reply.started": "2023-01-21T15:15:01.042964Z"
    }
   },
   "outputs": [
    {
     "data": {
      "text/plain": [
       "0.7662650602409639"
      ]
     },
     "execution_count": 897,
     "metadata": {},
     "output_type": "execute_result"
    }
   ],
   "source": [
    "#Recall = TP / TP + FN\n",
    "TP / (TP + FN)"
   ]
  },
  {
   "cell_type": "markdown",
   "metadata": {},
   "source": [
    "# Precision-Recall for Test Data"
   ]
  },
  {
   "cell_type": "code",
   "execution_count": 898,
   "metadata": {
    "execution": {
     "iopub.execute_input": "2023-01-21T15:15:01.056245Z",
     "iopub.status.busy": "2023-01-21T15:15:01.055728Z",
     "iopub.status.idle": "2023-01-21T15:15:01.099838Z",
     "shell.execute_reply": "2023-01-21T15:15:01.099082Z",
     "shell.execute_reply.started": "2023-01-21T15:15:01.056207Z"
    }
   },
   "outputs": [
    {
     "data": {
      "text/html": [
       "<div>\n",
       "<style scoped>\n",
       "    .dataframe tbody tr th:only-of-type {\n",
       "        vertical-align: middle;\n",
       "    }\n",
       "\n",
       "    .dataframe tbody tr th {\n",
       "        vertical-align: top;\n",
       "    }\n",
       "\n",
       "    .dataframe thead th {\n",
       "        text-align: right;\n",
       "    }\n",
       "</style>\n",
       "<table border=\"1\" class=\"dataframe\">\n",
       "  <thead>\n",
       "    <tr style=\"text-align: right;\">\n",
       "      <th></th>\n",
       "      <th>Converted</th>\n",
       "      <th>Conversion_Prob</th>\n",
       "    </tr>\n",
       "  </thead>\n",
       "  <tbody>\n",
       "    <tr>\n",
       "      <th>0</th>\n",
       "      <td>0</td>\n",
       "      <td>0.067886</td>\n",
       "    </tr>\n",
       "    <tr>\n",
       "      <th>1</th>\n",
       "      <td>0</td>\n",
       "      <td>0.058999</td>\n",
       "    </tr>\n",
       "    <tr>\n",
       "      <th>2</th>\n",
       "      <td>0</td>\n",
       "      <td>0.224654</td>\n",
       "    </tr>\n",
       "    <tr>\n",
       "      <th>3</th>\n",
       "      <td>1</td>\n",
       "      <td>0.133779</td>\n",
       "    </tr>\n",
       "    <tr>\n",
       "      <th>4</th>\n",
       "      <td>0</td>\n",
       "      <td>0.183554</td>\n",
       "    </tr>\n",
       "  </tbody>\n",
       "</table>\n",
       "</div>"
      ],
      "text/plain": [
       "   Converted  Conversion_Prob\n",
       "0          0         0.067886\n",
       "1          0         0.058999\n",
       "2          0         0.224654\n",
       "3          1         0.133779\n",
       "4          0         0.183554"
      ]
     },
     "execution_count": 898,
     "metadata": {},
     "output_type": "execute_result"
    }
   ],
   "source": [
    "# Storing prediction of test set in the variable 'y_test_pred'\n",
    "y_test_pred = logm5.fit().predict(X_test_sm)\n",
    "# Coverting it to df\n",
    "y_pred_df = pd.DataFrame(y_test_pred)\n",
    "# Converting y_test to dataframe\n",
    "y_test_df = pd.DataFrame(y_test)\n",
    "# Remove index for both dataframes to append them side by side \n",
    "y_pred_df.reset_index(drop=True, inplace=True)\n",
    "y_test_df.reset_index(drop=True, inplace=True)\n",
    "# Append y_test_df and y_pred_df\n",
    "y_pred_final = pd.concat([y_test_df, y_pred_df],axis=1)\n",
    "# Renaming column \n",
    "y_pred_final= y_pred_final.rename(columns = {0 : 'Conversion_Prob'})\n",
    "y_pred_final.head()"
   ]
  },
  {
   "cell_type": "code",
   "execution_count": 899,
   "metadata": {
    "execution": {
     "iopub.execute_input": "2023-01-21T15:15:01.101767Z",
     "iopub.status.busy": "2023-01-21T15:15:01.101234Z",
     "iopub.status.idle": "2023-01-21T15:15:01.117867Z",
     "shell.execute_reply": "2023-01-21T15:15:01.117035Z",
     "shell.execute_reply.started": "2023-01-21T15:15:01.101735Z"
    }
   },
   "outputs": [
    {
     "data": {
      "text/html": [
       "<div>\n",
       "<style scoped>\n",
       "    .dataframe tbody tr th:only-of-type {\n",
       "        vertical-align: middle;\n",
       "    }\n",
       "\n",
       "    .dataframe tbody tr th {\n",
       "        vertical-align: top;\n",
       "    }\n",
       "\n",
       "    .dataframe thead th {\n",
       "        text-align: right;\n",
       "    }\n",
       "</style>\n",
       "<table border=\"1\" class=\"dataframe\">\n",
       "  <thead>\n",
       "    <tr style=\"text-align: right;\">\n",
       "      <th></th>\n",
       "      <th>Converted</th>\n",
       "      <th>Conversion_Prob</th>\n",
       "      <th>final_predicted</th>\n",
       "    </tr>\n",
       "  </thead>\n",
       "  <tbody>\n",
       "    <tr>\n",
       "      <th>0</th>\n",
       "      <td>0</td>\n",
       "      <td>0.067886</td>\n",
       "      <td>0</td>\n",
       "    </tr>\n",
       "    <tr>\n",
       "      <th>1</th>\n",
       "      <td>0</td>\n",
       "      <td>0.058999</td>\n",
       "      <td>0</td>\n",
       "    </tr>\n",
       "    <tr>\n",
       "      <th>2</th>\n",
       "      <td>0</td>\n",
       "      <td>0.224654</td>\n",
       "      <td>0</td>\n",
       "    </tr>\n",
       "    <tr>\n",
       "      <th>3</th>\n",
       "      <td>1</td>\n",
       "      <td>0.133779</td>\n",
       "      <td>0</td>\n",
       "    </tr>\n",
       "    <tr>\n",
       "      <th>4</th>\n",
       "      <td>0</td>\n",
       "      <td>0.183554</td>\n",
       "      <td>0</td>\n",
       "    </tr>\n",
       "    <tr>\n",
       "      <th>...</th>\n",
       "      <td>...</td>\n",
       "      <td>...</td>\n",
       "      <td>...</td>\n",
       "    </tr>\n",
       "    <tr>\n",
       "      <th>2766</th>\n",
       "      <td>0</td>\n",
       "      <td>0.330425</td>\n",
       "      <td>0</td>\n",
       "    </tr>\n",
       "    <tr>\n",
       "      <th>2767</th>\n",
       "      <td>0</td>\n",
       "      <td>0.111167</td>\n",
       "      <td>0</td>\n",
       "    </tr>\n",
       "    <tr>\n",
       "      <th>2768</th>\n",
       "      <td>0</td>\n",
       "      <td>0.062475</td>\n",
       "      <td>0</td>\n",
       "    </tr>\n",
       "    <tr>\n",
       "      <th>2769</th>\n",
       "      <td>1</td>\n",
       "      <td>0.746449</td>\n",
       "      <td>1</td>\n",
       "    </tr>\n",
       "    <tr>\n",
       "      <th>2770</th>\n",
       "      <td>0</td>\n",
       "      <td>0.023976</td>\n",
       "      <td>0</td>\n",
       "    </tr>\n",
       "  </tbody>\n",
       "</table>\n",
       "<p>2771 rows × 3 columns</p>\n",
       "</div>"
      ],
      "text/plain": [
       "      Converted  Conversion_Prob  final_predicted\n",
       "0             0         0.067886                0\n",
       "1             0         0.058999                0\n",
       "2             0         0.224654                0\n",
       "3             1         0.133779                0\n",
       "4             0         0.183554                0\n",
       "...         ...              ...              ...\n",
       "2766          0         0.330425                0\n",
       "2767          0         0.111167                0\n",
       "2768          0         0.062475                0\n",
       "2769          1         0.746449                1\n",
       "2770          0         0.023976                0\n",
       "\n",
       "[2771 rows x 3 columns]"
      ]
     },
     "execution_count": 899,
     "metadata": {},
     "output_type": "execute_result"
    }
   ],
   "source": [
    "# Making prediction using cut off 0.41\n",
    "y_pred_final['final_predicted'] = y_pred_final.Conversion_Prob.map(lambda x: 1 if x > 0.41 else 0)\n",
    "y_pred_final"
   ]
  },
  {
   "cell_type": "code",
   "execution_count": 900,
   "metadata": {
    "execution": {
     "iopub.execute_input": "2023-01-21T15:15:01.119894Z",
     "iopub.status.busy": "2023-01-21T15:15:01.119302Z",
     "iopub.status.idle": "2023-01-21T15:15:01.126669Z",
     "shell.execute_reply": "2023-01-21T15:15:01.125856Z",
     "shell.execute_reply.started": "2023-01-21T15:15:01.119861Z"
    }
   },
   "outputs": [
    {
     "data": {
      "text/plain": [
       "0.8195597257307831"
      ]
     },
     "execution_count": 900,
     "metadata": {},
     "output_type": "execute_result"
    }
   ],
   "source": [
    "# Check the overall accuracy\n",
    "metrics.accuracy_score(y_pred_final['Converted'], y_pred_final.final_predicted)"
   ]
  },
  {
   "cell_type": "code",
   "execution_count": 901,
   "metadata": {
    "execution": {
     "iopub.execute_input": "2023-01-21T15:15:01.128756Z",
     "iopub.status.busy": "2023-01-21T15:15:01.128190Z",
     "iopub.status.idle": "2023-01-21T15:15:01.139243Z",
     "shell.execute_reply": "2023-01-21T15:15:01.138373Z",
     "shell.execute_reply.started": "2023-01-21T15:15:01.128726Z"
    }
   },
   "outputs": [
    {
     "data": {
      "text/plain": [
       "array([[1464,  237],\n",
       "       [ 263,  807]])"
      ]
     },
     "execution_count": 901,
     "metadata": {},
     "output_type": "execute_result"
    }
   ],
   "source": [
    "# Creating confusion matrix \n",
    "confusion2 = metrics.confusion_matrix(y_pred_final['Converted'], y_pred_final.final_predicted )\n",
    "confusion2"
   ]
  },
  {
   "cell_type": "code",
   "execution_count": 902,
   "metadata": {
    "execution": {
     "iopub.execute_input": "2023-01-21T15:15:01.141570Z",
     "iopub.status.busy": "2023-01-21T15:15:01.141010Z",
     "iopub.status.idle": "2023-01-21T15:15:01.147328Z",
     "shell.execute_reply": "2023-01-21T15:15:01.146385Z",
     "shell.execute_reply.started": "2023-01-21T15:15:01.141535Z"
    }
   },
   "outputs": [],
   "source": [
    "# Substituting the value of true positive\n",
    "TP = confusion2[1,1]\n",
    "# Substituting the value of true negatives\n",
    "TN = confusion2[0,0]\n",
    "# Substituting the value of false positives\n",
    "FP = confusion2[0,1] \n",
    "# Substituting the value of false negatives\n",
    "FN = confusion2[1,0]"
   ]
  },
  {
   "cell_type": "code",
   "execution_count": 903,
   "metadata": {
    "execution": {
     "iopub.execute_input": "2023-01-21T15:15:01.149497Z",
     "iopub.status.busy": "2023-01-21T15:15:01.148905Z",
     "iopub.status.idle": "2023-01-21T15:15:01.160253Z",
     "shell.execute_reply": "2023-01-21T15:15:01.159382Z",
     "shell.execute_reply.started": "2023-01-21T15:15:01.149463Z"
    }
   },
   "outputs": [
    {
     "data": {
      "text/plain": [
       "0.7729885057471264"
      ]
     },
     "execution_count": 903,
     "metadata": {},
     "output_type": "execute_result"
    }
   ],
   "source": [
    "# Precision = TP / TP + FP\n",
    "TP / (TP + FP)"
   ]
  },
  {
   "cell_type": "code",
   "execution_count": 904,
   "metadata": {
    "execution": {
     "iopub.execute_input": "2023-01-21T15:15:01.162375Z",
     "iopub.status.busy": "2023-01-21T15:15:01.161815Z",
     "iopub.status.idle": "2023-01-21T15:15:01.175068Z",
     "shell.execute_reply": "2023-01-21T15:15:01.174260Z",
     "shell.execute_reply.started": "2023-01-21T15:15:01.162342Z"
    }
   },
   "outputs": [
    {
     "data": {
      "text/plain": [
       "0.7542056074766356"
      ]
     },
     "execution_count": 904,
     "metadata": {},
     "output_type": "execute_result"
    }
   ],
   "source": [
    "#Recall = TP / TP + FN\n",
    "TP / (TP + FN)"
   ]
  }
 ],
 "metadata": {
  "kernelspec": {
   "display_name": "Python 3 (ipykernel)",
   "language": "python",
   "name": "python3"
  },
  "language_info": {
   "codemirror_mode": {
    "name": "ipython",
    "version": 3
   },
   "file_extension": ".py",
   "mimetype": "text/x-python",
   "name": "python",
   "nbconvert_exporter": "python",
   "pygments_lexer": "ipython3",
   "version": "3.9.13"
  }
 },
 "nbformat": 4,
 "nbformat_minor": 4
}
